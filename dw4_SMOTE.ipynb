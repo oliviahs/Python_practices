{
 "cells": [
  {
   "cell_type": "code",
   "execution_count": 1,
   "id": "1854fca2",
   "metadata": {},
   "outputs": [],
   "source": [
    "import pandas as pd\n",
    "import numpy as np\n",
    "import warnings\n",
    "warnings.filterwarnings('ignore')\n",
    "import matplotlib.pyplot as plt\n",
    "import seaborn as sns"
   ]
  },
  {
   "cell_type": "code",
   "execution_count": 2,
   "id": "51ae0978",
   "metadata": {},
   "outputs": [],
   "source": [
    "df = pd.read_csv('finaldf.csv')"
   ]
  },
  {
   "cell_type": "code",
   "execution_count": 3,
   "id": "1a5a90e4",
   "metadata": {},
   "outputs": [
    {
     "data": {
      "text/html": [
       "<div>\n",
       "<style scoped>\n",
       "    .dataframe tbody tr th:only-of-type {\n",
       "        vertical-align: middle;\n",
       "    }\n",
       "\n",
       "    .dataframe tbody tr th {\n",
       "        vertical-align: top;\n",
       "    }\n",
       "\n",
       "    .dataframe thead th {\n",
       "        text-align: right;\n",
       "    }\n",
       "</style>\n",
       "<table border=\"1\" class=\"dataframe\">\n",
       "  <thead>\n",
       "    <tr style=\"text-align: right;\">\n",
       "      <th></th>\n",
       "      <th>Index No</th>\n",
       "      <th>Organization</th>\n",
       "      <th>Gender</th>\n",
       "      <th>Nationality</th>\n",
       "      <th>Hire Date</th>\n",
       "      <th>DS Location</th>\n",
       "      <th>DS Country</th>\n",
       "      <th>Family/Non-Family</th>\n",
       "      <th>Position_Count</th>\n",
       "      <th>Years of Service</th>\n",
       "      <th>...</th>\n",
       "      <th>Suspension</th>\n",
       "      <th>Temp Assignment</th>\n",
       "      <th>Termination</th>\n",
       "      <th>Transfer</th>\n",
       "      <th>Travel for Appointment</th>\n",
       "      <th>Travel for Re-Appointment</th>\n",
       "      <th>Unknown</th>\n",
       "      <th>Update(Local Staff)</th>\n",
       "      <th>Performance_mean</th>\n",
       "      <th>Difference_incumbent</th>\n",
       "    </tr>\n",
       "  </thead>\n",
       "  <tbody>\n",
       "    <tr>\n",
       "      <th>0</th>\n",
       "      <td>AAAAAZ</td>\n",
       "      <td>UNICEF</td>\n",
       "      <td>Male</td>\n",
       "      <td>Equatorial Guinea</td>\n",
       "      <td>2015-04-15</td>\n",
       "      <td>Bata</td>\n",
       "      <td>Equatorial Guinea</td>\n",
       "      <td>F</td>\n",
       "      <td>2</td>\n",
       "      <td>5</td>\n",
       "      <td>...</td>\n",
       "      <td>0</td>\n",
       "      <td>0</td>\n",
       "      <td>0</td>\n",
       "      <td>0</td>\n",
       "      <td>0</td>\n",
       "      <td>0</td>\n",
       "      <td>0</td>\n",
       "      <td>0</td>\n",
       "      <td>3.0</td>\n",
       "      <td>0</td>\n",
       "    </tr>\n",
       "    <tr>\n",
       "      <th>1</th>\n",
       "      <td>AAADK</td>\n",
       "      <td>UNICEF</td>\n",
       "      <td>Female</td>\n",
       "      <td>Cote d'Ivoire</td>\n",
       "      <td>2009-08-24</td>\n",
       "      <td>Man</td>\n",
       "      <td>Cote D'Ivoire</td>\n",
       "      <td>N</td>\n",
       "      <td>4</td>\n",
       "      <td>11</td>\n",
       "      <td>...</td>\n",
       "      <td>0</td>\n",
       "      <td>0</td>\n",
       "      <td>0</td>\n",
       "      <td>0</td>\n",
       "      <td>0</td>\n",
       "      <td>0</td>\n",
       "      <td>2</td>\n",
       "      <td>0</td>\n",
       "      <td>3.0</td>\n",
       "      <td>5</td>\n",
       "    </tr>\n",
       "    <tr>\n",
       "      <th>2</th>\n",
       "      <td>AAAKFZ</td>\n",
       "      <td>UNICEF</td>\n",
       "      <td>Female</td>\n",
       "      <td>Paraguay</td>\n",
       "      <td>2015-04-15</td>\n",
       "      <td>Asuncion</td>\n",
       "      <td>Paraguay</td>\n",
       "      <td>F</td>\n",
       "      <td>2</td>\n",
       "      <td>5</td>\n",
       "      <td>...</td>\n",
       "      <td>0</td>\n",
       "      <td>0</td>\n",
       "      <td>0</td>\n",
       "      <td>0</td>\n",
       "      <td>0</td>\n",
       "      <td>0</td>\n",
       "      <td>0</td>\n",
       "      <td>0</td>\n",
       "      <td>3.0</td>\n",
       "      <td>0</td>\n",
       "    </tr>\n",
       "    <tr>\n",
       "      <th>3</th>\n",
       "      <td>AAAKKD</td>\n",
       "      <td>UNDP</td>\n",
       "      <td>Male</td>\n",
       "      <td>Kenya</td>\n",
       "      <td>2008-03-13</td>\n",
       "      <td>Nairobi</td>\n",
       "      <td>Kenya</td>\n",
       "      <td>F</td>\n",
       "      <td>2</td>\n",
       "      <td>11</td>\n",
       "      <td>...</td>\n",
       "      <td>0</td>\n",
       "      <td>0</td>\n",
       "      <td>0</td>\n",
       "      <td>1</td>\n",
       "      <td>0</td>\n",
       "      <td>0</td>\n",
       "      <td>0</td>\n",
       "      <td>0</td>\n",
       "      <td>4.0</td>\n",
       "      <td>2</td>\n",
       "    </tr>\n",
       "    <tr>\n",
       "      <th>4</th>\n",
       "      <td>AAAKXX</td>\n",
       "      <td>UNICEF</td>\n",
       "      <td>Male</td>\n",
       "      <td>United Kingdom</td>\n",
       "      <td>2010-09-06</td>\n",
       "      <td>Beirut</td>\n",
       "      <td>Lebanon</td>\n",
       "      <td>F</td>\n",
       "      <td>1</td>\n",
       "      <td>10</td>\n",
       "      <td>...</td>\n",
       "      <td>0</td>\n",
       "      <td>0</td>\n",
       "      <td>0</td>\n",
       "      <td>0</td>\n",
       "      <td>0</td>\n",
       "      <td>0</td>\n",
       "      <td>0</td>\n",
       "      <td>0</td>\n",
       "      <td>3.0</td>\n",
       "      <td>0</td>\n",
       "    </tr>\n",
       "  </tbody>\n",
       "</table>\n",
       "<p>5 rows × 75 columns</p>\n",
       "</div>"
      ],
      "text/plain": [
       "  Index No Organization  Gender        Nationality   Hire Date DS Location  \\\n",
       "0   AAAAAZ       UNICEF    Male  Equatorial Guinea  2015-04-15        Bata   \n",
       "1    AAADK       UNICEF  Female      Cote d'Ivoire  2009-08-24         Man   \n",
       "2   AAAKFZ       UNICEF  Female           Paraguay  2015-04-15    Asuncion   \n",
       "3   AAAKKD         UNDP    Male              Kenya  2008-03-13     Nairobi   \n",
       "4   AAAKXX       UNICEF    Male     United Kingdom  2010-09-06      Beirut   \n",
       "\n",
       "          DS Country Family/Non-Family  Position_Count  Years of Service  ...  \\\n",
       "0  Equatorial Guinea                 F               2                 5  ...   \n",
       "1      Cote D'Ivoire                 N               4                11  ...   \n",
       "2           Paraguay                 F               2                 5  ...   \n",
       "3              Kenya                 F               2                11  ...   \n",
       "4            Lebanon                 F               1                10  ...   \n",
       "\n",
       "   Suspension  Temp Assignment  Termination  Transfer  Travel for Appointment  \\\n",
       "0           0                0            0         0                       0   \n",
       "1           0                0            0         0                       0   \n",
       "2           0                0            0         0                       0   \n",
       "3           0                0            0         1                       0   \n",
       "4           0                0            0         0                       0   \n",
       "\n",
       "   Travel for Re-Appointment  Unknown  Update(Local Staff)  Performance_mean  \\\n",
       "0                          0        0                    0               3.0   \n",
       "1                          0        2                    0               3.0   \n",
       "2                          0        0                    0               3.0   \n",
       "3                          0        0                    0               4.0   \n",
       "4                          0        0                    0               3.0   \n",
       "\n",
       "   Difference_incumbent  \n",
       "0                     0  \n",
       "1                     5  \n",
       "2                     0  \n",
       "3                     2  \n",
       "4                     0  \n",
       "\n",
       "[5 rows x 75 columns]"
      ]
     },
     "execution_count": 3,
     "metadata": {},
     "output_type": "execute_result"
    }
   ],
   "source": [
    "df.head()"
   ]
  },
  {
   "cell_type": "code",
   "execution_count": 4,
   "id": "1c47aed8",
   "metadata": {
    "scrolled": false
   },
   "outputs": [
    {
     "name": "stdout",
     "output_type": "stream",
     "text": [
      "<class 'pandas.core.frame.DataFrame'>\n",
      "RangeIndex: 15090 entries, 0 to 15089\n",
      "Data columns (total 75 columns):\n",
      " #   Column                          Non-Null Count  Dtype  \n",
      "---  ------                          --------------  -----  \n",
      " 0   Index No                        15090 non-null  object \n",
      " 1   Organization                    15090 non-null  object \n",
      " 2   Gender                          15090 non-null  object \n",
      " 3   Nationality                     15090 non-null  object \n",
      " 4   Hire Date                       15090 non-null  object \n",
      " 5   DS Location                     15090 non-null  object \n",
      " 6   DS Country                      15090 non-null  object \n",
      " 7   Family/Non-Family               15090 non-null  object \n",
      " 8   Position_Count                  15090 non-null  int64  \n",
      " 9   Years of Service                15090 non-null  int64  \n",
      " 10  Age                             15090 non-null  float64\n",
      " 11  Hardship_min                    15090 non-null  float64\n",
      " 12  Hardship_median                 15090 non-null  float64\n",
      " 13  Hardship_max                    15090 non-null  float64\n",
      " 14  Min_Incumbent                   15090 non-null  int64  \n",
      " 15  Max_Incumbent                   15090 non-null  int64  \n",
      " 16  Add Contingent Worker           15090 non-null  int64  \n",
      " 17  Additional Job                  15090 non-null  int64  \n",
      " 18  CSL Half Pay Only               15090 non-null  int64  \n",
      " 19  Category Change                 15090 non-null  int64  \n",
      " 20  Change Employment Percentage    15090 non-null  int64  \n",
      " 21  Change Personal Data            15090 non-null  int64  \n",
      " 22  Change in Grade                 15090 non-null  int64  \n",
      " 23  Change in Pay                   15090 non-null  int64  \n",
      " 24  Contract Change                 15090 non-null  int64  \n",
      " 25  Correct Staff Birth Date        15090 non-null  int64  \n",
      " 26  Correct staff birth date        15090 non-null  int64  \n",
      " 27  Corrected Entry Date            15090 non-null  int64  \n",
      " 28  Create Fam Member/Dependents    15090 non-null  int64  \n",
      " 29  Data Change                     15090 non-null  int64  \n",
      " 30  Demotion                        15090 non-null  int64  \n",
      " 31  Double Incumbency               15090 non-null  int64  \n",
      " 32  Entry into UNJSPF               15090 non-null  int64  \n",
      " 33  Family Status Change            15090 non-null  int64  \n",
      " 34  Grant Maternity/Paternity Leav  15090 non-null  int64  \n",
      " 35  HR Conversion                   15090 non-null  int64  \n",
      " 36  Hire                            15090 non-null  int64  \n",
      " 37  Incorrect Entry Date            15090 non-null  int64  \n",
      " 38  Initial Appt - Pernr exist      15090 non-null  int64  \n",
      " 39  Initial appointment             15090 non-null  int64  \n",
      " 40  Lateral Move                    15090 non-null  int64  \n",
      " 41  Lateral Move - Loan             15090 non-null  int64  \n",
      " 42  Leave of Absence                15090 non-null  int64  \n",
      " 43  Local Transfer to SAP           15090 non-null  int64  \n",
      " 44  Long Term Absence               15090 non-null  int64  \n",
      " 45  Long Term Absence without pay   15090 non-null  int64  \n",
      " 46  Long Term Adsence without pay   15090 non-null  int64  \n",
      " 47  M&HA                            15090 non-null  int64  \n",
      " 48  Organizational Mgmt Change      15090 non-null  int64  \n",
      " 49  Paid Leave of Absence           15090 non-null  int64  \n",
      " 50  Pay Rate Change                 15090 non-null  int64  \n",
      " 51  Position Change                 15090 non-null  int64  \n",
      " 52  Promotion                       15090 non-null  int64  \n",
      " 53  Reappointment                   15090 non-null  int64  \n",
      " 54  Reappointment - LOCAL           15090 non-null  int64  \n",
      " 55  Reappointment - Travel          15090 non-null  int64  \n",
      " 56  Reassignment                    15090 non-null  int64  \n",
      " 57  Recall from Suspension/Layoff   15090 non-null  int64  \n",
      " 58  Rehire                          15090 non-null  int64  \n",
      " 59  Reinstatement                   15090 non-null  int64  \n",
      " 60  Retirement                      15090 non-null  int64  \n",
      " 61  Return from Leave               15090 non-null  int64  \n",
      " 62  Return from Long Term Absence   15090 non-null  int64  \n",
      " 63  Return from temp Assignment     15090 non-null  int64  \n",
      " 64  Separation                      15090 non-null  int64  \n",
      " 65  Suspension                      15090 non-null  int64  \n",
      " 66  Temp Assignment                 15090 non-null  int64  \n",
      " 67  Termination                     15090 non-null  int64  \n",
      " 68  Transfer                        15090 non-null  int64  \n",
      " 69  Travel for Appointment          15090 non-null  int64  \n",
      " 70  Travel for Re-Appointment       15090 non-null  int64  \n",
      " 71  Unknown                         15090 non-null  int64  \n",
      " 72  Update(Local Staff)             15090 non-null  int64  \n",
      " 73  Performance_mean                15090 non-null  float64\n",
      " 74  Difference_incumbent            15090 non-null  int64  \n",
      "dtypes: float64(5), int64(62), object(8)\n",
      "memory usage: 8.6+ MB\n"
     ]
    }
   ],
   "source": [
    "df.info()"
   ]
  },
  {
   "cell_type": "markdown",
   "id": "09cf0051",
   "metadata": {},
   "source": [
    "# Dummy variables "
   ]
  },
  {
   "cell_type": "code",
   "execution_count": 5,
   "id": "268afa0a",
   "metadata": {},
   "outputs": [],
   "source": [
    "# Drop unneccesary columns\n",
    "mydf = df.drop(['Index No','Hire Date','DS Location','DS Country'], axis=1)"
   ]
  },
  {
   "cell_type": "code",
   "execution_count": 6,
   "id": "22c9a38c",
   "metadata": {},
   "outputs": [],
   "source": [
    "categories = mydf[['Organization', 'Gender', 'Nationality', 'Family/Non-Family']]"
   ]
  },
  {
   "cell_type": "code",
   "execution_count": 7,
   "id": "ac333e28",
   "metadata": {},
   "outputs": [],
   "source": [
    "cat_dummy = pd.get_dummies(categories, drop_first = True)"
   ]
  },
  {
   "cell_type": "code",
   "execution_count": 8,
   "id": "3e06d496",
   "metadata": {
    "scrolled": false
   },
   "outputs": [
    {
     "data": {
      "text/html": [
       "<div>\n",
       "<style scoped>\n",
       "    .dataframe tbody tr th:only-of-type {\n",
       "        vertical-align: middle;\n",
       "    }\n",
       "\n",
       "    .dataframe tbody tr th {\n",
       "        vertical-align: top;\n",
       "    }\n",
       "\n",
       "    .dataframe thead th {\n",
       "        text-align: right;\n",
       "    }\n",
       "</style>\n",
       "<table border=\"1\" class=\"dataframe\">\n",
       "  <thead>\n",
       "    <tr style=\"text-align: right;\">\n",
       "      <th></th>\n",
       "      <th>Position_Count</th>\n",
       "      <th>Years of Service</th>\n",
       "      <th>Age</th>\n",
       "      <th>Hardship_min</th>\n",
       "      <th>Hardship_median</th>\n",
       "      <th>Hardship_max</th>\n",
       "      <th>Min_Incumbent</th>\n",
       "      <th>Max_Incumbent</th>\n",
       "      <th>Add Contingent Worker</th>\n",
       "      <th>Additional Job</th>\n",
       "      <th>...</th>\n",
       "      <th>Nationality_Vanuatu</th>\n",
       "      <th>Nationality_Venezuela</th>\n",
       "      <th>Nationality_Viet Nam</th>\n",
       "      <th>Nationality_Vietnam</th>\n",
       "      <th>Nationality_Yemen</th>\n",
       "      <th>Nationality_Yemen Rep of</th>\n",
       "      <th>Nationality_Yugoslavia</th>\n",
       "      <th>Nationality_Zambia</th>\n",
       "      <th>Nationality_Zimbabwe</th>\n",
       "      <th>Family/Non-Family_N</th>\n",
       "    </tr>\n",
       "  </thead>\n",
       "  <tbody>\n",
       "    <tr>\n",
       "      <th>0</th>\n",
       "      <td>2</td>\n",
       "      <td>5</td>\n",
       "      <td>34.5</td>\n",
       "      <td>4.0</td>\n",
       "      <td>4.0</td>\n",
       "      <td>4.0</td>\n",
       "      <td>2</td>\n",
       "      <td>2</td>\n",
       "      <td>0</td>\n",
       "      <td>0</td>\n",
       "      <td>...</td>\n",
       "      <td>0</td>\n",
       "      <td>0</td>\n",
       "      <td>0</td>\n",
       "      <td>0</td>\n",
       "      <td>0</td>\n",
       "      <td>0</td>\n",
       "      <td>0</td>\n",
       "      <td>0</td>\n",
       "      <td>0</td>\n",
       "      <td>0</td>\n",
       "    </tr>\n",
       "    <tr>\n",
       "      <th>1</th>\n",
       "      <td>4</td>\n",
       "      <td>11</td>\n",
       "      <td>44.5</td>\n",
       "      <td>2.0</td>\n",
       "      <td>3.0</td>\n",
       "      <td>5.0</td>\n",
       "      <td>9</td>\n",
       "      <td>14</td>\n",
       "      <td>0</td>\n",
       "      <td>0</td>\n",
       "      <td>...</td>\n",
       "      <td>0</td>\n",
       "      <td>0</td>\n",
       "      <td>0</td>\n",
       "      <td>0</td>\n",
       "      <td>0</td>\n",
       "      <td>0</td>\n",
       "      <td>0</td>\n",
       "      <td>0</td>\n",
       "      <td>0</td>\n",
       "      <td>1</td>\n",
       "    </tr>\n",
       "    <tr>\n",
       "      <th>2</th>\n",
       "      <td>2</td>\n",
       "      <td>5</td>\n",
       "      <td>34.5</td>\n",
       "      <td>1.0</td>\n",
       "      <td>1.0</td>\n",
       "      <td>1.0</td>\n",
       "      <td>5</td>\n",
       "      <td>5</td>\n",
       "      <td>0</td>\n",
       "      <td>0</td>\n",
       "      <td>...</td>\n",
       "      <td>0</td>\n",
       "      <td>0</td>\n",
       "      <td>0</td>\n",
       "      <td>0</td>\n",
       "      <td>0</td>\n",
       "      <td>0</td>\n",
       "      <td>0</td>\n",
       "      <td>0</td>\n",
       "      <td>0</td>\n",
       "      <td>0</td>\n",
       "    </tr>\n",
       "    <tr>\n",
       "      <th>3</th>\n",
       "      <td>2</td>\n",
       "      <td>11</td>\n",
       "      <td>44.5</td>\n",
       "      <td>2.0</td>\n",
       "      <td>2.0</td>\n",
       "      <td>3.0</td>\n",
       "      <td>4</td>\n",
       "      <td>6</td>\n",
       "      <td>0</td>\n",
       "      <td>0</td>\n",
       "      <td>...</td>\n",
       "      <td>0</td>\n",
       "      <td>0</td>\n",
       "      <td>0</td>\n",
       "      <td>0</td>\n",
       "      <td>0</td>\n",
       "      <td>0</td>\n",
       "      <td>0</td>\n",
       "      <td>0</td>\n",
       "      <td>0</td>\n",
       "      <td>0</td>\n",
       "    </tr>\n",
       "    <tr>\n",
       "      <th>4</th>\n",
       "      <td>1</td>\n",
       "      <td>10</td>\n",
       "      <td>44.5</td>\n",
       "      <td>2.0</td>\n",
       "      <td>2.0</td>\n",
       "      <td>2.0</td>\n",
       "      <td>15</td>\n",
       "      <td>15</td>\n",
       "      <td>0</td>\n",
       "      <td>0</td>\n",
       "      <td>...</td>\n",
       "      <td>0</td>\n",
       "      <td>0</td>\n",
       "      <td>0</td>\n",
       "      <td>0</td>\n",
       "      <td>0</td>\n",
       "      <td>0</td>\n",
       "      <td>0</td>\n",
       "      <td>0</td>\n",
       "      <td>0</td>\n",
       "      <td>0</td>\n",
       "    </tr>\n",
       "  </tbody>\n",
       "</table>\n",
       "<p>5 rows × 279 columns</p>\n",
       "</div>"
      ],
      "text/plain": [
       "   Position_Count  Years of Service   Age  Hardship_min  Hardship_median  \\\n",
       "0               2                 5  34.5           4.0              4.0   \n",
       "1               4                11  44.5           2.0              3.0   \n",
       "2               2                 5  34.5           1.0              1.0   \n",
       "3               2                11  44.5           2.0              2.0   \n",
       "4               1                10  44.5           2.0              2.0   \n",
       "\n",
       "   Hardship_max  Min_Incumbent  Max_Incumbent  Add Contingent Worker  \\\n",
       "0           4.0              2              2                      0   \n",
       "1           5.0              9             14                      0   \n",
       "2           1.0              5              5                      0   \n",
       "3           3.0              4              6                      0   \n",
       "4           2.0             15             15                      0   \n",
       "\n",
       "   Additional Job  ...  Nationality_Vanuatu  Nationality_Venezuela  \\\n",
       "0               0  ...                    0                      0   \n",
       "1               0  ...                    0                      0   \n",
       "2               0  ...                    0                      0   \n",
       "3               0  ...                    0                      0   \n",
       "4               0  ...                    0                      0   \n",
       "\n",
       "   Nationality_Viet Nam  Nationality_Vietnam  Nationality_Yemen  \\\n",
       "0                     0                    0                  0   \n",
       "1                     0                    0                  0   \n",
       "2                     0                    0                  0   \n",
       "3                     0                    0                  0   \n",
       "4                     0                    0                  0   \n",
       "\n",
       "   Nationality_Yemen Rep of  Nationality_Yugoslavia  Nationality_Zambia  \\\n",
       "0                         0                       0                   0   \n",
       "1                         0                       0                   0   \n",
       "2                         0                       0                   0   \n",
       "3                         0                       0                   0   \n",
       "4                         0                       0                   0   \n",
       "\n",
       "   Nationality_Zimbabwe  Family/Non-Family_N  \n",
       "0                     0                    0  \n",
       "1                     0                    1  \n",
       "2                     0                    0  \n",
       "3                     0                    0  \n",
       "4                     0                    0  \n",
       "\n",
       "[5 rows x 279 columns]"
      ]
     },
     "execution_count": 8,
     "metadata": {},
     "output_type": "execute_result"
    }
   ],
   "source": [
    "mydf2 = mydf.drop(['Organization', 'Gender', 'Nationality', 'Family/Non-Family'], axis=1)\n",
    "mydf3 = pd.concat([mydf2, cat_dummy], axis = 1)\n",
    "mydf3.head()"
   ]
  },
  {
   "cell_type": "code",
   "execution_count": null,
   "id": "730905b0",
   "metadata": {},
   "outputs": [],
   "source": []
  },
  {
   "cell_type": "markdown",
   "id": "e983edb4",
   "metadata": {},
   "source": [
    "# Train/Test Split"
   ]
  },
  {
   "cell_type": "code",
   "execution_count": 9,
   "id": "a9f7e54f",
   "metadata": {},
   "outputs": [],
   "source": [
    "# Independent variables\n",
    "X = mydf3.drop('Performance_mean', axis = 1)\n",
    "\n",
    "# Dependent variables\n",
    "y = mydf3['Performance_mean']"
   ]
  },
  {
   "cell_type": "code",
   "execution_count": 10,
   "id": "41676524",
   "metadata": {
    "scrolled": false
   },
   "outputs": [
    {
     "data": {
      "text/plain": [
       "array([3., 4., 2., 5., 1., 0.])"
      ]
     },
     "execution_count": 10,
     "metadata": {},
     "output_type": "execute_result"
    }
   ],
   "source": [
    "y.unique()"
   ]
  },
  {
   "cell_type": "code",
   "execution_count": 11,
   "id": "8da9b857",
   "metadata": {},
   "outputs": [
    {
     "data": {
      "text/plain": [
       "array([3, 3, 3, ..., 5, 3, 4])"
      ]
     },
     "execution_count": 11,
     "metadata": {},
     "output_type": "execute_result"
    }
   ],
   "source": [
    "from sklearn.preprocessing import LabelEncoder\n",
    "y = LabelEncoder().fit_transform(y)\n",
    "y"
   ]
  },
  {
   "cell_type": "code",
   "execution_count": 12,
   "id": "d203a8c3",
   "metadata": {},
   "outputs": [],
   "source": [
    "from sklearn.model_selection import train_test_split\n",
    "# Call train_test_split on X, y, test_size = 0.25, and random_state = 246\n",
    "# Make new variables called X_train, X_test, y_train, and y_test\n",
    "X_train, X_test, y_train, y_test = train_test_split(X, y, \n",
    "                                                  test_size = 0.25,\n",
    "                                                  random_state = 246)"
   ]
  },
  {
   "cell_type": "markdown",
   "id": "4bfba488",
   "metadata": {},
   "source": [
    "# Target variable(performance rating) is imbalanced"
   ]
  },
  {
   "cell_type": "code",
   "execution_count": 13,
   "id": "785b51fe",
   "metadata": {},
   "outputs": [
    {
     "name": "stdout",
     "output_type": "stream",
     "text": [
      "Class=3, n=6405 (56.596%)\n",
      "Class=4, n=3989 (35.248%)\n",
      "Class=5, n=803 (7.096%)\n",
      "Class=2, n=67 (0.592%)\n",
      "Class=1, n=47 (0.415%)\n",
      "Class=0, n=6 (0.053%)\n"
     ]
    },
    {
     "data": {
      "image/png": "[encoded data removed]",
      "text/plain": [
       "<Figure size 432x288 with 1 Axes>"
      ]
     },
     "metadata": {
      "needs_background": "light"
     },
     "output_type": "display_data"
    }
   ],
   "source": [
    "from collections import Counter\n",
    "from matplotlib import pyplot\n",
    "\n",
    "\n",
    "# summarize distribution\n",
    "counter = Counter(y_train)\n",
    "for k,v in counter.items():\n",
    "    per = v / len(y_train) * 100\n",
    "    print('Class=%d, n=%d (%.3f%%)' % (k, v, per))\n",
    "    \n",
    "# plot the distribution\n",
    "pyplot.bar(counter.keys(), counter.values())\n",
    "pyplot.title('Average Performance Rating (2016~2019) of UNICEF & UNDP employees')\n",
    "pyplot.show()"
   ]
  },
  {
   "cell_type": "code",
   "execution_count": 14,
   "id": "4bbc2274",
   "metadata": {},
   "outputs": [
    {
     "name": "stdout",
     "output_type": "stream",
     "text": [
      "(11317, 278)\n",
      "(11317,)\n",
      "(3773, 278)\n",
      "(3773,)\n"
     ]
    }
   ],
   "source": [
    "print(X_train.shape)\n",
    "print(y_train.shape)\n",
    "print(X_test.shape)\n",
    "print(y_test.shape)"
   ]
  },
  {
   "cell_type": "markdown",
   "id": "19f0e433",
   "metadata": {},
   "source": [
    "# SMOTE for imbalanced dataset\n",
    "- SMOTE should be applied only to the training dataset\n",
    "- A problem with imbalanced classification is that there are too few examples of the minority class for a model to effectively learn the decision boundary. One way to solve this problem is to oversample the examples in the minority class. This can be achieved by simply duplicating examples from the minority class in the training dataset prior to fitting a model. This can balance the class distribution but does not provide any additional information to the model.\n",
    "- By default, SMOTE will oversample all classes to have the same number of examples as the class with the most examples.\n",
    "- Reference: \n",
    "https://machinelearningmastery.com/multi-class-imbalanced-classification/\n",
    "https://machinelearningmastery.com/smote-oversampling-for-imbalanced-classification/\n",
    "https://towardsdatascience.com/how-to-effortlessly-handle-class-imbalance-with-python-and-smote-9b715ca8e5a7"
   ]
  },
  {
   "cell_type": "code",
   "execution_count": 15,
   "id": "b8dcc96e",
   "metadata": {
    "scrolled": false
   },
   "outputs": [
    {
     "name": "stdout",
     "output_type": "stream",
     "text": [
      "Class=3, n=6405 (16.667%)\n",
      "Class=4, n=6405 (16.667%)\n",
      "Class=5, n=6405 (16.667%)\n",
      "Class=2, n=6405 (16.667%)\n",
      "Class=1, n=6405 (16.667%)\n",
      "Class=0, n=6405 (16.667%)\n"
     ]
    },
    {
     "data": {
      "image/png": "[encoded data removed]",
      "text/plain": [
       "<Figure size 432x288 with 1 Axes>"
      ]
     },
     "metadata": {
      "needs_background": "light"
     },
     "output_type": "display_data"
    }
   ],
   "source": [
    "from imblearn.over_sampling import SMOTE\n",
    "\n",
    "# transform the dataset\n",
    "oversample = SMOTE()\n",
    "X_train_sm, y_train_sm = oversample.fit_resample(X_train, y_train)\n",
    "\n",
    "# summarize distribution\n",
    "counter = Counter(y_train_sm)\n",
    "for k,v in counter.items():\n",
    "    per = v / len(y_train_sm) * 100\n",
    "    print('Class=%d, n=%d (%.3f%%)' % (k, v, per))\n",
    "    \n",
    "# plot the distribution\n",
    "pyplot.bar(counter.keys(), counter.values())\n",
    "pyplot.show()"
   ]
  },
  {
   "cell_type": "code",
   "execution_count": 16,
   "id": "da3a1e76",
   "metadata": {
    "scrolled": false
   },
   "outputs": [
    {
     "name": "stdout",
     "output_type": "stream",
     "text": [
      "(38430, 278)\n",
      "(38430,)\n",
      "(3773, 278)\n",
      "(3773,)\n"
     ]
    }
   ],
   "source": [
    "print(X_train_sm.shape)\n",
    "print(y_train_sm.shape)\n",
    "print(X_test.shape)\n",
    "print(y_test.shape)"
   ]
  },
  {
   "cell_type": "markdown",
   "id": "3ad2df82",
   "metadata": {},
   "source": [
    "# Scale"
   ]
  },
  {
   "cell_type": "code",
   "execution_count": 17,
   "id": "69c04c15",
   "metadata": {},
   "outputs": [],
   "source": [
    "#No need to scale the Y of train data \n",
    "\n",
    "from sklearn.preprocessing import MinMaxScaler\n",
    "scaler = MinMaxScaler()\n",
    "scaler.fit(X_train_sm)\n",
    "X_tr_scaled = scaler.transform(X_train_sm)\n",
    "X_te_scaled = scaler.transform(X_test)"
   ]
  },
  {
   "cell_type": "code",
   "execution_count": 18,
   "id": "be86c799",
   "metadata": {},
   "outputs": [
    {
     "data": {
      "text/html": [
       "<div>\n",
       "<style scoped>\n",
       "    .dataframe tbody tr th:only-of-type {\n",
       "        vertical-align: middle;\n",
       "    }\n",
       "\n",
       "    .dataframe tbody tr th {\n",
       "        vertical-align: top;\n",
       "    }\n",
       "\n",
       "    .dataframe thead th {\n",
       "        text-align: right;\n",
       "    }\n",
       "</style>\n",
       "<table border=\"1\" class=\"dataframe\">\n",
       "  <thead>\n",
       "    <tr style=\"text-align: right;\">\n",
       "      <th></th>\n",
       "      <th>Position_Count</th>\n",
       "      <th>Years of Service</th>\n",
       "      <th>Age</th>\n",
       "      <th>Hardship_min</th>\n",
       "      <th>Hardship_median</th>\n",
       "      <th>Hardship_max</th>\n",
       "      <th>Min_Incumbent</th>\n",
       "      <th>Max_Incumbent</th>\n",
       "      <th>Add Contingent Worker</th>\n",
       "      <th>Additional Job</th>\n",
       "      <th>...</th>\n",
       "      <th>Nationality_Vanuatu</th>\n",
       "      <th>Nationality_Venezuela</th>\n",
       "      <th>Nationality_Viet Nam</th>\n",
       "      <th>Nationality_Vietnam</th>\n",
       "      <th>Nationality_Yemen</th>\n",
       "      <th>Nationality_Yemen Rep of</th>\n",
       "      <th>Nationality_Yugoslavia</th>\n",
       "      <th>Nationality_Zambia</th>\n",
       "      <th>Nationality_Zimbabwe</th>\n",
       "      <th>Family/Non-Family_N</th>\n",
       "    </tr>\n",
       "  </thead>\n",
       "  <tbody>\n",
       "    <tr>\n",
       "      <th>0</th>\n",
       "      <td>0.0</td>\n",
       "      <td>0.275</td>\n",
       "      <td>0.50</td>\n",
       "      <td>0.6</td>\n",
       "      <td>0.6</td>\n",
       "      <td>0.8</td>\n",
       "      <td>0.352941</td>\n",
       "      <td>0.333333</td>\n",
       "      <td>0.0</td>\n",
       "      <td>0.0</td>\n",
       "      <td>...</td>\n",
       "      <td>0.0</td>\n",
       "      <td>0.0</td>\n",
       "      <td>0.0</td>\n",
       "      <td>0.0</td>\n",
       "      <td>0.0</td>\n",
       "      <td>0.0</td>\n",
       "      <td>0.0</td>\n",
       "      <td>0.0</td>\n",
       "      <td>1.0</td>\n",
       "      <td>0.0</td>\n",
       "    </tr>\n",
       "    <tr>\n",
       "      <th>1</th>\n",
       "      <td>0.0</td>\n",
       "      <td>0.200</td>\n",
       "      <td>0.50</td>\n",
       "      <td>0.2</td>\n",
       "      <td>0.2</td>\n",
       "      <td>0.2</td>\n",
       "      <td>0.294118</td>\n",
       "      <td>0.277778</td>\n",
       "      <td>0.0</td>\n",
       "      <td>0.0</td>\n",
       "      <td>...</td>\n",
       "      <td>0.0</td>\n",
       "      <td>0.0</td>\n",
       "      <td>0.0</td>\n",
       "      <td>0.0</td>\n",
       "      <td>0.0</td>\n",
       "      <td>0.0</td>\n",
       "      <td>0.0</td>\n",
       "      <td>0.0</td>\n",
       "      <td>0.0</td>\n",
       "      <td>0.0</td>\n",
       "    </tr>\n",
       "    <tr>\n",
       "      <th>2</th>\n",
       "      <td>0.0</td>\n",
       "      <td>0.550</td>\n",
       "      <td>0.50</td>\n",
       "      <td>1.0</td>\n",
       "      <td>1.0</td>\n",
       "      <td>1.0</td>\n",
       "      <td>0.823529</td>\n",
       "      <td>0.777778</td>\n",
       "      <td>0.0</td>\n",
       "      <td>0.0</td>\n",
       "      <td>...</td>\n",
       "      <td>0.0</td>\n",
       "      <td>0.0</td>\n",
       "      <td>0.0</td>\n",
       "      <td>0.0</td>\n",
       "      <td>0.0</td>\n",
       "      <td>0.0</td>\n",
       "      <td>0.0</td>\n",
       "      <td>0.0</td>\n",
       "      <td>0.0</td>\n",
       "      <td>1.0</td>\n",
       "    </tr>\n",
       "    <tr>\n",
       "      <th>3</th>\n",
       "      <td>0.0</td>\n",
       "      <td>0.225</td>\n",
       "      <td>0.50</td>\n",
       "      <td>0.2</td>\n",
       "      <td>0.2</td>\n",
       "      <td>0.4</td>\n",
       "      <td>0.529412</td>\n",
       "      <td>0.500000</td>\n",
       "      <td>0.0</td>\n",
       "      <td>0.0</td>\n",
       "      <td>...</td>\n",
       "      <td>0.0</td>\n",
       "      <td>0.0</td>\n",
       "      <td>0.0</td>\n",
       "      <td>0.0</td>\n",
       "      <td>0.0</td>\n",
       "      <td>0.0</td>\n",
       "      <td>0.0</td>\n",
       "      <td>0.0</td>\n",
       "      <td>0.0</td>\n",
       "      <td>0.0</td>\n",
       "    </tr>\n",
       "    <tr>\n",
       "      <th>4</th>\n",
       "      <td>0.0</td>\n",
       "      <td>0.075</td>\n",
       "      <td>0.25</td>\n",
       "      <td>0.6</td>\n",
       "      <td>0.8</td>\n",
       "      <td>0.8</td>\n",
       "      <td>0.294118</td>\n",
       "      <td>0.277778</td>\n",
       "      <td>0.0</td>\n",
       "      <td>0.0</td>\n",
       "      <td>...</td>\n",
       "      <td>0.0</td>\n",
       "      <td>0.0</td>\n",
       "      <td>0.0</td>\n",
       "      <td>0.0</td>\n",
       "      <td>0.0</td>\n",
       "      <td>0.0</td>\n",
       "      <td>0.0</td>\n",
       "      <td>0.0</td>\n",
       "      <td>0.0</td>\n",
       "      <td>0.0</td>\n",
       "    </tr>\n",
       "  </tbody>\n",
       "</table>\n",
       "<p>5 rows × 278 columns</p>\n",
       "</div>"
      ],
      "text/plain": [
       "   Position_Count  Years of Service   Age  Hardship_min  Hardship_median  \\\n",
       "0             0.0             0.275  0.50           0.6              0.6   \n",
       "1             0.0             0.200  0.50           0.2              0.2   \n",
       "2             0.0             0.550  0.50           1.0              1.0   \n",
       "3             0.0             0.225  0.50           0.2              0.2   \n",
       "4             0.0             0.075  0.25           0.6              0.8   \n",
       "\n",
       "   Hardship_max  Min_Incumbent  Max_Incumbent  Add Contingent Worker  \\\n",
       "0           0.8       0.352941       0.333333                    0.0   \n",
       "1           0.2       0.294118       0.277778                    0.0   \n",
       "2           1.0       0.823529       0.777778                    0.0   \n",
       "3           0.4       0.529412       0.500000                    0.0   \n",
       "4           0.8       0.294118       0.277778                    0.0   \n",
       "\n",
       "   Additional Job  ...  Nationality_Vanuatu  Nationality_Venezuela  \\\n",
       "0             0.0  ...                  0.0                    0.0   \n",
       "1             0.0  ...                  0.0                    0.0   \n",
       "2             0.0  ...                  0.0                    0.0   \n",
       "3             0.0  ...                  0.0                    0.0   \n",
       "4             0.0  ...                  0.0                    0.0   \n",
       "\n",
       "   Nationality_Viet Nam  Nationality_Vietnam  Nationality_Yemen  \\\n",
       "0                   0.0                  0.0                0.0   \n",
       "1                   0.0                  0.0                0.0   \n",
       "2                   0.0                  0.0                0.0   \n",
       "3                   0.0                  0.0                0.0   \n",
       "4                   0.0                  0.0                0.0   \n",
       "\n",
       "   Nationality_Yemen Rep of  Nationality_Yugoslavia  Nationality_Zambia  \\\n",
       "0                       0.0                     0.0                 0.0   \n",
       "1                       0.0                     0.0                 0.0   \n",
       "2                       0.0                     0.0                 0.0   \n",
       "3                       0.0                     0.0                 0.0   \n",
       "4                       0.0                     0.0                 0.0   \n",
       "\n",
       "   Nationality_Zimbabwe  Family/Non-Family_N  \n",
       "0                   1.0                  0.0  \n",
       "1                   0.0                  0.0  \n",
       "2                   0.0                  1.0  \n",
       "3                   0.0                  0.0  \n",
       "4                   0.0                  0.0  \n",
       "\n",
       "[5 rows x 278 columns]"
      ]
     },
     "execution_count": 18,
     "metadata": {},
     "output_type": "execute_result"
    }
   ],
   "source": [
    "pd.DataFrame(X_tr_scaled, index = X_train_sm.index, columns = X_train_sm.columns).head()"
   ]
  },
  {
   "cell_type": "markdown",
   "id": "58a905b7",
   "metadata": {},
   "source": [
    "# Train/Test with RandomForestClassifier"
   ]
  },
  {
   "cell_type": "code",
   "execution_count": 19,
   "id": "7723602d",
   "metadata": {},
   "outputs": [
    {
     "data": {
      "image/png": "[encoded data removed]",
      "text/plain": [
       "<Figure size 576x432 with 2 Axes>"
      ]
     },
     "metadata": {
      "needs_background": "light"
     },
     "output_type": "display_data"
    }
   ],
   "source": [
    "from sklearn.ensemble import RandomForestClassifier\n",
    "from sklearn.metrics import confusion_matrix\n",
    "\n",
    "model = RandomForestClassifier(random_state=42)\n",
    "model.fit(X_tr_scaled, y_train_sm)\n",
    "y_pred = model.predict(X_te_scaled)\n",
    "\n",
    "cm = confusion_matrix(y_test, y_pred)\n",
    "plt.figure(figsize=(8, 6))\n",
    "plt.title('Confusion Matrix (with SMOTE)', size=16)\n",
    "sns.heatmap(cm, annot=True, cmap='Blues');"
   ]
  },
  {
   "cell_type": "code",
   "execution_count": 20,
   "id": "641965b4",
   "metadata": {},
   "outputs": [],
   "source": [
    "from sklearn.metrics import f1_score\n",
    "from sklearn.metrics import accuracy_score \n",
    "from sklearn.metrics import recall_score"
   ]
  },
  {
   "cell_type": "code",
   "execution_count": 21,
   "id": "e02585c7",
   "metadata": {},
   "outputs": [
    {
     "name": "stdout",
     "output_type": "stream",
     "text": [
      "Random Forest: Accuracy=0.850\n",
      "Random Forest: f1-score=0.845\n",
      "Random Forest: recall-score=0.850\n"
     ]
    }
   ],
   "source": [
    "ac = accuracy_score(y_test, y_pred)\n",
    "\n",
    "f1 = f1_score(y_test, y_pred, average='weighted')\n",
    "\n",
    "recall = recall_score(y_test, y_pred, average='weighted')\n",
    "\n",
    "print('Random Forest: Accuracy=%.3f' % (ac))\n",
    "\n",
    "print('Random Forest: f1-score=%.3f' % (f1))\n",
    "\n",
    "print('Random Forest: recall-score=%.3f' % (recall))"
   ]
  },
  {
   "cell_type": "code",
   "execution_count": 22,
   "id": "f98da410",
   "metadata": {
    "scrolled": false
   },
   "outputs": [
    {
     "name": "stdout",
     "output_type": "stream",
     "text": [
      "30\n"
     ]
    },
    {
     "data": {
      "image/png": "[encoded data removed]",
      "text/plain": [
       "<Figure size 720x720 with 1 Axes>"
      ]
     },
     "metadata": {
      "needs_background": "light"
     },
     "output_type": "display_data"
    }
   ],
   "source": [
    "feature_importance = model.feature_importances_\n",
    "# make importances relative to max importance\n",
    "feature_importance = 100.0 * (feature_importance / feature_importance.max())[:30]\n",
    "sorted_idx = np.argsort(feature_importance)[:30]\n",
    "\n",
    "pos = np.arange(sorted_idx.shape[0]) + .5\n",
    "print(pos.size)\n",
    "sorted_idx.size\n",
    "plt.figure(figsize=(10,10))\n",
    "plt.barh(pos, feature_importance[sorted_idx], align='center')\n",
    "plt.yticks(pos, X.columns[sorted_idx])\n",
    "plt.xlabel('Relative Importance')\n",
    "plt.title('Variable Importance')\n",
    "plt.show()"
   ]
  },
  {
   "cell_type": "code",
   "execution_count": null,
   "id": "6e95592e",
   "metadata": {},
   "outputs": [],
   "source": []
  },
  {
   "cell_type": "code",
   "execution_count": null,
   "id": "e5cd0f3f",
   "metadata": {},
   "outputs": [],
   "source": []
  },
  {
   "cell_type": "markdown",
   "id": "32ae2e17",
   "metadata": {},
   "source": [
    "# Proportional Odds Logistic Regression for Ordered Category Outcomes\n",
    "Handbook of Regression Modeling in People Analytics: \n",
    "https://peopleanalytics-regression-book.org/ord-reg.html\n"
   ]
  },
  {
   "cell_type": "code",
   "execution_count": 23,
   "id": "5e8acb17",
   "metadata": {},
   "outputs": [],
   "source": [
    "    \n",
    "#pd.set_option('display.max_rows', 100)"
   ]
  }
 ],
 "metadata": {
  "kernelspec": {
   "display_name": "Python 3",
   "language": "python",
   "name": "python3"
  },
  "language_info": {
   "codemirror_mode": {
    "name": "ipython",
    "version": 3
   },
   "file_extension": ".py",
   "mimetype": "text/x-python",
   "name": "python",
   "nbconvert_exporter": "python",
   "pygments_lexer": "ipython3",
   "version": "3.8.8"
  }
 },
 "nbformat": 4,
 "nbformat_minor": 5
}
