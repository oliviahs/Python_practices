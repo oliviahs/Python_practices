{
 "cells": [
  {
   "cell_type": "code",
   "execution_count": 1,
   "id": "d3337960",
   "metadata": {},
   "outputs": [],
   "source": [
    "import pandas as pd\n",
    "import numpy as np\n",
    "import warnings\n",
    "warnings.filterwarnings('ignore')\n",
    "import matplotlib.pyplot as plt\n",
    "import seaborn as sns"
   ]
  },
  {
   "cell_type": "code",
   "execution_count": 2,
   "id": "3974d17c",
   "metadata": {},
   "outputs": [],
   "source": [
    "df = pd.read_csv('finaldf.csv')"
   ]
  },
  {
   "cell_type": "code",
   "execution_count": 3,
   "id": "e813db84",
   "metadata": {},
   "outputs": [
    {
     "data": {
      "text/html": [
       "<div>\n",
       "<style scoped>\n",
       "    .dataframe tbody tr th:only-of-type {\n",
       "        vertical-align: middle;\n",
       "    }\n",
       "\n",
       "    .dataframe tbody tr th {\n",
       "        vertical-align: top;\n",
       "    }\n",
       "\n",
       "    .dataframe thead th {\n",
       "        text-align: right;\n",
       "    }\n",
       "</style>\n",
       "<table border=\"1\" class=\"dataframe\">\n",
       "  <thead>\n",
       "    <tr style=\"text-align: right;\">\n",
       "      <th></th>\n",
       "      <th>Index No</th>\n",
       "      <th>Organization</th>\n",
       "      <th>Gender</th>\n",
       "      <th>Nationality</th>\n",
       "      <th>Hire Date</th>\n",
       "      <th>DS Location</th>\n",
       "      <th>DS Country</th>\n",
       "      <th>Family/Non-Family</th>\n",
       "      <th>Position_Count</th>\n",
       "      <th>Years of Service</th>\n",
       "      <th>...</th>\n",
       "      <th>Separation</th>\n",
       "      <th>Suspension</th>\n",
       "      <th>Temp Assignment</th>\n",
       "      <th>Termination</th>\n",
       "      <th>Transfer</th>\n",
       "      <th>Travel for Appointment</th>\n",
       "      <th>Travel for Re-Appointment</th>\n",
       "      <th>Unknown</th>\n",
       "      <th>Update(Local Staff)</th>\n",
       "      <th>Performance_mean</th>\n",
       "    </tr>\n",
       "  </thead>\n",
       "  <tbody>\n",
       "    <tr>\n",
       "      <th>0</th>\n",
       "      <td>AAAAAZ</td>\n",
       "      <td>UNICEF</td>\n",
       "      <td>Male</td>\n",
       "      <td>Equatorial Guinea</td>\n",
       "      <td>2015-04-15</td>\n",
       "      <td>Bata</td>\n",
       "      <td>Equatorial Guinea</td>\n",
       "      <td>F</td>\n",
       "      <td>2</td>\n",
       "      <td>5</td>\n",
       "      <td>...</td>\n",
       "      <td>1</td>\n",
       "      <td>0</td>\n",
       "      <td>0</td>\n",
       "      <td>0</td>\n",
       "      <td>0</td>\n",
       "      <td>0</td>\n",
       "      <td>0</td>\n",
       "      <td>0</td>\n",
       "      <td>0</td>\n",
       "      <td>3.0</td>\n",
       "    </tr>\n",
       "    <tr>\n",
       "      <th>1</th>\n",
       "      <td>AAADK</td>\n",
       "      <td>UNICEF</td>\n",
       "      <td>Female</td>\n",
       "      <td>Cote d'Ivoire</td>\n",
       "      <td>2009-08-24</td>\n",
       "      <td>Man</td>\n",
       "      <td>Cote D'Ivoire</td>\n",
       "      <td>N</td>\n",
       "      <td>4</td>\n",
       "      <td>11</td>\n",
       "      <td>...</td>\n",
       "      <td>0</td>\n",
       "      <td>0</td>\n",
       "      <td>0</td>\n",
       "      <td>0</td>\n",
       "      <td>0</td>\n",
       "      <td>0</td>\n",
       "      <td>0</td>\n",
       "      <td>2</td>\n",
       "      <td>0</td>\n",
       "      <td>3.0</td>\n",
       "    </tr>\n",
       "    <tr>\n",
       "      <th>2</th>\n",
       "      <td>AAAKFZ</td>\n",
       "      <td>UNICEF</td>\n",
       "      <td>Female</td>\n",
       "      <td>Paraguay</td>\n",
       "      <td>2015-04-15</td>\n",
       "      <td>Asuncion</td>\n",
       "      <td>Paraguay</td>\n",
       "      <td>F</td>\n",
       "      <td>2</td>\n",
       "      <td>5</td>\n",
       "      <td>...</td>\n",
       "      <td>0</td>\n",
       "      <td>0</td>\n",
       "      <td>0</td>\n",
       "      <td>0</td>\n",
       "      <td>0</td>\n",
       "      <td>0</td>\n",
       "      <td>0</td>\n",
       "      <td>0</td>\n",
       "      <td>0</td>\n",
       "      <td>3.0</td>\n",
       "    </tr>\n",
       "    <tr>\n",
       "      <th>3</th>\n",
       "      <td>AAAKKD</td>\n",
       "      <td>UNDP</td>\n",
       "      <td>Male</td>\n",
       "      <td>Kenya</td>\n",
       "      <td>2008-03-13</td>\n",
       "      <td>Nairobi</td>\n",
       "      <td>Kenya</td>\n",
       "      <td>F</td>\n",
       "      <td>2</td>\n",
       "      <td>11</td>\n",
       "      <td>...</td>\n",
       "      <td>1</td>\n",
       "      <td>0</td>\n",
       "      <td>0</td>\n",
       "      <td>0</td>\n",
       "      <td>1</td>\n",
       "      <td>0</td>\n",
       "      <td>0</td>\n",
       "      <td>0</td>\n",
       "      <td>0</td>\n",
       "      <td>4.0</td>\n",
       "    </tr>\n",
       "    <tr>\n",
       "      <th>4</th>\n",
       "      <td>AAAKXX</td>\n",
       "      <td>UNICEF</td>\n",
       "      <td>Male</td>\n",
       "      <td>United Kingdom</td>\n",
       "      <td>2010-09-06</td>\n",
       "      <td>Beirut</td>\n",
       "      <td>Lebanon</td>\n",
       "      <td>F</td>\n",
       "      <td>1</td>\n",
       "      <td>10</td>\n",
       "      <td>...</td>\n",
       "      <td>0</td>\n",
       "      <td>0</td>\n",
       "      <td>0</td>\n",
       "      <td>0</td>\n",
       "      <td>0</td>\n",
       "      <td>0</td>\n",
       "      <td>0</td>\n",
       "      <td>0</td>\n",
       "      <td>0</td>\n",
       "      <td>3.0</td>\n",
       "    </tr>\n",
       "  </tbody>\n",
       "</table>\n",
       "<p>5 rows × 74 columns</p>\n",
       "</div>"
      ],
      "text/plain": [
       "  Index No Organization  Gender        Nationality   Hire Date DS Location  \\\n",
       "0   AAAAAZ       UNICEF    Male  Equatorial Guinea  2015-04-15        Bata   \n",
       "1    AAADK       UNICEF  Female      Cote d'Ivoire  2009-08-24         Man   \n",
       "2   AAAKFZ       UNICEF  Female           Paraguay  2015-04-15    Asuncion   \n",
       "3   AAAKKD         UNDP    Male              Kenya  2008-03-13     Nairobi   \n",
       "4   AAAKXX       UNICEF    Male     United Kingdom  2010-09-06      Beirut   \n",
       "\n",
       "          DS Country Family/Non-Family  Position_Count  Years of Service  ...  \\\n",
       "0  Equatorial Guinea                 F               2                 5  ...   \n",
       "1      Cote D'Ivoire                 N               4                11  ...   \n",
       "2           Paraguay                 F               2                 5  ...   \n",
       "3              Kenya                 F               2                11  ...   \n",
       "4            Lebanon                 F               1                10  ...   \n",
       "\n",
       "   Separation  Suspension  Temp Assignment  Termination  Transfer  \\\n",
       "0           1           0                0            0         0   \n",
       "1           0           0                0            0         0   \n",
       "2           0           0                0            0         0   \n",
       "3           1           0                0            0         1   \n",
       "4           0           0                0            0         0   \n",
       "\n",
       "   Travel for Appointment  Travel for Re-Appointment  Unknown  \\\n",
       "0                       0                          0        0   \n",
       "1                       0                          0        2   \n",
       "2                       0                          0        0   \n",
       "3                       0                          0        0   \n",
       "4                       0                          0        0   \n",
       "\n",
       "   Update(Local Staff)  Performance_mean  \n",
       "0                    0               3.0  \n",
       "1                    0               3.0  \n",
       "2                    0               3.0  \n",
       "3                    0               4.0  \n",
       "4                    0               3.0  \n",
       "\n",
       "[5 rows x 74 columns]"
      ]
     },
     "execution_count": 3,
     "metadata": {},
     "output_type": "execute_result"
    }
   ],
   "source": [
    "df.head()"
   ]
  },
  {
   "cell_type": "code",
   "execution_count": 4,
   "id": "0226a4d2",
   "metadata": {
    "scrolled": true
   },
   "outputs": [
    {
     "name": "stdout",
     "output_type": "stream",
     "text": [
      "<class 'pandas.core.frame.DataFrame'>\n",
      "RangeIndex: 15090 entries, 0 to 15089\n",
      "Data columns (total 74 columns):\n",
      " #   Column                          Non-Null Count  Dtype  \n",
      "---  ------                          --------------  -----  \n",
      " 0   Index No                        15090 non-null  object \n",
      " 1   Organization                    15090 non-null  object \n",
      " 2   Gender                          15090 non-null  object \n",
      " 3   Nationality                     15090 non-null  object \n",
      " 4   Hire Date                       15090 non-null  object \n",
      " 5   DS Location                     15090 non-null  object \n",
      " 6   DS Country                      15090 non-null  object \n",
      " 7   Family/Non-Family               15090 non-null  object \n",
      " 8   Position_Count                  15090 non-null  int64  \n",
      " 9   Years of Service                15090 non-null  int64  \n",
      " 10  Age                             15090 non-null  float64\n",
      " 11  Hardship_min                    15090 non-null  float64\n",
      " 12  Hardship_median                 15090 non-null  float64\n",
      " 13  Hardship_max                    15090 non-null  float64\n",
      " 14  Min_Incumbent                   15090 non-null  int64  \n",
      " 15  Max_Incumbent                   15090 non-null  int64  \n",
      " 16  Add Contingent Worker           15090 non-null  int64  \n",
      " 17  Additional Job                  15090 non-null  int64  \n",
      " 18  CSL Half Pay Only               15090 non-null  int64  \n",
      " 19  Category Change                 15090 non-null  int64  \n",
      " 20  Change Employment Percentage    15090 non-null  int64  \n",
      " 21  Change Personal Data            15090 non-null  int64  \n",
      " 22  Change in Grade                 15090 non-null  int64  \n",
      " 23  Change in Pay                   15090 non-null  int64  \n",
      " 24  Contract Change                 15090 non-null  int64  \n",
      " 25  Correct Staff Birth Date        15090 non-null  int64  \n",
      " 26  Correct staff birth date        15090 non-null  int64  \n",
      " 27  Corrected Entry Date            15090 non-null  int64  \n",
      " 28  Create Fam Member/Dependents    15090 non-null  int64  \n",
      " 29  Data Change                     15090 non-null  int64  \n",
      " 30  Demotion                        15090 non-null  int64  \n",
      " 31  Double Incumbency               15090 non-null  int64  \n",
      " 32  Entry into UNJSPF               15090 non-null  int64  \n",
      " 33  Family Status Change            15090 non-null  int64  \n",
      " 34  Grant Maternity/Paternity Leav  15090 non-null  int64  \n",
      " 35  HR Conversion                   15090 non-null  int64  \n",
      " 36  Hire                            15090 non-null  int64  \n",
      " 37  Incorrect Entry Date            15090 non-null  int64  \n",
      " 38  Initial Appt - Pernr exist      15090 non-null  int64  \n",
      " 39  Initial appointment             15090 non-null  int64  \n",
      " 40  Lateral Move                    15090 non-null  int64  \n",
      " 41  Lateral Move - Loan             15090 non-null  int64  \n",
      " 42  Leave of Absence                15090 non-null  int64  \n",
      " 43  Local Transfer to SAP           15090 non-null  int64  \n",
      " 44  Long Term Absence               15090 non-null  int64  \n",
      " 45  Long Term Absence without pay   15090 non-null  int64  \n",
      " 46  Long Term Adsence without pay   15090 non-null  int64  \n",
      " 47  M&HA                            15090 non-null  int64  \n",
      " 48  Organizational Mgmt Change      15090 non-null  int64  \n",
      " 49  Paid Leave of Absence           15090 non-null  int64  \n",
      " 50  Pay Rate Change                 15090 non-null  int64  \n",
      " 51  Position Change                 15090 non-null  int64  \n",
      " 52  Promotion                       15090 non-null  int64  \n",
      " 53  Reappointment                   15090 non-null  int64  \n",
      " 54  Reappointment - LOCAL           15090 non-null  int64  \n",
      " 55  Reappointment - Travel          15090 non-null  int64  \n",
      " 56  Reassignment                    15090 non-null  int64  \n",
      " 57  Recall from Suspension/Layoff   15090 non-null  int64  \n",
      " 58  Rehire                          15090 non-null  int64  \n",
      " 59  Reinstatement                   15090 non-null  int64  \n",
      " 60  Retirement                      15090 non-null  int64  \n",
      " 61  Return from Leave               15090 non-null  int64  \n",
      " 62  Return from Long Term Absence   15090 non-null  int64  \n",
      " 63  Return from temp Assignment     15090 non-null  int64  \n",
      " 64  Separation                      15090 non-null  int64  \n",
      " 65  Suspension                      15090 non-null  int64  \n",
      " 66  Temp Assignment                 15090 non-null  int64  \n",
      " 67  Termination                     15090 non-null  int64  \n",
      " 68  Transfer                        15090 non-null  int64  \n",
      " 69  Travel for Appointment          15090 non-null  int64  \n",
      " 70  Travel for Re-Appointment       15090 non-null  int64  \n",
      " 71  Unknown                         15090 non-null  int64  \n",
      " 72  Update(Local Staff)             15090 non-null  int64  \n",
      " 73  Performance_mean                15090 non-null  float64\n",
      "dtypes: float64(5), int64(61), object(8)\n",
      "memory usage: 8.5+ MB\n"
     ]
    }
   ],
   "source": [
    "df.info()"
   ]
  },
  {
   "cell_type": "markdown",
   "id": "4b434518",
   "metadata": {},
   "source": [
    "# Dummy variables "
   ]
  },
  {
   "cell_type": "code",
   "execution_count": 5,
   "id": "2dd7e21f",
   "metadata": {},
   "outputs": [],
   "source": [
    "# Drop unneccesary columns\n",
    "mydf = df.drop(['Index No','Hire Date','DS Location','DS Country'], axis=1)"
   ]
  },
  {
   "cell_type": "code",
   "execution_count": 6,
   "id": "4e7100b9",
   "metadata": {},
   "outputs": [],
   "source": [
    "categories = mydf[['Organization', 'Gender', 'Nationality', 'Family/Non-Family']]"
   ]
  },
  {
   "cell_type": "code",
   "execution_count": 7,
   "id": "fcdf97d5",
   "metadata": {},
   "outputs": [],
   "source": [
    "cat_dummy = pd.get_dummies(categories, drop_first = True)"
   ]
  },
  {
   "cell_type": "code",
   "execution_count": 8,
   "id": "444c816c",
   "metadata": {
    "scrolled": true
   },
   "outputs": [
    {
     "data": {
      "text/html": [
       "<div>\n",
       "<style scoped>\n",
       "    .dataframe tbody tr th:only-of-type {\n",
       "        vertical-align: middle;\n",
       "    }\n",
       "\n",
       "    .dataframe tbody tr th {\n",
       "        vertical-align: top;\n",
       "    }\n",
       "\n",
       "    .dataframe thead th {\n",
       "        text-align: right;\n",
       "    }\n",
       "</style>\n",
       "<table border=\"1\" class=\"dataframe\">\n",
       "  <thead>\n",
       "    <tr style=\"text-align: right;\">\n",
       "      <th></th>\n",
       "      <th>Position_Count</th>\n",
       "      <th>Years of Service</th>\n",
       "      <th>Age</th>\n",
       "      <th>Hardship_min</th>\n",
       "      <th>Hardship_median</th>\n",
       "      <th>Hardship_max</th>\n",
       "      <th>Min_Incumbent</th>\n",
       "      <th>Max_Incumbent</th>\n",
       "      <th>Add Contingent Worker</th>\n",
       "      <th>Additional Job</th>\n",
       "      <th>...</th>\n",
       "      <th>Nationality_Vanuatu</th>\n",
       "      <th>Nationality_Venezuela</th>\n",
       "      <th>Nationality_Viet Nam</th>\n",
       "      <th>Nationality_Vietnam</th>\n",
       "      <th>Nationality_Yemen</th>\n",
       "      <th>Nationality_Yemen Rep of</th>\n",
       "      <th>Nationality_Yugoslavia</th>\n",
       "      <th>Nationality_Zambia</th>\n",
       "      <th>Nationality_Zimbabwe</th>\n",
       "      <th>Family/Non-Family_N</th>\n",
       "    </tr>\n",
       "  </thead>\n",
       "  <tbody>\n",
       "    <tr>\n",
       "      <th>0</th>\n",
       "      <td>2</td>\n",
       "      <td>5</td>\n",
       "      <td>34.5</td>\n",
       "      <td>4.0</td>\n",
       "      <td>4.0</td>\n",
       "      <td>4.0</td>\n",
       "      <td>2</td>\n",
       "      <td>2</td>\n",
       "      <td>0</td>\n",
       "      <td>0</td>\n",
       "      <td>...</td>\n",
       "      <td>0</td>\n",
       "      <td>0</td>\n",
       "      <td>0</td>\n",
       "      <td>0</td>\n",
       "      <td>0</td>\n",
       "      <td>0</td>\n",
       "      <td>0</td>\n",
       "      <td>0</td>\n",
       "      <td>0</td>\n",
       "      <td>0</td>\n",
       "    </tr>\n",
       "    <tr>\n",
       "      <th>1</th>\n",
       "      <td>4</td>\n",
       "      <td>11</td>\n",
       "      <td>44.5</td>\n",
       "      <td>2.0</td>\n",
       "      <td>3.0</td>\n",
       "      <td>5.0</td>\n",
       "      <td>9</td>\n",
       "      <td>14</td>\n",
       "      <td>0</td>\n",
       "      <td>0</td>\n",
       "      <td>...</td>\n",
       "      <td>0</td>\n",
       "      <td>0</td>\n",
       "      <td>0</td>\n",
       "      <td>0</td>\n",
       "      <td>0</td>\n",
       "      <td>0</td>\n",
       "      <td>0</td>\n",
       "      <td>0</td>\n",
       "      <td>0</td>\n",
       "      <td>1</td>\n",
       "    </tr>\n",
       "    <tr>\n",
       "      <th>2</th>\n",
       "      <td>2</td>\n",
       "      <td>5</td>\n",
       "      <td>34.5</td>\n",
       "      <td>1.0</td>\n",
       "      <td>1.0</td>\n",
       "      <td>1.0</td>\n",
       "      <td>5</td>\n",
       "      <td>5</td>\n",
       "      <td>0</td>\n",
       "      <td>0</td>\n",
       "      <td>...</td>\n",
       "      <td>0</td>\n",
       "      <td>0</td>\n",
       "      <td>0</td>\n",
       "      <td>0</td>\n",
       "      <td>0</td>\n",
       "      <td>0</td>\n",
       "      <td>0</td>\n",
       "      <td>0</td>\n",
       "      <td>0</td>\n",
       "      <td>0</td>\n",
       "    </tr>\n",
       "    <tr>\n",
       "      <th>3</th>\n",
       "      <td>2</td>\n",
       "      <td>11</td>\n",
       "      <td>44.5</td>\n",
       "      <td>2.0</td>\n",
       "      <td>2.0</td>\n",
       "      <td>3.0</td>\n",
       "      <td>4</td>\n",
       "      <td>6</td>\n",
       "      <td>0</td>\n",
       "      <td>0</td>\n",
       "      <td>...</td>\n",
       "      <td>0</td>\n",
       "      <td>0</td>\n",
       "      <td>0</td>\n",
       "      <td>0</td>\n",
       "      <td>0</td>\n",
       "      <td>0</td>\n",
       "      <td>0</td>\n",
       "      <td>0</td>\n",
       "      <td>0</td>\n",
       "      <td>0</td>\n",
       "    </tr>\n",
       "    <tr>\n",
       "      <th>4</th>\n",
       "      <td>1</td>\n",
       "      <td>10</td>\n",
       "      <td>44.5</td>\n",
       "      <td>2.0</td>\n",
       "      <td>2.0</td>\n",
       "      <td>2.0</td>\n",
       "      <td>15</td>\n",
       "      <td>15</td>\n",
       "      <td>0</td>\n",
       "      <td>0</td>\n",
       "      <td>...</td>\n",
       "      <td>0</td>\n",
       "      <td>0</td>\n",
       "      <td>0</td>\n",
       "      <td>0</td>\n",
       "      <td>0</td>\n",
       "      <td>0</td>\n",
       "      <td>0</td>\n",
       "      <td>0</td>\n",
       "      <td>0</td>\n",
       "      <td>0</td>\n",
       "    </tr>\n",
       "  </tbody>\n",
       "</table>\n",
       "<p>5 rows × 278 columns</p>\n",
       "</div>"
      ],
      "text/plain": [
       "   Position_Count  Years of Service   Age  Hardship_min  Hardship_median  \\\n",
       "0               2                 5  34.5           4.0              4.0   \n",
       "1               4                11  44.5           2.0              3.0   \n",
       "2               2                 5  34.5           1.0              1.0   \n",
       "3               2                11  44.5           2.0              2.0   \n",
       "4               1                10  44.5           2.0              2.0   \n",
       "\n",
       "   Hardship_max  Min_Incumbent  Max_Incumbent  Add Contingent Worker  \\\n",
       "0           4.0              2              2                      0   \n",
       "1           5.0              9             14                      0   \n",
       "2           1.0              5              5                      0   \n",
       "3           3.0              4              6                      0   \n",
       "4           2.0             15             15                      0   \n",
       "\n",
       "   Additional Job  ...  Nationality_Vanuatu  Nationality_Venezuela  \\\n",
       "0               0  ...                    0                      0   \n",
       "1               0  ...                    0                      0   \n",
       "2               0  ...                    0                      0   \n",
       "3               0  ...                    0                      0   \n",
       "4               0  ...                    0                      0   \n",
       "\n",
       "   Nationality_Viet Nam  Nationality_Vietnam  Nationality_Yemen  \\\n",
       "0                     0                    0                  0   \n",
       "1                     0                    0                  0   \n",
       "2                     0                    0                  0   \n",
       "3                     0                    0                  0   \n",
       "4                     0                    0                  0   \n",
       "\n",
       "   Nationality_Yemen Rep of  Nationality_Yugoslavia  Nationality_Zambia  \\\n",
       "0                         0                       0                   0   \n",
       "1                         0                       0                   0   \n",
       "2                         0                       0                   0   \n",
       "3                         0                       0                   0   \n",
       "4                         0                       0                   0   \n",
       "\n",
       "   Nationality_Zimbabwe  Family/Non-Family_N  \n",
       "0                     0                    0  \n",
       "1                     0                    1  \n",
       "2                     0                    0  \n",
       "3                     0                    0  \n",
       "4                     0                    0  \n",
       "\n",
       "[5 rows x 278 columns]"
      ]
     },
     "execution_count": 8,
     "metadata": {},
     "output_type": "execute_result"
    }
   ],
   "source": [
    "mydf2 = mydf.drop(['Organization', 'Gender', 'Nationality', 'Family/Non-Family'], axis=1)\n",
    "mydf3 = pd.concat([mydf2, cat_dummy], axis = 1)\n",
    "mydf3.head()"
   ]
  },
  {
   "cell_type": "code",
   "execution_count": 9,
   "id": "ceeeca66",
   "metadata": {
    "scrolled": false
   },
   "outputs": [],
   "source": [
    "var = mydf3[['Performance_mean',\"Gender_Male\", \"Position_Count\", \"Years of Service\", \"Age\", \"Hardship_max\", \"Max_Incumbent\", \"Family/Non-Family_N\"]]"
   ]
  },
  {
   "cell_type": "code",
   "execution_count": 10,
   "id": "6c10efaa",
   "metadata": {},
   "outputs": [
    {
     "data": {
      "image/png": "[encoded data removed]",
      "text/plain": [
       "<Figure size 864x864 with 2 Axes>"
      ]
     },
     "metadata": {
      "needs_background": "light"
     },
     "output_type": "display_data"
    }
   ],
   "source": [
    "cor_mat = var.corr().round(2)\n",
    "plt.rcParams['font.size'] = 15\n",
    "plt.figure(figsize = (12, 12))\n",
    "sns.heatmap(cor_mat, vmin = -0.5, vmax = 0.8, center = 0, \n",
    "            cmap = plt.cm.RdYlGn_r, annot = True);\n"
   ]
  },
  {
   "cell_type": "code",
   "execution_count": null,
   "id": "01785b36",
   "metadata": {},
   "outputs": [],
   "source": []
  },
  {
   "cell_type": "code",
   "execution_count": null,
   "id": "49dfbb36",
   "metadata": {},
   "outputs": [],
   "source": []
  },
  {
   "cell_type": "markdown",
   "id": "a5c518dd",
   "metadata": {},
   "source": [
    "# Train/Test Split"
   ]
  },
  {
   "cell_type": "code",
   "execution_count": 11,
   "id": "14bf974c",
   "metadata": {},
   "outputs": [],
   "source": [
    "# Independent variables\n",
    "X = mydf3.drop('Performance_mean', axis = 1)\n",
    "\n",
    "# Dependent variables\n",
    "y = mydf3['Performance_mean']"
   ]
  },
  {
   "cell_type": "code",
   "execution_count": 12,
   "id": "74832b9a",
   "metadata": {
    "scrolled": false
   },
   "outputs": [
    {
     "data": {
      "text/plain": [
       "array([3., 4., 2., 5., 1., 0.])"
      ]
     },
     "execution_count": 12,
     "metadata": {},
     "output_type": "execute_result"
    }
   ],
   "source": [
    "y.unique()"
   ]
  },
  {
   "cell_type": "code",
   "execution_count": 13,
   "id": "3b254d1c",
   "metadata": {},
   "outputs": [
    {
     "data": {
      "text/plain": [
       "array([3, 3, 3, ..., 5, 3, 4])"
      ]
     },
     "execution_count": 13,
     "metadata": {},
     "output_type": "execute_result"
    }
   ],
   "source": [
    "from sklearn.preprocessing import LabelEncoder\n",
    "y = LabelEncoder().fit_transform(y)\n",
    "y"
   ]
  },
  {
   "cell_type": "code",
   "execution_count": 14,
   "id": "a4510687",
   "metadata": {},
   "outputs": [],
   "source": [
    "from sklearn.model_selection import train_test_split\n",
    "# Call train_test_split on X, y, test_size = 0.25, and random_state = 246\n",
    "# Make new variables called X_train, X_test, y_train, and y_test\n",
    "X_train, X_test, y_train, y_test = train_test_split(X, y, \n",
    "                                                  test_size = 0.25,\n",
    "                                                  random_state = 246)"
   ]
  },
  {
   "cell_type": "markdown",
   "id": "b53bd4c3",
   "metadata": {},
   "source": [
    "# Target variable(performance rating) is imbalanced"
   ]
  },
  {
   "cell_type": "code",
   "execution_count": 15,
   "id": "8f5ff0e7",
   "metadata": {
    "scrolled": true
   },
   "outputs": [
    {
     "name": "stdout",
     "output_type": "stream",
     "text": [
      "Class=3, n=6405 (56.596%)\n",
      "Class=4, n=3989 (35.248%)\n",
      "Class=5, n=803 (7.096%)\n",
      "Class=2, n=67 (0.592%)\n",
      "Class=1, n=47 (0.415%)\n",
      "Class=0, n=6 (0.053%)\n"
     ]
    },
    {
     "data": {
      "image/png": "[encoded data removed]",
      "text/plain": [
       "<Figure size 432x288 with 1 Axes>"
      ]
     },
     "metadata": {
      "needs_background": "light"
     },
     "output_type": "display_data"
    }
   ],
   "source": [
    "from collections import Counter\n",
    "\n",
    "\n",
    "# summarize distribution\n",
    "counter = Counter(y_train)\n",
    "for k,v in counter.items():\n",
    "    per = v / len(y_train) * 100\n",
    "    print('Class=%d, n=%d (%.3f%%)' % (k, v, per))\n",
    "    \n",
    "# plot the distribution\n",
    "plt.rcParams['font.size'] = 12\n",
    "plt.bar(counter.keys(), counter.values())\n",
    "plt.title('Average Performance Rating (2016~2019) of UNICEF & UNDP employees')\n",
    "plt.show()"
   ]
  },
  {
   "cell_type": "code",
   "execution_count": 16,
   "id": "2a03d026",
   "metadata": {
    "scrolled": true
   },
   "outputs": [
    {
     "name": "stdout",
     "output_type": "stream",
     "text": [
      "(11317, 277)\n",
      "(11317,)\n",
      "(3773, 277)\n",
      "(3773,)\n"
     ]
    }
   ],
   "source": [
    "print(X_train.shape)\n",
    "print(y_train.shape)\n",
    "print(X_test.shape)\n",
    "print(y_test.shape)"
   ]
  },
  {
   "cell_type": "markdown",
   "id": "19f7c6b1",
   "metadata": {},
   "source": [
    "# SMOTE for imbalanced dataset\n",
    "- SMOTE should be applied only to the training dataset\n",
    "- A problem with imbalanced classification is that there are too few examples of the minority class for a model to effectively learn the decision boundary. One way to solve this problem is to oversample the examples in the minority class. This can be achieved by simply duplicating examples from the minority class in the training dataset prior to fitting a model. This can balance the class distribution but does not provide any additional information to the model.\n",
    "- By default, SMOTE will oversample all classes to have the same number of examples as the class with the most examples.\n",
    "- Reference: \n",
    "https://machinelearningmastery.com/multi-class-imbalanced-classification/\n",
    "https://machinelearningmastery.com/smote-oversampling-for-imbalanced-classification/\n",
    "https://towardsdatascience.com/how-to-effortlessly-handle-class-imbalance-with-python-and-smote-9b715ca8e5a7"
   ]
  },
  {
   "cell_type": "code",
   "execution_count": 17,
   "id": "e0e2eb2d",
   "metadata": {
    "scrolled": false
   },
   "outputs": [
    {
     "name": "stdout",
     "output_type": "stream",
     "text": [
      "Class=3, n=6405 (16.667%)\n",
      "Class=4, n=6405 (16.667%)\n",
      "Class=5, n=6405 (16.667%)\n",
      "Class=2, n=6405 (16.667%)\n",
      "Class=1, n=6405 (16.667%)\n",
      "Class=0, n=6405 (16.667%)\n"
     ]
    },
    {
     "data": {
      "image/png": "[encoded data removed]",
      "text/plain": [
       "<Figure size 432x288 with 1 Axes>"
      ]
     },
     "metadata": {
      "needs_background": "light"
     },
     "output_type": "display_data"
    }
   ],
   "source": [
    "from imblearn.over_sampling import SMOTE\n",
    "\n",
    "# transform the dataset\n",
    "oversample = SMOTE()\n",
    "X_train_sm, y_train_sm = oversample.fit_resample(X_train, y_train)\n",
    "\n",
    "# summarize distribution\n",
    "counter = Counter(y_train_sm)\n",
    "for k,v in counter.items():\n",
    "    per = v / len(y_train_sm) * 100\n",
    "    print('Class=%d, n=%d (%.3f%%)' % (k, v, per))\n",
    "    \n",
    "# plot the distribution\n",
    "plt.rcParams['font.size'] = 12\n",
    "plt.bar(counter.keys(), counter.values())\n",
    "plt.show()\n",
    "\n",
    "# number of rows 15000 --> 30000"
   ]
  },
  {
   "cell_type": "code",
   "execution_count": 18,
   "id": "a6a01274",
   "metadata": {
    "scrolled": false
   },
   "outputs": [
    {
     "name": "stdout",
     "output_type": "stream",
     "text": [
      "(38430, 277)\n",
      "(38430,)\n",
      "(3773, 277)\n",
      "(3773,)\n"
     ]
    }
   ],
   "source": [
    "print(X_train_sm.shape)\n",
    "print(y_train_sm.shape)\n",
    "print(X_test.shape)\n",
    "print(y_test.shape)"
   ]
  },
  {
   "cell_type": "markdown",
   "id": "fc931765",
   "metadata": {},
   "source": [
    "# Scale"
   ]
  },
  {
   "cell_type": "markdown",
   "id": "0d78b19a",
   "metadata": {},
   "source": [
    "Using Sklearn, standarize the magnitude of the features by scaling the values.\n",
    "\n",
    "fit() scaler on X_train and then use that fitted scaler to transform() X_test, in order to avoid data leakage while standardizing my data."
   ]
  },
  {
   "cell_type": "code",
   "execution_count": 19,
   "id": "603a0a64",
   "metadata": {},
   "outputs": [],
   "source": [
    "#No need to scale the Y of train data \n",
    "\n",
    "from sklearn.preprocessing import MinMaxScaler\n",
    "scaler = MinMaxScaler()\n",
    "scaler.fit(X_train_sm)\n",
    "X_tr_scaled = scaler.transform(X_train_sm)\n",
    "X_te_scaled = scaler.transform(X_test)"
   ]
  },
  {
   "cell_type": "code",
   "execution_count": 20,
   "id": "b116b5c3",
   "metadata": {
    "scrolled": false
   },
   "outputs": [
    {
     "data": {
      "text/html": [
       "<div>\n",
       "<style scoped>\n",
       "    .dataframe tbody tr th:only-of-type {\n",
       "        vertical-align: middle;\n",
       "    }\n",
       "\n",
       "    .dataframe tbody tr th {\n",
       "        vertical-align: top;\n",
       "    }\n",
       "\n",
       "    .dataframe thead th {\n",
       "        text-align: right;\n",
       "    }\n",
       "</style>\n",
       "<table border=\"1\" class=\"dataframe\">\n",
       "  <thead>\n",
       "    <tr style=\"text-align: right;\">\n",
       "      <th></th>\n",
       "      <th>Position_Count</th>\n",
       "      <th>Years of Service</th>\n",
       "      <th>Age</th>\n",
       "      <th>Hardship_min</th>\n",
       "      <th>Hardship_median</th>\n",
       "      <th>Hardship_max</th>\n",
       "      <th>Min_Incumbent</th>\n",
       "      <th>Max_Incumbent</th>\n",
       "      <th>Add Contingent Worker</th>\n",
       "      <th>Additional Job</th>\n",
       "      <th>...</th>\n",
       "      <th>Nationality_Vanuatu</th>\n",
       "      <th>Nationality_Venezuela</th>\n",
       "      <th>Nationality_Viet Nam</th>\n",
       "      <th>Nationality_Vietnam</th>\n",
       "      <th>Nationality_Yemen</th>\n",
       "      <th>Nationality_Yemen Rep of</th>\n",
       "      <th>Nationality_Yugoslavia</th>\n",
       "      <th>Nationality_Zambia</th>\n",
       "      <th>Nationality_Zimbabwe</th>\n",
       "      <th>Family/Non-Family_N</th>\n",
       "    </tr>\n",
       "  </thead>\n",
       "  <tbody>\n",
       "    <tr>\n",
       "      <th>0</th>\n",
       "      <td>0.0</td>\n",
       "      <td>0.275</td>\n",
       "      <td>0.50</td>\n",
       "      <td>0.6</td>\n",
       "      <td>0.6</td>\n",
       "      <td>0.8</td>\n",
       "      <td>0.352941</td>\n",
       "      <td>0.333333</td>\n",
       "      <td>0.0</td>\n",
       "      <td>0.0</td>\n",
       "      <td>...</td>\n",
       "      <td>0.0</td>\n",
       "      <td>0.0</td>\n",
       "      <td>0.0</td>\n",
       "      <td>0.0</td>\n",
       "      <td>0.0</td>\n",
       "      <td>0.0</td>\n",
       "      <td>0.0</td>\n",
       "      <td>0.0</td>\n",
       "      <td>1.0</td>\n",
       "      <td>0.0</td>\n",
       "    </tr>\n",
       "    <tr>\n",
       "      <th>1</th>\n",
       "      <td>0.0</td>\n",
       "      <td>0.200</td>\n",
       "      <td>0.50</td>\n",
       "      <td>0.2</td>\n",
       "      <td>0.2</td>\n",
       "      <td>0.2</td>\n",
       "      <td>0.294118</td>\n",
       "      <td>0.277778</td>\n",
       "      <td>0.0</td>\n",
       "      <td>0.0</td>\n",
       "      <td>...</td>\n",
       "      <td>0.0</td>\n",
       "      <td>0.0</td>\n",
       "      <td>0.0</td>\n",
       "      <td>0.0</td>\n",
       "      <td>0.0</td>\n",
       "      <td>0.0</td>\n",
       "      <td>0.0</td>\n",
       "      <td>0.0</td>\n",
       "      <td>0.0</td>\n",
       "      <td>0.0</td>\n",
       "    </tr>\n",
       "    <tr>\n",
       "      <th>2</th>\n",
       "      <td>0.0</td>\n",
       "      <td>0.550</td>\n",
       "      <td>0.50</td>\n",
       "      <td>1.0</td>\n",
       "      <td>1.0</td>\n",
       "      <td>1.0</td>\n",
       "      <td>0.823529</td>\n",
       "      <td>0.777778</td>\n",
       "      <td>0.0</td>\n",
       "      <td>0.0</td>\n",
       "      <td>...</td>\n",
       "      <td>0.0</td>\n",
       "      <td>0.0</td>\n",
       "      <td>0.0</td>\n",
       "      <td>0.0</td>\n",
       "      <td>0.0</td>\n",
       "      <td>0.0</td>\n",
       "      <td>0.0</td>\n",
       "      <td>0.0</td>\n",
       "      <td>0.0</td>\n",
       "      <td>1.0</td>\n",
       "    </tr>\n",
       "    <tr>\n",
       "      <th>3</th>\n",
       "      <td>0.0</td>\n",
       "      <td>0.225</td>\n",
       "      <td>0.50</td>\n",
       "      <td>0.2</td>\n",
       "      <td>0.2</td>\n",
       "      <td>0.4</td>\n",
       "      <td>0.529412</td>\n",
       "      <td>0.500000</td>\n",
       "      <td>0.0</td>\n",
       "      <td>0.0</td>\n",
       "      <td>...</td>\n",
       "      <td>0.0</td>\n",
       "      <td>0.0</td>\n",
       "      <td>0.0</td>\n",
       "      <td>0.0</td>\n",
       "      <td>0.0</td>\n",
       "      <td>0.0</td>\n",
       "      <td>0.0</td>\n",
       "      <td>0.0</td>\n",
       "      <td>0.0</td>\n",
       "      <td>0.0</td>\n",
       "    </tr>\n",
       "    <tr>\n",
       "      <th>4</th>\n",
       "      <td>0.0</td>\n",
       "      <td>0.075</td>\n",
       "      <td>0.25</td>\n",
       "      <td>0.6</td>\n",
       "      <td>0.8</td>\n",
       "      <td>0.8</td>\n",
       "      <td>0.294118</td>\n",
       "      <td>0.277778</td>\n",
       "      <td>0.0</td>\n",
       "      <td>0.0</td>\n",
       "      <td>...</td>\n",
       "      <td>0.0</td>\n",
       "      <td>0.0</td>\n",
       "      <td>0.0</td>\n",
       "      <td>0.0</td>\n",
       "      <td>0.0</td>\n",
       "      <td>0.0</td>\n",
       "      <td>0.0</td>\n",
       "      <td>0.0</td>\n",
       "      <td>0.0</td>\n",
       "      <td>0.0</td>\n",
       "    </tr>\n",
       "  </tbody>\n",
       "</table>\n",
       "<p>5 rows × 277 columns</p>\n",
       "</div>"
      ],
      "text/plain": [
       "   Position_Count  Years of Service   Age  Hardship_min  Hardship_median  \\\n",
       "0             0.0             0.275  0.50           0.6              0.6   \n",
       "1             0.0             0.200  0.50           0.2              0.2   \n",
       "2             0.0             0.550  0.50           1.0              1.0   \n",
       "3             0.0             0.225  0.50           0.2              0.2   \n",
       "4             0.0             0.075  0.25           0.6              0.8   \n",
       "\n",
       "   Hardship_max  Min_Incumbent  Max_Incumbent  Add Contingent Worker  \\\n",
       "0           0.8       0.352941       0.333333                    0.0   \n",
       "1           0.2       0.294118       0.277778                    0.0   \n",
       "2           1.0       0.823529       0.777778                    0.0   \n",
       "3           0.4       0.529412       0.500000                    0.0   \n",
       "4           0.8       0.294118       0.277778                    0.0   \n",
       "\n",
       "   Additional Job  ...  Nationality_Vanuatu  Nationality_Venezuela  \\\n",
       "0             0.0  ...                  0.0                    0.0   \n",
       "1             0.0  ...                  0.0                    0.0   \n",
       "2             0.0  ...                  0.0                    0.0   \n",
       "3             0.0  ...                  0.0                    0.0   \n",
       "4             0.0  ...                  0.0                    0.0   \n",
       "\n",
       "   Nationality_Viet Nam  Nationality_Vietnam  Nationality_Yemen  \\\n",
       "0                   0.0                  0.0                0.0   \n",
       "1                   0.0                  0.0                0.0   \n",
       "2                   0.0                  0.0                0.0   \n",
       "3                   0.0                  0.0                0.0   \n",
       "4                   0.0                  0.0                0.0   \n",
       "\n",
       "   Nationality_Yemen Rep of  Nationality_Yugoslavia  Nationality_Zambia  \\\n",
       "0                       0.0                     0.0                 0.0   \n",
       "1                       0.0                     0.0                 0.0   \n",
       "2                       0.0                     0.0                 0.0   \n",
       "3                       0.0                     0.0                 0.0   \n",
       "4                       0.0                     0.0                 0.0   \n",
       "\n",
       "   Nationality_Zimbabwe  Family/Non-Family_N  \n",
       "0                   1.0                  0.0  \n",
       "1                   0.0                  0.0  \n",
       "2                   0.0                  1.0  \n",
       "3                   0.0                  0.0  \n",
       "4                   0.0                  0.0  \n",
       "\n",
       "[5 rows x 277 columns]"
      ]
     },
     "execution_count": 20,
     "metadata": {},
     "output_type": "execute_result"
    }
   ],
   "source": [
    "pd.DataFrame(X_tr_scaled, index = X_train_sm.index, columns = X_train_sm.columns).head()"
   ]
  },
  {
   "cell_type": "markdown",
   "id": "8a9e366f",
   "metadata": {},
   "source": [
    "# Train/Test with RandomForestClassifier"
   ]
  },
  {
   "cell_type": "code",
   "execution_count": 21,
   "id": "95a85fd3",
   "metadata": {
    "scrolled": true
   },
   "outputs": [
    {
     "data": {
      "image/png": "[encoded data removed]",
      "text/plain": [
       "<Figure size 576x432 with 2 Axes>"
      ]
     },
     "metadata": {
      "needs_background": "light"
     },
     "output_type": "display_data"
    }
   ],
   "source": [
    "from sklearn.ensemble import RandomForestClassifier\n",
    "from sklearn.metrics import confusion_matrix\n",
    "\n",
    "rfc = RandomForestClassifier(random_state=42)\n",
    "rfc.fit(X_tr_scaled, y_train_sm)\n",
    "y_pred = rfc.predict(X_te_scaled)\n",
    "\n",
    "cm = confusion_matrix(y_test, y_pred)\n",
    "plt.figure(figsize=(8, 6))\n",
    "plt.title('Confusion Matrix (with SMOTE)', size=16)\n",
    "sns.heatmap(cm, annot=True, cmap='Blues');"
   ]
  },
  {
   "cell_type": "code",
   "execution_count": 22,
   "id": "3617873a",
   "metadata": {},
   "outputs": [],
   "source": [
    "from sklearn.metrics import f1_score\n",
    "from sklearn.metrics import accuracy_score \n",
    "from sklearn.metrics import recall_score"
   ]
  },
  {
   "cell_type": "code",
   "execution_count": 23,
   "id": "54891da3",
   "metadata": {},
   "outputs": [
    {
     "name": "stdout",
     "output_type": "stream",
     "text": [
      "Random Forest: Accuracy=0.845\n",
      "Random Forest: f1-score=0.841\n",
      "Random Forest: recall-score=0.845\n"
     ]
    }
   ],
   "source": [
    "ac = accuracy_score(y_test, y_pred)\n",
    "\n",
    "f1 = f1_score(y_test, y_pred, average='weighted')\n",
    "\n",
    "recall = recall_score(y_test, y_pred, average='weighted')\n",
    "\n",
    "print('Random Forest: Accuracy=%.3f' % (ac))\n",
    "\n",
    "print('Random Forest: f1-score=%.3f' % (f1))\n",
    "\n",
    "print('Random Forest: recall-score=%.3f' % (recall))"
   ]
  },
  {
   "cell_type": "code",
   "execution_count": null,
   "id": "89e46c93",
   "metadata": {},
   "outputs": [],
   "source": []
  },
  {
   "cell_type": "code",
   "execution_count": 24,
   "id": "ae41280b",
   "metadata": {
    "scrolled": false
   },
   "outputs": [
    {
     "name": "stdout",
     "output_type": "stream",
     "text": [
      "30\n"
     ]
    },
    {
     "data": {
      "image/png": "[encoded data removed]",
      "text/plain": [
       "<Figure size 720x720 with 1 Axes>"
      ]
     },
     "metadata": {
      "needs_background": "light"
     },
     "output_type": "display_data"
    }
   ],
   "source": [
    "feature_importance = rfc.feature_importances_\n",
    "# make importances relative to max importance\n",
    "feature_importance = 100.0 * (feature_importance / feature_importance.max())[:30]\n",
    "sorted_idx = np.argsort(feature_importance)[:30]\n",
    "\n",
    "pos = np.arange(sorted_idx.shape[0]) + .5\n",
    "print(pos.size)\n",
    "sorted_idx.size\n",
    "plt.figure(figsize=(10,10))\n",
    "plt.barh(pos, feature_importance[sorted_idx], align='center')\n",
    "plt.yticks(pos, X.columns[sorted_idx])\n",
    "plt.xlabel('Relative Importance')\n",
    "plt.title('Variable Importance')\n",
    "plt.show()"
   ]
  },
  {
   "cell_type": "markdown",
   "id": "7c73cd01",
   "metadata": {},
   "source": [
    "# Tuning Parameters with RandomizedSearchCV()\n",
    "don't do gridsearch: irrelevant parameter 가 있는데, grid search 를 하면 duplicate하고 낭비한다. \n",
    "just pick randomly!\n"
   ]
  },
  {
   "cell_type": "markdown",
   "id": "b2a2e703",
   "metadata": {},
   "source": [
    "The most important arguments in RandomizedSearchCV are n_iter, which controls the number of different combinations to try, and cv which is the number of folds to use for cross validation (we use 100 and 3 respectively). More iterations will cover a wider search space and more cv folds reduces the chances of overfitting, but raising each will increase the run time. Machine learning is a field of trade-offs, and performance vs time is one of the most fundamental."
   ]
  },
  {
   "cell_type": "code",
   "execution_count": 25,
   "id": "5599242a",
   "metadata": {},
   "outputs": [
    {
     "data": {
      "text/plain": [
       "{'bootstrap': True,\n",
       " 'ccp_alpha': 0.0,\n",
       " 'class_weight': None,\n",
       " 'criterion': 'gini',\n",
       " 'max_depth': None,\n",
       " 'max_features': 'auto',\n",
       " 'max_leaf_nodes': None,\n",
       " 'max_samples': None,\n",
       " 'min_impurity_decrease': 0.0,\n",
       " 'min_impurity_split': None,\n",
       " 'min_samples_leaf': 1,\n",
       " 'min_samples_split': 2,\n",
       " 'min_weight_fraction_leaf': 0.0,\n",
       " 'n_estimators': 100,\n",
       " 'n_jobs': None,\n",
       " 'oob_score': False,\n",
       " 'random_state': 42,\n",
       " 'verbose': 0,\n",
       " 'warm_start': False}"
      ]
     },
     "execution_count": 25,
     "metadata": {},
     "output_type": "execute_result"
    }
   ],
   "source": [
    "rfc.get_params()"
   ]
  },
  {
   "cell_type": "markdown",
   "id": "45239738",
   "metadata": {},
   "source": [
    "- n_estimators = number of trees in the foreset\n",
    "- max_features = The number of features to consider when looking for the best split\n",
    "- max_depth = max number of levels in each decision tree\n",
    "- min_samples_split = min number of data points placed in a node before the node is split\n",
    "- min_samples_leaf = min number of data points allowed in a leaf node\n",
    "- bootstrap = method for sampling data points (with or without replacement)\n",
    "\n",
    "https://towardsdatascience.com/hyperparameter-tuning-the-random-forest-in-python-using-scikit-learn-28d2aa77dd74"
   ]
  },
  {
   "cell_type": "code",
   "execution_count": 29,
   "id": "04424f97",
   "metadata": {},
   "outputs": [],
   "source": [
    "from sklearn.model_selection import RandomizedSearchCV\n",
    "\n",
    "random_grid = {'bootstrap': [True, False],\n",
    "               'max_depth': [10, 50, 100],\n",
    "               'max_features': ['sqrt'],\n",
    "               'min_samples_leaf': [1, 2, 10],\n",
    "               'min_samples_split': [2, 5, 10],\n",
    "               'n_estimators': [int(x) for x in np.linspace(start = 100, stop = 1000, num = 10)]}"
   ]
  },
  {
   "cell_type": "code",
   "execution_count": 31,
   "id": "08bbc030",
   "metadata": {
    "collapsed": true
   },
   "outputs": [
    {
     "name": "stdout",
     "output_type": "stream",
     "text": [
      "Fitting 3 folds for each of 30 candidates, totalling 90 fits\n"
     ]
    },
    {
     "ename": "TypeError",
     "evalue": "score() missing 1 required positional argument: 'X'",
     "output_type": "error",
     "traceback": [
      "\u001b[0;31m---------------------------------------------------------------------------\u001b[0m",
      "\u001b[0;31mTypeError\u001b[0m                                 Traceback (most recent call last)",
      "\u001b[0;32m<ipython-input-31-c737b4d44666>\u001b[0m in \u001b[0;36m<module>\u001b[0;34m\u001b[0m\n\u001b[1;32m      5\u001b[0m \u001b[0mrfc_random\u001b[0m\u001b[0;34m.\u001b[0m\u001b[0mfit\u001b[0m\u001b[0;34m(\u001b[0m\u001b[0mX_tr_scaled\u001b[0m\u001b[0;34m,\u001b[0m \u001b[0my_train_sm\u001b[0m\u001b[0;34m)\u001b[0m\u001b[0;34m\u001b[0m\u001b[0;34m\u001b[0m\u001b[0m\n\u001b[1;32m      6\u001b[0m \u001b[0;34m\u001b[0m\u001b[0m\n\u001b[0;32m----> 7\u001b[0;31m \u001b[0mprint\u001b[0m\u001b[0;34m(\u001b[0m\u001b[0mrfc_random\u001b[0m\u001b[0;34m.\u001b[0m\u001b[0mscore\u001b[0m\u001b[0;34m(\u001b[0m\u001b[0;34m)\u001b[0m\u001b[0;34m)\u001b[0m\u001b[0;34m\u001b[0m\u001b[0;34m\u001b[0m\u001b[0m\n\u001b[0m",
      "\u001b[0;31mTypeError\u001b[0m: score() missing 1 required positional argument: 'X'"
     ]
    }
   ],
   "source": [
    "# Use the random grid to search for best hyperparameters\n",
    "# n_iter: Number of parameter settings that are sampled. n_iter trades off runtime vs quality of the solution.\n",
    "# rfc = RandomForestClassifier(random_state=42)\n",
    "\n",
    "rfc_random = RandomizedSearchCV(estimator = rfc, param_distributions = random_grid, n_iter = 30, cv = 3, verbose=2, random_state=42, n_jobs = -1)\n",
    "# Fit the random search model\n",
    "rfc_random.fit(X_tr_scaled, y_train_sm) # took 20 mins"
   ]
  },
  {
   "cell_type": "code",
   "execution_count": 32,
   "id": "7f3bd6fe",
   "metadata": {},
   "outputs": [
    {
     "data": {
      "text/plain": [
       "RandomForestClassifier(bootstrap=False, max_depth=100, max_features='sqrt',\n",
       "                       min_samples_split=5, n_estimators=1000, random_state=42)"
      ]
     },
     "execution_count": 32,
     "metadata": {},
     "output_type": "execute_result"
    }
   ],
   "source": [
    "rfc_random.best_estimator_"
   ]
  },
  {
   "cell_type": "code",
   "execution_count": 33,
   "id": "0836e04d",
   "metadata": {},
   "outputs": [
    {
     "data": {
      "text/plain": [
       "0.951704397606037"
      ]
     },
     "execution_count": 33,
     "metadata": {},
     "output_type": "execute_result"
    }
   ],
   "source": [
    "rfc_random.best_score_"
   ]
  },
  {
   "cell_type": "code",
   "execution_count": 34,
   "id": "0d12f2e9",
   "metadata": {},
   "outputs": [
    {
     "name": "stdout",
     "output_type": "stream",
     "text": [
      "Fitting 5 folds for each of 30 candidates, totalling 150 fits\n"
     ]
    },
    {
     "data": {
      "text/plain": [
       "RandomizedSearchCV(cv=5, estimator=RandomForestClassifier(random_state=42),\n",
       "                   n_iter=30, n_jobs=-1,\n",
       "                   param_distributions={'bootstrap': [True, False],\n",
       "                                        'max_depth': [50, 100, 200, 500],\n",
       "                                        'max_features': ['sqrt'],\n",
       "                                        'min_samples_leaf': [1, 2, 10],\n",
       "                                        'min_samples_split': [2, 5, 10],\n",
       "                                        'n_estimators': [200, 400, 600, 800,\n",
       "                                                         1000, 1200, 1400, 1600,\n",
       "                                                         1800, 2000]},\n",
       "                   random_state=42, verbose=2)"
      ]
     },
     "execution_count": 34,
     "metadata": {},
     "output_type": "execute_result"
    }
   ],
   "source": [
    "random_grid2 = {'bootstrap': [True, False],\n",
    "               'max_depth': [50, 100, 200, 500],\n",
    "               'max_features': ['sqrt'],\n",
    "               'min_samples_leaf': [1, 2, 10],\n",
    "               'min_samples_split': [2, 5, 10],\n",
    "               'n_estimators': [int(x) for x in np.linspace(start = 200, stop = 2000, num = 10)]}\n",
    "\n",
    "rfc_random2 = RandomizedSearchCV(estimator = rfc, param_distributions = random_grid2, n_iter = 30, cv = 5, verbose=2, random_state=42, n_jobs = -1)\n",
    "\n",
    "rfc_random2.fit(X_tr_scaled, y_train_sm) # about an hour"
   ]
  },
  {
   "cell_type": "code",
   "execution_count": 35,
   "id": "93ca05fa",
   "metadata": {},
   "outputs": [
    {
     "data": {
      "text/plain": [
       "RandomForestClassifier(bootstrap=False, max_depth=50, max_features='sqrt',\n",
       "                       n_estimators=1600, random_state=42)"
      ]
     },
     "execution_count": 35,
     "metadata": {},
     "output_type": "execute_result"
    }
   ],
   "source": [
    "rfc_random2.best_estimator_"
   ]
  },
  {
   "cell_type": "code",
   "execution_count": 36,
   "id": "4f6cce90",
   "metadata": {},
   "outputs": [
    {
     "data": {
      "text/plain": [
       "0.9567004944054125"
      ]
     },
     "execution_count": 36,
     "metadata": {},
     "output_type": "execute_result"
    }
   ],
   "source": [
    "rfc_random2.best_score_ # increased"
   ]
  },
  {
   "cell_type": "markdown",
   "id": "07854e9a",
   "metadata": {},
   "source": [
    "# Why is this best_score_ too high than the scores under other metrics below?"
   ]
  },
  {
   "cell_type": "code",
   "execution_count": 38,
   "id": "f0a594db",
   "metadata": {},
   "outputs": [
    {
     "data": {
      "image/png": "[encoded data removed]",
      "text/plain": [
       "<Figure size 576x432 with 2 Axes>"
      ]
     },
     "metadata": {
      "needs_background": "light"
     },
     "output_type": "display_data"
    }
   ],
   "source": [
    "\n",
    "y_pred2 = rfc_random2.predict(X_te_scaled)\n",
    "\n",
    "cm2 = confusion_matrix(y_test, y_pred2)\n",
    "plt.figure(figsize=(8, 6))\n",
    "plt.title('Confusion Matrix (with SMOTE)', size=16)\n",
    "sns.heatmap(cm2, annot=True, cmap='Blues');"
   ]
  },
  {
   "cell_type": "code",
   "execution_count": 39,
   "id": "ddd1dbf4",
   "metadata": {},
   "outputs": [
    {
     "name": "stdout",
     "output_type": "stream",
     "text": [
      "Random Forest: Accuracy=0.859\n",
      "Random Forest: f1-score=0.847\n",
      "Random Forest: recall-score=0.859\n"
     ]
    }
   ],
   "source": [
    "ac = accuracy_score(y_test, y_pred2)\n",
    "\n",
    "f1 = f1_score(y_test, y_pred2, average='weighted')\n",
    "\n",
    "recall = recall_score(y_test, y_pred2, average='weighted')\n",
    "\n",
    "print('Random Forest: Accuracy=%.3f' % (ac))\n",
    "\n",
    "print('Random Forest: f1-score=%.3f' % (f1))\n",
    "\n",
    "print('Random Forest: recall-score=%.3f' % (recall))"
   ]
  },
  {
   "cell_type": "markdown",
   "id": "32cab183",
   "metadata": {},
   "source": [
    "Previous score:\n",
    "\n",
    "- Random Forest: Accuracy=0.845\n",
    "- Random Forest: f1-score=0.841\n",
    "- Random Forest: recall-score=0.845\n"
   ]
  },
  {
   "cell_type": "code",
   "execution_count": null,
   "id": "f70f777e",
   "metadata": {},
   "outputs": [],
   "source": []
  },
  {
   "cell_type": "code",
   "execution_count": null,
   "id": "a5d585dc",
   "metadata": {},
   "outputs": [],
   "source": []
  },
  {
   "cell_type": "code",
   "execution_count": null,
   "id": "5f2c0d0e",
   "metadata": {},
   "outputs": [],
   "source": []
  },
  {
   "cell_type": "code",
   "execution_count": null,
   "id": "fac9da72",
   "metadata": {},
   "outputs": [],
   "source": []
  },
  {
   "cell_type": "markdown",
   "id": "ca079bee",
   "metadata": {},
   "source": [
    "# Try more models"
   ]
  },
  {
   "cell_type": "code",
   "execution_count": 28,
   "id": "7ec22133",
   "metadata": {},
   "outputs": [],
   "source": [
    "#!pip install xgboost"
   ]
  },
  {
   "cell_type": "code",
   "execution_count": 29,
   "id": "b3380a37",
   "metadata": {
    "scrolled": true
   },
   "outputs": [],
   "source": [
    "from sklearn.svm import SVC\n",
    "from sklearn.tree import DecisionTreeClassifier\n",
    "from sklearn.ensemble import AdaBoostClassifier\n",
    "from sklearn.ensemble import GradientBoostingClassifier\n",
    "from xgboost import XGBClassifier\n",
    "from sklearn.neighbors import KNeighborsClassifier\n",
    "from sklearn.model_selection import cross_val_score"
   ]
  },
  {
   "cell_type": "code",
   "execution_count": 30,
   "id": "8b690963",
   "metadata": {},
   "outputs": [],
   "source": [
    "from sklearn.model_selection import StratifiedKFold"
   ]
  },
  {
   "cell_type": "code",
   "execution_count": 48,
   "id": "90ef1478",
   "metadata": {},
   "outputs": [],
   "source": [
    "kfold = StratifiedKFold(n_splits = 5)\n",
    "# Modeling step Test differents algorithms \n",
    "random_state = 42\n",
    "classifiers = []\n",
    "\n",
    "#classifiers.append(DecisionTreeClassifier(random_state=random_state))\n",
    "classifiers.append(AdaBoostClassifier(DecisionTreeClassifier(random_state=random_state),random_state=random_state,learning_rate=0.1))\n",
    "classifiers.append(RandomForestClassifier(random_state=random_state))\n",
    "classifiers.append(GradientBoostingClassifier(random_state=random_state))\n",
    "classifiers.append(XGBClassifier(learning_rate=0.1,random_state=random_state))\n",
    "#classifiers.append(KNeighborsClassifier())\n"
   ]
  },
  {
   "cell_type": "code",
   "execution_count": 49,
   "id": "b69ea6f2",
   "metadata": {
    "scrolled": true
   },
   "outputs": [
    {
     "data": {
      "text/plain": [
       "[AdaBoostClassifier(base_estimator=DecisionTreeClassifier(random_state=42),\n",
       "                    learning_rate=0.1, random_state=42),\n",
       " RandomForestClassifier(random_state=42),\n",
       " GradientBoostingClassifier(random_state=42),\n",
       " XGBClassifier(base_score=None, booster=None, colsample_bylevel=None,\n",
       "               colsample_bynode=None, colsample_bytree=None, gamma=None,\n",
       "               gpu_id=None, importance_type='gain', interaction_constraints=None,\n",
       "               learning_rate=0.1, max_delta_step=None, max_depth=None,\n",
       "               min_child_weight=None, missing=nan, monotone_constraints=None,\n",
       "               n_estimators=100, n_jobs=None, num_parallel_tree=None,\n",
       "               random_state=42, reg_alpha=None, reg_lambda=None,\n",
       "               scale_pos_weight=None, subsample=None, tree_method=None,\n",
       "               validate_parameters=None, verbosity=None)]"
      ]
     },
     "execution_count": 49,
     "metadata": {},
     "output_type": "execute_result"
    }
   ],
   "source": [
    "classifiers"
   ]
  },
  {
   "cell_type": "code",
   "execution_count": 50,
   "id": "bc3ff1f3",
   "metadata": {},
   "outputs": [],
   "source": [
    "cv_results = []\n",
    "for classifier in classifiers :\n",
    "    cv_results.append(cross_val_score(classifier, X_tr_scaled, y = y_train_sm, scoring = \"accuracy\", cv = kfold, n_jobs=4))\n"
   ]
  },
  {
   "cell_type": "code",
   "execution_count": 51,
   "id": "9005891d",
   "metadata": {},
   "outputs": [
    {
     "data": {
      "text/plain": [
       "[array([0.8793911 , 0.92206609, 0.92362737, 0.92974239, 0.92766068]),\n",
       " array([0.90710383, 0.96096799, 0.96291959, 0.96213895, 0.96148842]),\n",
       " array([0.81811085, 0.86651054, 0.86794171, 0.85974499, 0.85571168]),\n",
       " array([0.856102  , 0.92674993, 0.92740047, 0.9163414 , 0.91347905])]"
      ]
     },
     "execution_count": 51,
     "metadata": {},
     "output_type": "execute_result"
    }
   ],
   "source": [
    "cv_results"
   ]
  },
  {
   "cell_type": "code",
   "execution_count": 52,
   "id": "ee7b487f",
   "metadata": {
    "scrolled": true
   },
   "outputs": [
    {
     "data": {
      "image/png": "[encoded data removed]",
      "text/plain": [
       "<Figure size 432x288 with 1 Axes>"
      ]
     },
     "metadata": {},
     "output_type": "display_data"
    }
   ],
   "source": [
    "cv_means = []\n",
    "cv_std = []\n",
    "for cv_result in cv_results:\n",
    "    cv_means.append(cv_result.mean())\n",
    "    cv_std.append(cv_result.std())\n",
    "\n",
    "cv_res = pd.DataFrame({\"CrossValMeans\":cv_means,\"CrossValerrors\": cv_std,\"Algorithm\":[\"AdaBoost\",\"RandomForest\",\"GradientBoosting\", \"XGboost\"]})\n",
    "\n",
    "g = sns.barplot(\"CrossValMeans\",\"Algorithm\",data = cv_res, palette=\"Set3\",orient = \"h\",**{'xerr':cv_std})\n",
    "g.set_xlabel(\"Mean Accuracy\")\n",
    "g = g.set_title(\"Cross validation scores\")"
   ]
  },
  {
   "cell_type": "code",
   "execution_count": 53,
   "id": "927e667d",
   "metadata": {},
   "outputs": [
    {
     "data": {
      "text/html": [
       "<div>\n",
       "<style scoped>\n",
       "    .dataframe tbody tr th:only-of-type {\n",
       "        vertical-align: middle;\n",
       "    }\n",
       "\n",
       "    .dataframe tbody tr th {\n",
       "        vertical-align: top;\n",
       "    }\n",
       "\n",
       "    .dataframe thead th {\n",
       "        text-align: right;\n",
       "    }\n",
       "</style>\n",
       "<table border=\"1\" class=\"dataframe\">\n",
       "  <thead>\n",
       "    <tr style=\"text-align: right;\">\n",
       "      <th></th>\n",
       "      <th>CrossValMeans</th>\n",
       "      <th>CrossValerrors</th>\n",
       "      <th>Algorithm</th>\n",
       "    </tr>\n",
       "  </thead>\n",
       "  <tbody>\n",
       "    <tr>\n",
       "      <th>0</th>\n",
       "      <td>0.916498</td>\n",
       "      <td>0.018755</td>\n",
       "      <td>AdaBoost</td>\n",
       "    </tr>\n",
       "    <tr>\n",
       "      <th>1</th>\n",
       "      <td>0.950924</td>\n",
       "      <td>0.021920</td>\n",
       "      <td>RandomForest</td>\n",
       "    </tr>\n",
       "    <tr>\n",
       "      <th>2</th>\n",
       "      <td>0.853604</td>\n",
       "      <td>0.018298</td>\n",
       "      <td>GradientBoosting</td>\n",
       "    </tr>\n",
       "    <tr>\n",
       "      <th>3</th>\n",
       "      <td>0.908015</td>\n",
       "      <td>0.026537</td>\n",
       "      <td>XGboost</td>\n",
       "    </tr>\n",
       "  </tbody>\n",
       "</table>\n",
       "</div>"
      ],
      "text/plain": [
       "   CrossValMeans  CrossValerrors         Algorithm\n",
       "0       0.916498        0.018755          AdaBoost\n",
       "1       0.950924        0.021920      RandomForest\n",
       "2       0.853604        0.018298  GradientBoosting\n",
       "3       0.908015        0.026537           XGboost"
      ]
     },
     "execution_count": 53,
     "metadata": {},
     "output_type": "execute_result"
    }
   ],
   "source": [
    "cv_res"
   ]
  },
  {
   "cell_type": "code",
   "execution_count": null,
   "id": "f355b410",
   "metadata": {},
   "outputs": [],
   "source": []
  },
  {
   "cell_type": "code",
   "execution_count": null,
   "id": "d8f916fe",
   "metadata": {},
   "outputs": [],
   "source": []
  },
  {
   "cell_type": "code",
   "execution_count": null,
   "id": "56b04d7f",
   "metadata": {},
   "outputs": [],
   "source": []
  },
  {
   "cell_type": "code",
   "execution_count": null,
   "id": "06d4a833",
   "metadata": {},
   "outputs": [],
   "source": []
  },
  {
   "cell_type": "markdown",
   "id": "52df466d",
   "metadata": {},
   "source": [
    "# Proportional Odds Logistic Regression for Ordered Category Outcomes\n",
    "Handbook of Regression Modeling in People Analytics: \n",
    "https://peopleanalytics-regression-book.org/ord-reg.html\n"
   ]
  },
  {
   "cell_type": "code",
   "execution_count": 23,
   "id": "2d38e7f0",
   "metadata": {},
   "outputs": [],
   "source": [
    "    \n",
    "#pd.set_option('display.max_rows', 100)"
   ]
  }
 ],
 "metadata": {
  "kernelspec": {
   "display_name": "Python 3",
   "language": "python",
   "name": "python3"
  },
  "language_info": {
   "codemirror_mode": {
    "name": "ipython",
    "version": 3
   },
   "file_extension": ".py",
   "mimetype": "text/x-python",
   "name": "python",
   "nbconvert_exporter": "python",
   "pygments_lexer": "ipython3",
   "version": "3.8.8"
  }
 },
 "nbformat": 4,
 "nbformat_minor": 5
}
