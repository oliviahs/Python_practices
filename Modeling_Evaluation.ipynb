{
 "cells": [
  {
   "cell_type": "code",
   "execution_count": 1,
   "id": "fbc9aa7d",
   "metadata": {},
   "outputs": [],
   "source": [
    "import pandas as pd\n",
    "import numpy as np\n",
    "import warnings\n",
    "warnings.filterwarnings('ignore')\n",
    "import matplotlib.pyplot as plt\n",
    "import seaborn as sns"
   ]
  },
  {
   "cell_type": "code",
   "execution_count": 99,
   "id": "802e97a6",
   "metadata": {},
   "outputs": [],
   "source": [
    "# Load the final version of the cleaned data\n",
    "df = pd.read_csv('finaldf2.csv')"
   ]
  },
  {
   "cell_type": "code",
   "execution_count": 100,
   "id": "cfc35d47",
   "metadata": {},
   "outputs": [
    {
     "name": "stdout",
     "output_type": "stream",
     "text": [
      "<class 'pandas.core.frame.DataFrame'>\n",
      "RangeIndex: 15090 entries, 0 to 15089\n",
      "Data columns (total 75 columns):\n",
      " #   Column                          Non-Null Count  Dtype  \n",
      "---  ------                          --------------  -----  \n",
      " 0   Index No                        15090 non-null  object \n",
      " 1   Organization                    15090 non-null  object \n",
      " 2   Gender                          15090 non-null  object \n",
      " 3   Nationality                     15090 non-null  object \n",
      " 4   Hire Date                       15090 non-null  object \n",
      " 5   DS Location                     15090 non-null  object \n",
      " 6   DS Country                      15090 non-null  object \n",
      " 7   Family/Non-Family               15090 non-null  object \n",
      " 8   Position_Count                  15090 non-null  int64  \n",
      " 9   Years of Service                15090 non-null  int64  \n",
      " 10  Age                             15090 non-null  float64\n",
      " 11  Hardship_min                    15090 non-null  float64\n",
      " 12  Hardship_median                 15090 non-null  float64\n",
      " 13  Hardship_max                    15090 non-null  float64\n",
      " 14  Min_Incumbent                   15090 non-null  int64  \n",
      " 15  Max_Incumbent                   15090 non-null  int64  \n",
      " 16  Add Contingent Worker           15090 non-null  int64  \n",
      " 17  Additional Job                  15090 non-null  int64  \n",
      " 18  CSL Half Pay Only               15090 non-null  int64  \n",
      " 19  Category Change                 15090 non-null  int64  \n",
      " 20  Change Employment Percentage    15090 non-null  int64  \n",
      " 21  Change Personal Data            15090 non-null  int64  \n",
      " 22  Change in Grade                 15090 non-null  int64  \n",
      " 23  Change in Pay                   15090 non-null  int64  \n",
      " 24  Contract Change                 15090 non-null  int64  \n",
      " 25  Correct Staff Birth Date        15090 non-null  int64  \n",
      " 26  Correct staff birth date        15090 non-null  int64  \n",
      " 27  Corrected Entry Date            15090 non-null  int64  \n",
      " 28  Create Fam Member/Dependents    15090 non-null  int64  \n",
      " 29  Data Change                     15090 non-null  int64  \n",
      " 30  Demotion                        15090 non-null  int64  \n",
      " 31  Double Incumbency               15090 non-null  int64  \n",
      " 32  Entry into UNJSPF               15090 non-null  int64  \n",
      " 33  Family Status Change            15090 non-null  int64  \n",
      " 34  Grant Maternity/Paternity Leav  15090 non-null  int64  \n",
      " 35  HR Conversion                   15090 non-null  int64  \n",
      " 36  Hire                            15090 non-null  int64  \n",
      " 37  Incorrect Entry Date            15090 non-null  int64  \n",
      " 38  Initial Appt - Pernr exist      15090 non-null  int64  \n",
      " 39  Initial appointment             15090 non-null  int64  \n",
      " 40  Lateral Move                    15090 non-null  int64  \n",
      " 41  Lateral Move - Loan             15090 non-null  int64  \n",
      " 42  Leave of Absence                15090 non-null  int64  \n",
      " 43  Local Transfer to SAP           15090 non-null  int64  \n",
      " 44  Long Term Absence               15090 non-null  int64  \n",
      " 45  Long Term Absence without pay   15090 non-null  int64  \n",
      " 46  Long Term Adsence without pay   15090 non-null  int64  \n",
      " 47  M&HA                            15090 non-null  int64  \n",
      " 48  Organizational Mgmt Change      15090 non-null  int64  \n",
      " 49  Paid Leave of Absence           15090 non-null  int64  \n",
      " 50  Pay Rate Change                 15090 non-null  int64  \n",
      " 51  Position Change                 15090 non-null  int64  \n",
      " 52  Promotion                       15090 non-null  int64  \n",
      " 53  Reappointment                   15090 non-null  int64  \n",
      " 54  Reappointment - LOCAL           15090 non-null  int64  \n",
      " 55  Reappointment - Travel          15090 non-null  int64  \n",
      " 56  Reassignment                    15090 non-null  int64  \n",
      " 57  Recall from Suspension/Layoff   15090 non-null  int64  \n",
      " 58  Rehire                          15090 non-null  int64  \n",
      " 59  Reinstatement                   15090 non-null  int64  \n",
      " 60  Retirement                      15090 non-null  int64  \n",
      " 61  Return from Leave               15090 non-null  int64  \n",
      " 62  Return from Long Term Absence   15090 non-null  int64  \n",
      " 63  Return from temp Assignment     15090 non-null  int64  \n",
      " 64  Separation                      15090 non-null  int64  \n",
      " 65  Suspension                      15090 non-null  int64  \n",
      " 66  Temp Assignment                 15090 non-null  int64  \n",
      " 67  Termination                     15090 non-null  int64  \n",
      " 68  Transfer                        15090 non-null  int64  \n",
      " 69  Travel for Appointment          15090 non-null  int64  \n",
      " 70  Travel for Re-Appointment       15090 non-null  int64  \n",
      " 71  Unknown                         15090 non-null  int64  \n",
      " 72  Update(Local Staff)             15090 non-null  int64  \n",
      " 73  Performance_mean                15090 non-null  float64\n",
      " 74  Difference_incumbent            15090 non-null  int64  \n",
      "dtypes: float64(5), int64(62), object(8)\n",
      "memory usage: 8.6+ MB\n"
     ]
    }
   ],
   "source": [
    "df.info()"
   ]
  },
  {
   "cell_type": "code",
   "execution_count": 101,
   "id": "2e819eb4",
   "metadata": {},
   "outputs": [],
   "source": [
    "# Drop unneccesary columns\n",
    "#'DS Location','DS Country' are dropped as these were for evaluating Hardship level.\n",
    "mydf = df.drop(['Index No','Hire Date','DS Location','DS Country'], axis=1)"
   ]
  },
  {
   "cell_type": "code",
   "execution_count": 102,
   "id": "0dee7a09",
   "metadata": {},
   "outputs": [],
   "source": [
    "categories = mydf[['Organization', 'Gender', 'Nationality', 'Family/Non-Family']]"
   ]
  },
  {
   "cell_type": "code",
   "execution_count": 103,
   "id": "7072af2b",
   "metadata": {},
   "outputs": [],
   "source": [
    "cat_dummy = pd.get_dummies(categories, drop_first = True)"
   ]
  },
  {
   "cell_type": "code",
   "execution_count": 104,
   "id": "9690476c",
   "metadata": {
    "scrolled": false
   },
   "outputs": [
    {
     "data": {
      "text/html": [
       "<div>\n",
       "<style scoped>\n",
       "    .dataframe tbody tr th:only-of-type {\n",
       "        vertical-align: middle;\n",
       "    }\n",
       "\n",
       "    .dataframe tbody tr th {\n",
       "        vertical-align: top;\n",
       "    }\n",
       "\n",
       "    .dataframe thead th {\n",
       "        text-align: right;\n",
       "    }\n",
       "</style>\n",
       "<table border=\"1\" class=\"dataframe\">\n",
       "  <thead>\n",
       "    <tr style=\"text-align: right;\">\n",
       "      <th></th>\n",
       "      <th>Position_Count</th>\n",
       "      <th>Years of Service</th>\n",
       "      <th>Age</th>\n",
       "      <th>Hardship_min</th>\n",
       "      <th>Hardship_median</th>\n",
       "      <th>Hardship_max</th>\n",
       "      <th>Min_Incumbent</th>\n",
       "      <th>Max_Incumbent</th>\n",
       "      <th>Add Contingent Worker</th>\n",
       "      <th>Additional Job</th>\n",
       "      <th>...</th>\n",
       "      <th>Nationality_Vanuatu</th>\n",
       "      <th>Nationality_Venezuela</th>\n",
       "      <th>Nationality_Viet Nam</th>\n",
       "      <th>Nationality_Vietnam</th>\n",
       "      <th>Nationality_Yemen</th>\n",
       "      <th>Nationality_Yemen Rep of</th>\n",
       "      <th>Nationality_Yugoslavia</th>\n",
       "      <th>Nationality_Zambia</th>\n",
       "      <th>Nationality_Zimbabwe</th>\n",
       "      <th>Family/Non-Family_N</th>\n",
       "    </tr>\n",
       "  </thead>\n",
       "  <tbody>\n",
       "    <tr>\n",
       "      <th>0</th>\n",
       "      <td>2</td>\n",
       "      <td>5</td>\n",
       "      <td>34.5</td>\n",
       "      <td>4.0</td>\n",
       "      <td>4.0</td>\n",
       "      <td>4.0</td>\n",
       "      <td>2</td>\n",
       "      <td>2</td>\n",
       "      <td>0</td>\n",
       "      <td>0</td>\n",
       "      <td>...</td>\n",
       "      <td>0</td>\n",
       "      <td>0</td>\n",
       "      <td>0</td>\n",
       "      <td>0</td>\n",
       "      <td>0</td>\n",
       "      <td>0</td>\n",
       "      <td>0</td>\n",
       "      <td>0</td>\n",
       "      <td>0</td>\n",
       "      <td>0</td>\n",
       "    </tr>\n",
       "    <tr>\n",
       "      <th>1</th>\n",
       "      <td>4</td>\n",
       "      <td>11</td>\n",
       "      <td>44.5</td>\n",
       "      <td>2.0</td>\n",
       "      <td>3.0</td>\n",
       "      <td>5.0</td>\n",
       "      <td>9</td>\n",
       "      <td>14</td>\n",
       "      <td>0</td>\n",
       "      <td>0</td>\n",
       "      <td>...</td>\n",
       "      <td>0</td>\n",
       "      <td>0</td>\n",
       "      <td>0</td>\n",
       "      <td>0</td>\n",
       "      <td>0</td>\n",
       "      <td>0</td>\n",
       "      <td>0</td>\n",
       "      <td>0</td>\n",
       "      <td>0</td>\n",
       "      <td>1</td>\n",
       "    </tr>\n",
       "    <tr>\n",
       "      <th>2</th>\n",
       "      <td>2</td>\n",
       "      <td>5</td>\n",
       "      <td>34.5</td>\n",
       "      <td>1.0</td>\n",
       "      <td>1.0</td>\n",
       "      <td>1.0</td>\n",
       "      <td>5</td>\n",
       "      <td>5</td>\n",
       "      <td>0</td>\n",
       "      <td>0</td>\n",
       "      <td>...</td>\n",
       "      <td>0</td>\n",
       "      <td>0</td>\n",
       "      <td>0</td>\n",
       "      <td>0</td>\n",
       "      <td>0</td>\n",
       "      <td>0</td>\n",
       "      <td>0</td>\n",
       "      <td>0</td>\n",
       "      <td>0</td>\n",
       "      <td>0</td>\n",
       "    </tr>\n",
       "    <tr>\n",
       "      <th>3</th>\n",
       "      <td>2</td>\n",
       "      <td>11</td>\n",
       "      <td>44.5</td>\n",
       "      <td>2.0</td>\n",
       "      <td>2.0</td>\n",
       "      <td>3.0</td>\n",
       "      <td>4</td>\n",
       "      <td>6</td>\n",
       "      <td>0</td>\n",
       "      <td>0</td>\n",
       "      <td>...</td>\n",
       "      <td>0</td>\n",
       "      <td>0</td>\n",
       "      <td>0</td>\n",
       "      <td>0</td>\n",
       "      <td>0</td>\n",
       "      <td>0</td>\n",
       "      <td>0</td>\n",
       "      <td>0</td>\n",
       "      <td>0</td>\n",
       "      <td>0</td>\n",
       "    </tr>\n",
       "    <tr>\n",
       "      <th>4</th>\n",
       "      <td>1</td>\n",
       "      <td>10</td>\n",
       "      <td>44.5</td>\n",
       "      <td>2.0</td>\n",
       "      <td>2.0</td>\n",
       "      <td>2.0</td>\n",
       "      <td>15</td>\n",
       "      <td>15</td>\n",
       "      <td>0</td>\n",
       "      <td>0</td>\n",
       "      <td>...</td>\n",
       "      <td>0</td>\n",
       "      <td>0</td>\n",
       "      <td>0</td>\n",
       "      <td>0</td>\n",
       "      <td>0</td>\n",
       "      <td>0</td>\n",
       "      <td>0</td>\n",
       "      <td>0</td>\n",
       "      <td>0</td>\n",
       "      <td>0</td>\n",
       "    </tr>\n",
       "  </tbody>\n",
       "</table>\n",
       "<p>5 rows × 279 columns</p>\n",
       "</div>"
      ],
      "text/plain": [
       "   Position_Count  Years of Service   Age  Hardship_min  Hardship_median  \\\n",
       "0               2                 5  34.5           4.0              4.0   \n",
       "1               4                11  44.5           2.0              3.0   \n",
       "2               2                 5  34.5           1.0              1.0   \n",
       "3               2                11  44.5           2.0              2.0   \n",
       "4               1                10  44.5           2.0              2.0   \n",
       "\n",
       "   Hardship_max  Min_Incumbent  Max_Incumbent  Add Contingent Worker  \\\n",
       "0           4.0              2              2                      0   \n",
       "1           5.0              9             14                      0   \n",
       "2           1.0              5              5                      0   \n",
       "3           3.0              4              6                      0   \n",
       "4           2.0             15             15                      0   \n",
       "\n",
       "   Additional Job  ...  Nationality_Vanuatu  Nationality_Venezuela  \\\n",
       "0               0  ...                    0                      0   \n",
       "1               0  ...                    0                      0   \n",
       "2               0  ...                    0                      0   \n",
       "3               0  ...                    0                      0   \n",
       "4               0  ...                    0                      0   \n",
       "\n",
       "   Nationality_Viet Nam  Nationality_Vietnam  Nationality_Yemen  \\\n",
       "0                     0                    0                  0   \n",
       "1                     0                    0                  0   \n",
       "2                     0                    0                  0   \n",
       "3                     0                    0                  0   \n",
       "4                     0                    0                  0   \n",
       "\n",
       "   Nationality_Yemen Rep of  Nationality_Yugoslavia  Nationality_Zambia  \\\n",
       "0                         0                       0                   0   \n",
       "1                         0                       0                   0   \n",
       "2                         0                       0                   0   \n",
       "3                         0                       0                   0   \n",
       "4                         0                       0                   0   \n",
       "\n",
       "   Nationality_Zimbabwe  Family/Non-Family_N  \n",
       "0                     0                    0  \n",
       "1                     0                    1  \n",
       "2                     0                    0  \n",
       "3                     0                    0  \n",
       "4                     0                    0  \n",
       "\n",
       "[5 rows x 279 columns]"
      ]
     },
     "execution_count": 104,
     "metadata": {},
     "output_type": "execute_result"
    }
   ],
   "source": [
    "mydf2 = mydf.drop(['Organization', 'Gender', 'Nationality', 'Family/Non-Family'], axis=1)\n",
    "mydf3 = pd.concat([mydf2, cat_dummy], axis = 1)\n",
    "mydf3.head()"
   ]
  },
  {
   "cell_type": "markdown",
   "id": "05fa69aa",
   "metadata": {},
   "source": [
    "# Correlation heatmap with selected variables\n",
    "\n",
    "I will use Spearman correlation coefficient for assessing the strength of the relationship between variables, as the selected variables are mostly ordinal.\n",
    "\n",
    "* The Spearman rank correlation coefficient: Non-parametric version of the Pearson correlation coefficient. It can deal with ordinal, interval or ratio variables for monotonic relationships. \n",
    "* Nonparametric statistics are used when our data are measured on a nominal or ordinal scale of measurement.\n",
    "* In a monotonic relationship, the variables tend to move in the same relative direction, but not necessarily at a constant rate. In a linear relationship, the variables move in the same direction at a constant rate.\n",
    "* Pearson's correlation is a measure of the linear relationship between two continuous random variables."
   ]
  },
  {
   "cell_type": "code",
   "execution_count": 105,
   "id": "a183f296",
   "metadata": {},
   "outputs": [],
   "source": [
    "var = mydf3[['Performance_mean',\"Gender_Male\", \"Position_Count\", \"Years of Service\", \"Age\", \"Hardship_max\", \"Max_Incumbent\",\"Difference_incumbent\", \"Family/Non-Family_N\"]]"
   ]
  },
  {
   "cell_type": "code",
   "execution_count": 106,
   "id": "959a4b78",
   "metadata": {
    "scrolled": true
   },
   "outputs": [
    {
     "data": {
      "image/png": "[encoded data removed]",
      "text/plain": [
       "<Figure size 864x864 with 2 Axes>"
      ]
     },
     "metadata": {
      "needs_background": "light"
     },
     "output_type": "display_data"
    }
   ],
   "source": [
    "cor_mat = var.corr(method='spearman').round(2)\n",
    "plt.rcParams['font.size'] = 15\n",
    "plt.figure(figsize = (12, 12))\n",
    "sns.heatmap(cor_mat, vmin = -0.5, vmax = 0.8, center = 0, \n",
    "            cmap = plt.cm.RdYlGn_r, annot = True);"
   ]
  },
  {
   "cell_type": "markdown",
   "id": "e7ac22d0",
   "metadata": {},
   "source": [
    "There were some relatively strong positive correlation between variables, such as Difference_incumbent(Promotion) & Position_Count(Total number of positions), Hardship_max & Family/Non-Family, Age & Years of Service.\n",
    "\n",
    "When it comes to the target variable, Performance_mean, no strong correlation was found. "
   ]
  },
  {
   "cell_type": "code",
   "execution_count": null,
   "id": "ba0aa7f6",
   "metadata": {},
   "outputs": [],
   "source": []
  },
  {
   "cell_type": "code",
   "execution_count": null,
   "id": "39a58ea8",
   "metadata": {},
   "outputs": [],
   "source": []
  },
  {
   "cell_type": "markdown",
   "id": "28721c01",
   "metadata": {},
   "source": [
    "# Train/Test split\n"
   ]
  },
  {
   "cell_type": "code",
   "execution_count": 10,
   "id": "f9bb347c",
   "metadata": {},
   "outputs": [],
   "source": [
    "# Independent variables\n",
    "X = mydf3.drop('Performance_mean', axis = 1)\n",
    "\n",
    "# Dependent variables\n",
    "y = mydf3['Performance_mean']"
   ]
  },
  {
   "cell_type": "code",
   "execution_count": 11,
   "id": "740f8780",
   "metadata": {},
   "outputs": [
    {
     "data": {
      "text/plain": [
       "array([3., 4., 2., 5., 1., 0.])"
      ]
     },
     "execution_count": 11,
     "metadata": {},
     "output_type": "execute_result"
    }
   ],
   "source": [
    "y.unique()"
   ]
  },
  {
   "cell_type": "code",
   "execution_count": 12,
   "id": "88d03401",
   "metadata": {},
   "outputs": [
    {
     "data": {
      "text/plain": [
       "array([3, 3, 3, ..., 5, 3, 4])"
      ]
     },
     "execution_count": 12,
     "metadata": {},
     "output_type": "execute_result"
    }
   ],
   "source": [
    "from sklearn.preprocessing import LabelEncoder\n",
    "y = LabelEncoder().fit_transform(y)\n",
    "y"
   ]
  },
  {
   "cell_type": "code",
   "execution_count": 13,
   "id": "1e2a6c85",
   "metadata": {},
   "outputs": [],
   "source": [
    "from sklearn.model_selection import train_test_split\n",
    "# Call train_test_split on X, y, test_size = 0.25, and random_state = 246\n",
    "# Make new variables called X_train, X_test, y_train, and y_test\n",
    "X_train, X_test, y_train, y_test = train_test_split(X, y, \n",
    "                                                  test_size = 0.25,\n",
    "                                                  random_state = 246)"
   ]
  },
  {
   "cell_type": "markdown",
   "id": "d7f38f72",
   "metadata": {},
   "source": [
    "# Applying SMOTE for imbalanced dataset\n",
    "### Target variable(performance rating) is imbalanced\n",
    "- SMOTE should be applied only to the training dataset\n",
    "- A problem with imbalanced classification is that there are too few examples of the minority class for a model to effectively learn the decision boundary. One way to solve this problem is to oversample the examples in the minority class. This can be achieved by simply duplicating examples from the minority class in the training dataset prior to fitting a model. This can balance the class distribution but does not provide any additional information to the model.\n",
    "- By default, SMOTE will oversample all classes to have the same number of examples as the class with the most examples.\n",
    "- Reference: \n",
    "https://machinelearningmastery.com/multi-class-imbalanced-classification/\n",
    "https://machinelearningmastery.com/smote-oversampling-for-imbalanced-classification/\n",
    "https://towardsdatascience.com/how-to-effortlessly-handle-class-imbalance-with-python-and-smote-9b715ca8e5a7"
   ]
  },
  {
   "cell_type": "code",
   "execution_count": 14,
   "id": "e4f07529",
   "metadata": {},
   "outputs": [
    {
     "name": "stdout",
     "output_type": "stream",
     "text": [
      "Class=3, n=6405 (56.596%)\n",
      "Class=4, n=3989 (35.248%)\n",
      "Class=5, n=803 (7.096%)\n",
      "Class=2, n=67 (0.592%)\n",
      "Class=1, n=47 (0.415%)\n",
      "Class=0, n=6 (0.053%)\n"
     ]
    },
    {
     "data": {
      "image/png": "[encoded data removed]",
      "text/plain": [
       "<Figure size 432x288 with 1 Axes>"
      ]
     },
     "metadata": {
      "needs_background": "light"
     },
     "output_type": "display_data"
    }
   ],
   "source": [
    "from collections import Counter\n",
    "\n",
    "\n",
    "# summarize distribution\n",
    "counter = Counter(y_train)\n",
    "for k,v in counter.items():\n",
    "    per = v / len(y_train) * 100\n",
    "    print('Class=%d, n=%d (%.3f%%)' % (k, v, per))\n",
    "    \n",
    "# plot the distribution\n",
    "plt.rcParams['font.size'] = 12\n",
    "plt.bar(counter.keys(), counter.values())\n",
    "plt.title('Average Performance Rating (2016~2019) of UNICEF & UNDP employees')\n",
    "plt.show()"
   ]
  },
  {
   "cell_type": "code",
   "execution_count": 15,
   "id": "19b2ed56",
   "metadata": {},
   "outputs": [
    {
     "name": "stdout",
     "output_type": "stream",
     "text": [
      "Class=3, n=6405 (16.667%)\n",
      "Class=4, n=6405 (16.667%)\n",
      "Class=5, n=6405 (16.667%)\n",
      "Class=2, n=6405 (16.667%)\n",
      "Class=1, n=6405 (16.667%)\n",
      "Class=0, n=6405 (16.667%)\n"
     ]
    },
    {
     "data": {
      "image/png": "[encoded data removed]",
      "text/plain": [
       "<Figure size 432x288 with 1 Axes>"
      ]
     },
     "metadata": {
      "needs_background": "light"
     },
     "output_type": "display_data"
    }
   ],
   "source": [
    "from imblearn.over_sampling import SMOTE\n",
    "\n",
    "# transform the dataset\n",
    "oversample = SMOTE()\n",
    "X_train_sm, y_train_sm = oversample.fit_resample(X_train, y_train)\n",
    "\n",
    "# summarize distribution\n",
    "counter = Counter(y_train_sm)\n",
    "for k,v in counter.items():\n",
    "    per = v / len(y_train_sm) * 100\n",
    "    print('Class=%d, n=%d (%.3f%%)' % (k, v, per))\n",
    "    \n",
    "# plot the distribution\n",
    "plt.rcParams['font.size'] = 12\n",
    "plt.bar(counter.keys(), counter.values())\n",
    "plt.show()\n",
    "\n",
    "# number of rows 15000 --> 30000"
   ]
  },
  {
   "cell_type": "code",
   "execution_count": 16,
   "id": "b53793e9",
   "metadata": {},
   "outputs": [
    {
     "name": "stdout",
     "output_type": "stream",
     "text": [
      "(38430, 278)\n",
      "(38430,)\n",
      "(3773, 278)\n",
      "(3773,)\n"
     ]
    }
   ],
   "source": [
    "# shape of training and testing data\n",
    "print(X_train_sm.shape)\n",
    "print(y_train_sm.shape)\n",
    "print(X_test.shape)\n",
    "print(y_test.shape)"
   ]
  },
  {
   "cell_type": "markdown",
   "id": "e808543e",
   "metadata": {},
   "source": [
    "# Scale\n",
    "- Using Sklearn, standarize the magnitude of the features by scaling the values.\n",
    "- fit() scaler on X_train and then use that fitted scaler to transform() X_test, in order to avoid data leakage while standardizing my data."
   ]
  },
  {
   "cell_type": "code",
   "execution_count": 17,
   "id": "68c3eadc",
   "metadata": {},
   "outputs": [],
   "source": [
    "#No need to scale the Y of train data \n",
    "\n",
    "from sklearn.preprocessing import MinMaxScaler\n",
    "scaler = MinMaxScaler()\n",
    "scaler.fit(X_train_sm)\n",
    "X_tr_scaled = scaler.transform(X_train_sm)\n",
    "X_te_scaled = scaler.transform(X_test)"
   ]
  },
  {
   "cell_type": "code",
   "execution_count": 18,
   "id": "951fe418",
   "metadata": {
    "scrolled": true
   },
   "outputs": [
    {
     "data": {
      "text/html": [
       "<div>\n",
       "<style scoped>\n",
       "    .dataframe tbody tr th:only-of-type {\n",
       "        vertical-align: middle;\n",
       "    }\n",
       "\n",
       "    .dataframe tbody tr th {\n",
       "        vertical-align: top;\n",
       "    }\n",
       "\n",
       "    .dataframe thead th {\n",
       "        text-align: right;\n",
       "    }\n",
       "</style>\n",
       "<table border=\"1\" class=\"dataframe\">\n",
       "  <thead>\n",
       "    <tr style=\"text-align: right;\">\n",
       "      <th></th>\n",
       "      <th>Position_Count</th>\n",
       "      <th>Years of Service</th>\n",
       "      <th>Age</th>\n",
       "      <th>Hardship_min</th>\n",
       "      <th>Hardship_median</th>\n",
       "      <th>Hardship_max</th>\n",
       "      <th>Min_Incumbent</th>\n",
       "      <th>Max_Incumbent</th>\n",
       "      <th>Add Contingent Worker</th>\n",
       "      <th>Additional Job</th>\n",
       "      <th>...</th>\n",
       "      <th>Nationality_Vanuatu</th>\n",
       "      <th>Nationality_Venezuela</th>\n",
       "      <th>Nationality_Viet Nam</th>\n",
       "      <th>Nationality_Vietnam</th>\n",
       "      <th>Nationality_Yemen</th>\n",
       "      <th>Nationality_Yemen Rep of</th>\n",
       "      <th>Nationality_Yugoslavia</th>\n",
       "      <th>Nationality_Zambia</th>\n",
       "      <th>Nationality_Zimbabwe</th>\n",
       "      <th>Family/Non-Family_N</th>\n",
       "    </tr>\n",
       "  </thead>\n",
       "  <tbody>\n",
       "    <tr>\n",
       "      <th>0</th>\n",
       "      <td>0.0</td>\n",
       "      <td>0.275</td>\n",
       "      <td>0.50</td>\n",
       "      <td>0.6</td>\n",
       "      <td>0.6</td>\n",
       "      <td>0.8</td>\n",
       "      <td>0.352941</td>\n",
       "      <td>0.333333</td>\n",
       "      <td>0.0</td>\n",
       "      <td>0.0</td>\n",
       "      <td>...</td>\n",
       "      <td>0.0</td>\n",
       "      <td>0.0</td>\n",
       "      <td>0.0</td>\n",
       "      <td>0.0</td>\n",
       "      <td>0.0</td>\n",
       "      <td>0.0</td>\n",
       "      <td>0.0</td>\n",
       "      <td>0.0</td>\n",
       "      <td>1.0</td>\n",
       "      <td>0.0</td>\n",
       "    </tr>\n",
       "    <tr>\n",
       "      <th>1</th>\n",
       "      <td>0.0</td>\n",
       "      <td>0.200</td>\n",
       "      <td>0.50</td>\n",
       "      <td>0.2</td>\n",
       "      <td>0.2</td>\n",
       "      <td>0.2</td>\n",
       "      <td>0.294118</td>\n",
       "      <td>0.277778</td>\n",
       "      <td>0.0</td>\n",
       "      <td>0.0</td>\n",
       "      <td>...</td>\n",
       "      <td>0.0</td>\n",
       "      <td>0.0</td>\n",
       "      <td>0.0</td>\n",
       "      <td>0.0</td>\n",
       "      <td>0.0</td>\n",
       "      <td>0.0</td>\n",
       "      <td>0.0</td>\n",
       "      <td>0.0</td>\n",
       "      <td>0.0</td>\n",
       "      <td>0.0</td>\n",
       "    </tr>\n",
       "    <tr>\n",
       "      <th>2</th>\n",
       "      <td>0.0</td>\n",
       "      <td>0.550</td>\n",
       "      <td>0.50</td>\n",
       "      <td>1.0</td>\n",
       "      <td>1.0</td>\n",
       "      <td>1.0</td>\n",
       "      <td>0.823529</td>\n",
       "      <td>0.777778</td>\n",
       "      <td>0.0</td>\n",
       "      <td>0.0</td>\n",
       "      <td>...</td>\n",
       "      <td>0.0</td>\n",
       "      <td>0.0</td>\n",
       "      <td>0.0</td>\n",
       "      <td>0.0</td>\n",
       "      <td>0.0</td>\n",
       "      <td>0.0</td>\n",
       "      <td>0.0</td>\n",
       "      <td>0.0</td>\n",
       "      <td>0.0</td>\n",
       "      <td>1.0</td>\n",
       "    </tr>\n",
       "    <tr>\n",
       "      <th>3</th>\n",
       "      <td>0.0</td>\n",
       "      <td>0.225</td>\n",
       "      <td>0.50</td>\n",
       "      <td>0.2</td>\n",
       "      <td>0.2</td>\n",
       "      <td>0.4</td>\n",
       "      <td>0.529412</td>\n",
       "      <td>0.500000</td>\n",
       "      <td>0.0</td>\n",
       "      <td>0.0</td>\n",
       "      <td>...</td>\n",
       "      <td>0.0</td>\n",
       "      <td>0.0</td>\n",
       "      <td>0.0</td>\n",
       "      <td>0.0</td>\n",
       "      <td>0.0</td>\n",
       "      <td>0.0</td>\n",
       "      <td>0.0</td>\n",
       "      <td>0.0</td>\n",
       "      <td>0.0</td>\n",
       "      <td>0.0</td>\n",
       "    </tr>\n",
       "    <tr>\n",
       "      <th>4</th>\n",
       "      <td>0.0</td>\n",
       "      <td>0.075</td>\n",
       "      <td>0.25</td>\n",
       "      <td>0.6</td>\n",
       "      <td>0.8</td>\n",
       "      <td>0.8</td>\n",
       "      <td>0.294118</td>\n",
       "      <td>0.277778</td>\n",
       "      <td>0.0</td>\n",
       "      <td>0.0</td>\n",
       "      <td>...</td>\n",
       "      <td>0.0</td>\n",
       "      <td>0.0</td>\n",
       "      <td>0.0</td>\n",
       "      <td>0.0</td>\n",
       "      <td>0.0</td>\n",
       "      <td>0.0</td>\n",
       "      <td>0.0</td>\n",
       "      <td>0.0</td>\n",
       "      <td>0.0</td>\n",
       "      <td>0.0</td>\n",
       "    </tr>\n",
       "  </tbody>\n",
       "</table>\n",
       "<p>5 rows × 278 columns</p>\n",
       "</div>"
      ],
      "text/plain": [
       "   Position_Count  Years of Service   Age  Hardship_min  Hardship_median  \\\n",
       "0             0.0             0.275  0.50           0.6              0.6   \n",
       "1             0.0             0.200  0.50           0.2              0.2   \n",
       "2             0.0             0.550  0.50           1.0              1.0   \n",
       "3             0.0             0.225  0.50           0.2              0.2   \n",
       "4             0.0             0.075  0.25           0.6              0.8   \n",
       "\n",
       "   Hardship_max  Min_Incumbent  Max_Incumbent  Add Contingent Worker  \\\n",
       "0           0.8       0.352941       0.333333                    0.0   \n",
       "1           0.2       0.294118       0.277778                    0.0   \n",
       "2           1.0       0.823529       0.777778                    0.0   \n",
       "3           0.4       0.529412       0.500000                    0.0   \n",
       "4           0.8       0.294118       0.277778                    0.0   \n",
       "\n",
       "   Additional Job  ...  Nationality_Vanuatu  Nationality_Venezuela  \\\n",
       "0             0.0  ...                  0.0                    0.0   \n",
       "1             0.0  ...                  0.0                    0.0   \n",
       "2             0.0  ...                  0.0                    0.0   \n",
       "3             0.0  ...                  0.0                    0.0   \n",
       "4             0.0  ...                  0.0                    0.0   \n",
       "\n",
       "   Nationality_Viet Nam  Nationality_Vietnam  Nationality_Yemen  \\\n",
       "0                   0.0                  0.0                0.0   \n",
       "1                   0.0                  0.0                0.0   \n",
       "2                   0.0                  0.0                0.0   \n",
       "3                   0.0                  0.0                0.0   \n",
       "4                   0.0                  0.0                0.0   \n",
       "\n",
       "   Nationality_Yemen Rep of  Nationality_Yugoslavia  Nationality_Zambia  \\\n",
       "0                       0.0                     0.0                 0.0   \n",
       "1                       0.0                     0.0                 0.0   \n",
       "2                       0.0                     0.0                 0.0   \n",
       "3                       0.0                     0.0                 0.0   \n",
       "4                       0.0                     0.0                 0.0   \n",
       "\n",
       "   Nationality_Zimbabwe  Family/Non-Family_N  \n",
       "0                   1.0                  0.0  \n",
       "1                   0.0                  0.0  \n",
       "2                   0.0                  1.0  \n",
       "3                   0.0                  0.0  \n",
       "4                   0.0                  0.0  \n",
       "\n",
       "[5 rows x 278 columns]"
      ]
     },
     "execution_count": 18,
     "metadata": {},
     "output_type": "execute_result"
    }
   ],
   "source": [
    "pd.DataFrame(X_tr_scaled, index = X_train_sm.index, columns = X_train_sm.columns).head()"
   ]
  },
  {
   "cell_type": "code",
   "execution_count": null,
   "id": "896d8dd7",
   "metadata": {},
   "outputs": [],
   "source": []
  },
  {
   "cell_type": "markdown",
   "id": "f2016473",
   "metadata": {},
   "source": [
    "# Modeling"
   ]
  },
  {
   "cell_type": "markdown",
   "id": "bf4b3d51",
   "metadata": {},
   "source": [
    "## 1. Start with Multinomial Logistic regression\n"
   ]
  },
  {
   "cell_type": "code",
   "execution_count": 69,
   "id": "f30ecea4",
   "metadata": {},
   "outputs": [
    {
     "name": "stdout",
     "output_type": "stream",
     "text": [
      "Mean Accuracy: 0.769 (0.034)\n"
     ]
    }
   ],
   "source": [
    "from sklearn.linear_model import LogisticRegression\n",
    "\n",
    "lg= LogisticRegression(multi_class='multinomial', solver='lbfgs', random_state = 42)\n",
    "\n",
    "lg_scores = cross_val_score(lg, X_tr_scaled, y = y_train_sm, scoring = \"accuracy\", cv = kfold, n_jobs=4)\n",
    "\n",
    "print('Mean Accuracy: %.3f (%.3f)' % (lg_scores.mean(), lg_scores.std()))\n"
   ]
  },
  {
   "cell_type": "markdown",
   "id": "663aed0a",
   "metadata": {},
   "source": [
    "### Compare with the model trained with imbalanced dataset\n",
    "\n",
    "- Cross validation score with imbalanced data is 0.32\n",
    "- Using SMOTE to deal with imbalanced data issue greatly improves the cross validation accuracy score to 0.768"
   ]
  },
  {
   "cell_type": "code",
   "execution_count": 77,
   "id": "55838093",
   "metadata": {},
   "outputs": [],
   "source": [
    "scaler = MinMaxScaler()\n",
    "scaler.fit(X_train)\n",
    "X_tr_scaled2 = scaler.transform(X_train)\n",
    "X_te_scaled2 = scaler.transform(X_test)"
   ]
  },
  {
   "cell_type": "code",
   "execution_count": 78,
   "id": "82243b6c",
   "metadata": {},
   "outputs": [
    {
     "name": "stdout",
     "output_type": "stream",
     "text": [
      "score with SMOTE: 0.7685141816289357\n",
      "score without SMOTE: 0.32547296419771804\n"
     ]
    }
   ],
   "source": [
    "# X_tr_scaled, y_train_sm: data with using SMOTE, which is balanced.\n",
    "score_with_SMOTE = cross_val_score(lg, X_tr_scaled, y_train_sm, scoring = \"balanced_accuracy\", cv = kfold, n_jobs=-1)\n",
    "print(\"score with SMOTE: \" + str(score_with_SMOTE.mean()))\n",
    "\n",
    "# used \"balanced accuracy\" to deal with imbalanced dataset\n",
    "# X_tr_scaled2, y_train: data without using SMOTE, which is imbalanced.\n",
    "score_without_SMOTE = cross_val_score(lg, X_tr_scaled2, y_train, scoring = \"balanced_accuracy\", cv = kfold, n_jobs=-1)\n",
    "print(\"score without SMOTE: \" + str(score_without_SMOTE.mean()))"
   ]
  },
  {
   "cell_type": "code",
   "execution_count": 107,
   "id": "5de6f5be",
   "metadata": {},
   "outputs": [
    {
     "data": {
      "image/png": "[encoded data removed]",
      "text/plain": [
       "<Figure size 432x288 with 1 Axes>"
      ]
     },
     "metadata": {
      "needs_background": "light"
     },
     "output_type": "display_data"
    }
   ],
   "source": [
    "cv_means=[score_without_SMOTE.mean(), score_with_SMOTE.mean()]\n",
    "cv_std=[score_without_SMOTE.std(), score_with_SMOTE.std()]\n",
    "\n",
    "cv_scores = pd.DataFrame({\"CrossValMeans\":cv_means,\"CrossValerrors\": cv_std,\"Algorithm\":[\"without SMOTE\", \"with SMOTE\"]})\n",
    "\n",
    "g = sns.barplot(\"CrossValMeans\",\"Algorithm\",data = cv_scores, palette=\"Set2\",orient = \"h\",**{'xerr':cv_std})\n",
    "g.set_xlabel(\"Mean Accuracy\")\n",
    "g.set_ylabel(\" \")\n",
    "g = g.set_title(\"Multinomial Logistic Regression Cross Validation Scores\")"
   ]
  },
  {
   "cell_type": "markdown",
   "id": "2acc3771",
   "metadata": {},
   "source": [
    "## 2. Try Random Forest Classifier\n",
    "\n",
    "- Cross validation score of Random Forest Classifier without tuning parameters is 0.95, which is greatly improved compared to multinomial logistic regression, but it might be overfitting in the training data."
   ]
  },
  {
   "cell_type": "code",
   "execution_count": 19,
   "id": "814c6242",
   "metadata": {},
   "outputs": [],
   "source": [
    "from sklearn.ensemble import RandomForestClassifier"
   ]
  },
  {
   "cell_type": "code",
   "execution_count": 20,
   "id": "fb0d4801",
   "metadata": {},
   "outputs": [],
   "source": [
    "rfc = RandomForestClassifier(random_state=42)"
   ]
  },
  {
   "cell_type": "code",
   "execution_count": 65,
   "id": "d71ad857",
   "metadata": {},
   "outputs": [
    {
     "name": "stdout",
     "output_type": "stream",
     "text": [
      "Cross validation score of Random Forest Classifier without tuning parameters: 0.9508717148061411\n"
     ]
    }
   ],
   "source": [
    "from sklearn.model_selection import cross_val_score\n",
    "from sklearn.model_selection import StratifiedKFold\n",
    "\n",
    "kfold = StratifiedKFold(n_splits = 5)\n",
    "\n",
    "rf_score = cross_val_score(rfc, X_tr_scaled, y_train_sm, scoring = \"accuracy\", cv = kfold, n_jobs=-1)\n",
    "\n",
    "print(\"Cross validation score of Random Forest Classifier without tuning parameters: \" + str(rf_score.mean()))\n"
   ]
  },
  {
   "cell_type": "code",
   "execution_count": 108,
   "id": "4ac292bc",
   "metadata": {
    "scrolled": false
   },
   "outputs": [
    {
     "data": {
      "image/png": "[encoded data removed]",
      "text/plain": [
       "<Figure size 432x288 with 1 Axes>"
      ]
     },
     "metadata": {
      "needs_background": "light"
     },
     "output_type": "display_data"
    }
   ],
   "source": [
    "cv_means=[lg_scores.mean(), score1]\n",
    "cv_std=[lg_scores.std(), rf_score.std()]\n",
    "\n",
    "cv_scores = pd.DataFrame({\"CrossValMeans\":cv_means,\"CrossValerrors\": cv_std,\"Algorithm\":[\"Multinomial Logistic regression\", \"RandomForest\"]})\n",
    "\n",
    "g = sns.barplot(\"CrossValMeans\",\"Algorithm\",data = cv_scores, palette=\"Set2\",orient = \"h\",**{'xerr':cv_std})\n",
    "g.set_xlabel(\"Mean Accuracy\")\n",
    "g.set_ylabel(\" \")\n",
    "g = g.set_title(\"Cross Validation Scores\")"
   ]
  },
  {
   "cell_type": "markdown",
   "id": "b5c42db4",
   "metadata": {},
   "source": [
    "### Mean Cross Validation Score has been improved by 18% (0.768 --> 0.950)"
   ]
  },
  {
   "cell_type": "markdown",
   "id": "6774d327",
   "metadata": {},
   "source": [
    "## 3. Try other models\n",
    "- Tried \"RandomForest\",\"AdaBoost\",\"GradientBoosting\", \"XGboost\" with balanced dataset (after using SMOTE)\n",
    "- Random Forest Classifier has the higest cross validation score"
   ]
  },
  {
   "cell_type": "code",
   "execution_count": 22,
   "id": "6f317ce2",
   "metadata": {},
   "outputs": [],
   "source": [
    "from sklearn.ensemble import AdaBoostClassifier\n",
    "from sklearn.ensemble import GradientBoostingClassifier\n",
    "from xgboost import XGBClassifier"
   ]
  },
  {
   "cell_type": "code",
   "execution_count": 23,
   "id": "5003ade0",
   "metadata": {},
   "outputs": [],
   "source": [
    "kfold = StratifiedKFold(n_splits = 5)\n",
    "# Modeling step Test differents algorithms \n",
    "random_state = 42\n",
    "classifiers = []\n",
    "\n",
    "classifiers.append(RandomForestClassifier(random_state=random_state))\n",
    "classifiers.append(AdaBoostClassifier(DecisionTreeClassifier(random_state=random_state),random_state=random_state,learning_rate=0.1))\n",
    "classifiers.append(GradientBoostingClassifier(random_state=random_state))\n",
    "classifiers.append(XGBClassifier(learning_rate=0.1,random_state=random_state))\n"
   ]
  },
  {
   "cell_type": "code",
   "execution_count": 24,
   "id": "f3207ca1",
   "metadata": {},
   "outputs": [
    {
     "data": {
      "text/plain": [
       "[RandomForestClassifier(random_state=42),\n",
       " AdaBoostClassifier(base_estimator=DecisionTreeClassifier(random_state=42),\n",
       "                    learning_rate=0.1, random_state=42),\n",
       " GradientBoostingClassifier(random_state=42),\n",
       " XGBClassifier(base_score=None, booster=None, colsample_bylevel=None,\n",
       "               colsample_bynode=None, colsample_bytree=None, gamma=None,\n",
       "               gpu_id=None, importance_type='gain', interaction_constraints=None,\n",
       "               learning_rate=0.1, max_delta_step=None, max_depth=None,\n",
       "               min_child_weight=None, missing=nan, monotone_constraints=None,\n",
       "               n_estimators=100, n_jobs=None, num_parallel_tree=None,\n",
       "               random_state=42, reg_alpha=None, reg_lambda=None,\n",
       "               scale_pos_weight=None, subsample=None, tree_method=None,\n",
       "               validate_parameters=None, verbosity=None)]"
      ]
     },
     "execution_count": 24,
     "metadata": {},
     "output_type": "execute_result"
    }
   ],
   "source": [
    "classifiers"
   ]
  },
  {
   "cell_type": "code",
   "execution_count": 25,
   "id": "989cb6c3",
   "metadata": {},
   "outputs": [],
   "source": [
    "cv_results = []\n",
    "for classifier in classifiers :\n",
    "    cv_results.append(cross_val_score(classifier, X_tr_scaled, y = y_train_sm, scoring = \"accuracy\", cv = kfold, n_jobs=4))\n"
   ]
  },
  {
   "cell_type": "code",
   "execution_count": 26,
   "id": "4cd5ed46",
   "metadata": {},
   "outputs": [
    {
     "data": {
      "text/plain": [
       "[array([0.90983607, 0.96148842, 0.96161853, 0.96096799, 0.96044757]),\n",
       " array([0.89045017, 0.93884986, 0.92557897, 0.92857143, 0.92427791]),\n",
       " array([0.81407754, 0.86625033, 0.87015353, 0.85050742, 0.84608379]),\n",
       " array([0.85883424, 0.93052303, 0.92583919, 0.90788447, 0.91035649])]"
      ]
     },
     "execution_count": 26,
     "metadata": {},
     "output_type": "execute_result"
    }
   ],
   "source": [
    "cv_results"
   ]
  },
  {
   "cell_type": "code",
   "execution_count": 109,
   "id": "f0ce68bc",
   "metadata": {
    "scrolled": true
   },
   "outputs": [
    {
     "data": {
      "image/png": "[encoded data removed]",
      "text/plain": [
       "<Figure size 432x288 with 1 Axes>"
      ]
     },
     "metadata": {
      "needs_background": "light"
     },
     "output_type": "display_data"
    }
   ],
   "source": [
    "cv_means = []\n",
    "cv_std = []\n",
    "for cv_result in cv_results:\n",
    "    cv_means.append(cv_result.mean())\n",
    "    cv_std.append(cv_result.std())\n",
    "\n",
    "cv_res = pd.DataFrame({\"CrossValMeans\":cv_means,\"CrossValerrors\": cv_std,\"Algorithm\":[\"RandomForest\",\"AdaBoost\",\"GradientBoosting\", \"XGboost\"]})\n",
    "\n",
    "g = sns.barplot(\"CrossValMeans\",\"Algorithm\",data = cv_res, palette=\"Set3\",orient = \"h\",**{'xerr':cv_std})\n",
    "g.set_xlabel(\"Mean Accuracy\")\n",
    "g = g.set_title(\"Cross validation scores\")"
   ]
  },
  {
   "cell_type": "code",
   "execution_count": 28,
   "id": "ec8cc409",
   "metadata": {
    "scrolled": true
   },
   "outputs": [
    {
     "data": {
      "text/html": [
       "<div>\n",
       "<style scoped>\n",
       "    .dataframe tbody tr th:only-of-type {\n",
       "        vertical-align: middle;\n",
       "    }\n",
       "\n",
       "    .dataframe tbody tr th {\n",
       "        vertical-align: top;\n",
       "    }\n",
       "\n",
       "    .dataframe thead th {\n",
       "        text-align: right;\n",
       "    }\n",
       "</style>\n",
       "<table border=\"1\" class=\"dataframe\">\n",
       "  <thead>\n",
       "    <tr style=\"text-align: right;\">\n",
       "      <th></th>\n",
       "      <th>CrossValMeans</th>\n",
       "      <th>CrossValerrors</th>\n",
       "      <th>Algorithm</th>\n",
       "    </tr>\n",
       "  </thead>\n",
       "  <tbody>\n",
       "    <tr>\n",
       "      <th>0</th>\n",
       "      <td>0.950872</td>\n",
       "      <td>0.020522</td>\n",
       "      <td>RandomForest</td>\n",
       "    </tr>\n",
       "    <tr>\n",
       "      <th>1</th>\n",
       "      <td>0.921546</td>\n",
       "      <td>0.016367</td>\n",
       "      <td>AdaBoost</td>\n",
       "    </tr>\n",
       "    <tr>\n",
       "      <th>2</th>\n",
       "      <td>0.849415</td>\n",
       "      <td>0.019872</td>\n",
       "      <td>GradientBoosting</td>\n",
       "    </tr>\n",
       "    <tr>\n",
       "      <th>3</th>\n",
       "      <td>0.906687</td>\n",
       "      <td>0.025455</td>\n",
       "      <td>XGboost</td>\n",
       "    </tr>\n",
       "  </tbody>\n",
       "</table>\n",
       "</div>"
      ],
      "text/plain": [
       "   CrossValMeans  CrossValerrors         Algorithm\n",
       "0       0.950872        0.020522      RandomForest\n",
       "1       0.921546        0.016367          AdaBoost\n",
       "2       0.849415        0.019872  GradientBoosting\n",
       "3       0.906687        0.025455           XGboost"
      ]
     },
     "execution_count": 28,
     "metadata": {},
     "output_type": "execute_result"
    }
   ],
   "source": [
    "cv_res"
   ]
  },
  {
   "cell_type": "markdown",
   "id": "fc3fd115",
   "metadata": {},
   "source": []
  },
  {
   "cell_type": "markdown",
   "id": "cf15eeaf",
   "metadata": {},
   "source": [
    "## Tuning parameters for Random Forest Classifier\n",
    "\n",
    "- Picked Random Forest Classifier, which had the highest cross validation score, compared to other models (\"AdaBoost\",\"GradientBoosting\", \"XGboost\")"
   ]
  },
  {
   "cell_type": "markdown",
   "id": "a4befb3f",
   "metadata": {},
   "source": [
    "## 4-1) Random Forest Classifier with tuning parameters (ver.1)\n",
    "- First Parameter tuning with RandomizedSearchCV() \n",
    "The most important arguments in RandomizedSearchCV are n_iter, which controls the number of different combinations to try, and cv which is the number of folds to use for cross validation (we use 100 and 3 respectively). More iterations will cover a wider search space and more cv folds reduces the chances of overfitting, but raising each will increase the run time. Machine learning is a field of trade-offs, and performance vs time is one of the most fundamental."
   ]
  },
  {
   "cell_type": "code",
   "execution_count": 36,
   "id": "eb24928a",
   "metadata": {},
   "outputs": [
    {
     "data": {
      "text/plain": [
       "{'bootstrap': True,\n",
       " 'ccp_alpha': 0.0,\n",
       " 'class_weight': None,\n",
       " 'criterion': 'gini',\n",
       " 'max_depth': None,\n",
       " 'max_features': 'auto',\n",
       " 'max_leaf_nodes': None,\n",
       " 'max_samples': None,\n",
       " 'min_impurity_decrease': 0.0,\n",
       " 'min_impurity_split': None,\n",
       " 'min_samples_leaf': 1,\n",
       " 'min_samples_split': 2,\n",
       " 'min_weight_fraction_leaf': 0.0,\n",
       " 'n_estimators': 100,\n",
       " 'n_jobs': None,\n",
       " 'oob_score': False,\n",
       " 'random_state': 42,\n",
       " 'verbose': 0,\n",
       " 'warm_start': False}"
      ]
     },
     "execution_count": 36,
     "metadata": {},
     "output_type": "execute_result"
    }
   ],
   "source": [
    "rfc.get_params() # checking default paramters "
   ]
  },
  {
   "cell_type": "markdown",
   "id": "221eb7b2",
   "metadata": {},
   "source": [
    "Parameters of interest\n",
    "\n",
    "- n_estimators = number of trees in the foreset\n",
    "- max_features = The number of features to consider when looking for the best split\n",
    "- max_depth = max number of levels in each decision tree\n",
    "- min_samples_split = min number of data points placed in a node before the node is split\n",
    "- min_samples_leaf = min number of data points allowed in a leaf node\n",
    "- bootstrap = method for sampling data points (with or without replacement)\n",
    "\n",
    "https://towardsdatascience.com/hyperparameter-tuning-the-random-forest-in-python-using-scikit-learn-28d2aa77dd74"
   ]
  },
  {
   "cell_type": "code",
   "execution_count": 37,
   "id": "18704208",
   "metadata": {},
   "outputs": [],
   "source": [
    "from sklearn.model_selection import RandomizedSearchCV\n",
    "\n",
    "random_grid = {'bootstrap': [True, False],\n",
    "               'max_depth': [10, 50, 100],\n",
    "               'max_features': ['sqrt'],\n",
    "               'min_samples_leaf': [1, 2, 10],\n",
    "               'min_samples_split': [2, 5, 10],\n",
    "               'n_estimators': [int(x) for x in np.linspace(start = 100, stop = 1000, num = 10)]}"
   ]
  },
  {
   "cell_type": "code",
   "execution_count": 38,
   "id": "df03a9b3",
   "metadata": {},
   "outputs": [
    {
     "name": "stdout",
     "output_type": "stream",
     "text": [
      "Fitting 3 folds for each of 30 candidates, totalling 90 fits\n"
     ]
    },
    {
     "data": {
      "text/plain": [
       "RandomizedSearchCV(cv=3, estimator=RandomForestClassifier(random_state=42),\n",
       "                   n_iter=30, n_jobs=-1,\n",
       "                   param_distributions={'bootstrap': [True, False],\n",
       "                                        'max_depth': [10, 50, 100],\n",
       "                                        'max_features': ['sqrt'],\n",
       "                                        'min_samples_leaf': [1, 2, 10],\n",
       "                                        'min_samples_split': [2, 5, 10],\n",
       "                                        'n_estimators': [100, 200, 300, 400,\n",
       "                                                         500, 600, 700, 800,\n",
       "                                                         900, 1000]},\n",
       "                   random_state=42, verbose=2)"
      ]
     },
     "execution_count": 38,
     "metadata": {},
     "output_type": "execute_result"
    }
   ],
   "source": [
    "# Use the random grid to search for best hyperparameters\n",
    "# n_iter: Number of parameter settings that are sampled. n_iter trades off runtime vs quality of the solution.\n",
    "# rfc = RandomForestClassifier(random_state=42)\n",
    "random_state = 42\n",
    "rfc_random = RandomizedSearchCV(estimator = rfc, param_distributions = random_grid, n_iter = 30, cv = 3, verbose=2, random_state=42, n_jobs = -1)\n",
    "# add scoring= accuracy\n",
    "\n",
    "# Fit the random search model\n",
    "rfc_random.fit(X_tr_scaled, y_train_sm) # took 20 mins"
   ]
  },
  {
   "cell_type": "code",
   "execution_count": 39,
   "id": "8fc89ac6",
   "metadata": {},
   "outputs": [
    {
     "data": {
      "text/plain": [
       "RandomForestClassifier(bootstrap=False, max_depth=50, max_features='sqrt',\n",
       "                       min_samples_split=5, n_estimators=400, random_state=42)"
      ]
     },
     "execution_count": 39,
     "metadata": {},
     "output_type": "execute_result"
    }
   ],
   "source": [
    "# If it doesn't show a value for certain parameters, it's bc it's default value.\n",
    "rfc_random.best_estimator_ "
   ]
  },
  {
   "cell_type": "code",
   "execution_count": 40,
   "id": "7dd0cf08",
   "metadata": {},
   "outputs": [
    {
     "data": {
      "text/plain": [
       "{'bootstrap': False,\n",
       " 'ccp_alpha': 0.0,\n",
       " 'class_weight': None,\n",
       " 'criterion': 'gini',\n",
       " 'max_depth': 50,\n",
       " 'max_features': 'sqrt',\n",
       " 'max_leaf_nodes': None,\n",
       " 'max_samples': None,\n",
       " 'min_impurity_decrease': 0.0,\n",
       " 'min_impurity_split': None,\n",
       " 'min_samples_leaf': 1,\n",
       " 'min_samples_split': 5,\n",
       " 'min_weight_fraction_leaf': 0.0,\n",
       " 'n_estimators': 400,\n",
       " 'n_jobs': None,\n",
       " 'oob_score': False,\n",
       " 'random_state': 42,\n",
       " 'verbose': 0,\n",
       " 'warm_start': False}"
      ]
     },
     "execution_count": 40,
     "metadata": {},
     "output_type": "execute_result"
    }
   ],
   "source": [
    "rfc_random.best_estimator_.get_params()"
   ]
  },
  {
   "cell_type": "code",
   "execution_count": 41,
   "id": "34ddeb05",
   "metadata": {},
   "outputs": [
    {
     "data": {
      "text/plain": [
       "0.9522248243559718"
      ]
     },
     "execution_count": 41,
     "metadata": {},
     "output_type": "execute_result"
    }
   ],
   "source": [
    "# best_score_ : Mean cross-validated score of the best_estimator\n",
    "# Score based on training data. For classification, it's accuracy by default. \n",
    "rfc_random.best_score_ "
   ]
  },
  {
   "cell_type": "code",
   "execution_count": 42,
   "id": "0fb85c83",
   "metadata": {},
   "outputs": [],
   "source": [
    "RFC1 = rfc_random.best_estimator_"
   ]
  },
  {
   "cell_type": "code",
   "execution_count": 44,
   "id": "87757ace",
   "metadata": {},
   "outputs": [],
   "source": [
    "score_first_tuning = cross_val_score(RFC1, X_tr_scaled, y_train_sm, scoring = \"accuracy\", cv = kfold, n_jobs=-1).mean()"
   ]
  },
  {
   "cell_type": "code",
   "execution_count": 45,
   "id": "891f4841",
   "metadata": {},
   "outputs": [
    {
     "name": "stdout",
     "output_type": "stream",
     "text": [
      "Cross validation score (5 folds) of first tuned random forest model: 0.9556596409055427\n"
     ]
    }
   ],
   "source": [
    "print(\"Mean Cross validation score (5 folds) of first tuned random forest model: \" + str(score_first_tuning))"
   ]
  },
  {
   "cell_type": "markdown",
   "id": "547f101d",
   "metadata": {},
   "source": [
    "### Mean Cross Validation Score has been improved by 0.5% (0.950 --> 0.955)"
   ]
  },
  {
   "cell_type": "markdown",
   "id": "c667ce18",
   "metadata": {},
   "source": [
    "## 4-2) Random Forest Classifier with tuning parameters (ver.2)\n",
    "\n",
    "- Try different set of parameters\n",
    "- Accuracy improved by 0.001 (0.955 --> 0.956) by tuning parameters"
   ]
  },
  {
   "cell_type": "code",
   "execution_count": 46,
   "id": "0a7fe9cd",
   "metadata": {},
   "outputs": [
    {
     "name": "stdout",
     "output_type": "stream",
     "text": [
      "Fitting 5 folds for each of 30 candidates, totalling 150 fits\n"
     ]
    },
    {
     "data": {
      "text/plain": [
       "RandomizedSearchCV(cv=5, estimator=RandomForestClassifier(random_state=42),\n",
       "                   n_iter=30, n_jobs=-1,\n",
       "                   param_distributions={'bootstrap': [True, False],\n",
       "                                        'max_depth': [50, 100, 200, 500],\n",
       "                                        'max_features': ['sqrt'],\n",
       "                                        'min_samples_leaf': [1, 2, 10],\n",
       "                                        'min_samples_split': [2, 5, 10],\n",
       "                                        'n_estimators': [200, 400, 600, 800,\n",
       "                                                         1000, 1200, 1400, 1600,\n",
       "                                                         1800, 2000]},\n",
       "                   random_state=42, verbose=2)"
      ]
     },
     "execution_count": 46,
     "metadata": {},
     "output_type": "execute_result"
    }
   ],
   "source": [
    "random_state = 42\n",
    "\n",
    "random_grid2 = {'bootstrap': [True, False],\n",
    "               'max_depth': [50, 100, 200, 500],\n",
    "               'max_features': ['sqrt'],\n",
    "               'min_samples_leaf': [1, 2, 10],\n",
    "               'min_samples_split': [2, 5, 10],\n",
    "               'n_estimators': [int(x) for x in np.linspace(start = 200, stop = 2000, num = 10)]}\n",
    "\n",
    "# randomized search cv may not go through all combinations. It only went through n_iter times: 30 times in this case. \n",
    "rfc_random2 = RandomizedSearchCV(estimator = rfc, param_distributions = random_grid2, n_iter = 30, cv = 5, verbose=2, random_state=42, n_jobs = -1)\n",
    "\n",
    "rfc_random2.fit(X_tr_scaled, y_train_sm) # about an hour"
   ]
  },
  {
   "cell_type": "code",
   "execution_count": 47,
   "id": "6c4b8fb3",
   "metadata": {},
   "outputs": [
    {
     "data": {
      "text/plain": [
       "RandomForestClassifier(bootstrap=False, max_depth=50, max_features='sqrt',\n",
       "                       n_estimators=1600, random_state=42)"
      ]
     },
     "execution_count": 47,
     "metadata": {},
     "output_type": "execute_result"
    }
   ],
   "source": [
    "rfc_random2.best_estimator_\n"
   ]
  },
  {
   "cell_type": "code",
   "execution_count": 48,
   "id": "87639e97",
   "metadata": {},
   "outputs": [
    {
     "data": {
      "text/plain": [
       "{'bootstrap': False,\n",
       " 'ccp_alpha': 0.0,\n",
       " 'class_weight': None,\n",
       " 'criterion': 'gini',\n",
       " 'max_depth': 50,\n",
       " 'max_features': 'sqrt',\n",
       " 'max_leaf_nodes': None,\n",
       " 'max_samples': None,\n",
       " 'min_impurity_decrease': 0.0,\n",
       " 'min_impurity_split': None,\n",
       " 'min_samples_leaf': 1,\n",
       " 'min_samples_split': 2,\n",
       " 'min_weight_fraction_leaf': 0.0,\n",
       " 'n_estimators': 1600,\n",
       " 'n_jobs': None,\n",
       " 'oob_score': False,\n",
       " 'random_state': 42,\n",
       " 'verbose': 0,\n",
       " 'warm_start': False}"
      ]
     },
     "execution_count": 48,
     "metadata": {},
     "output_type": "execute_result"
    }
   ],
   "source": [
    "rfc_random2.best_estimator_.get_params() \n"
   ]
  },
  {
   "cell_type": "code",
   "execution_count": 49,
   "id": "ee0d266d",
   "metadata": {},
   "outputs": [
    {
     "data": {
      "text/plain": [
       "0.9564142596929482"
      ]
     },
     "execution_count": 49,
     "metadata": {},
     "output_type": "execute_result"
    }
   ],
   "source": [
    "rfc_random2.best_score_"
   ]
  },
  {
   "cell_type": "code",
   "execution_count": 50,
   "id": "db5724d7",
   "metadata": {},
   "outputs": [],
   "source": [
    "RFC2 = rfc_random2.best_estimator_"
   ]
  },
  {
   "cell_type": "code",
   "execution_count": 51,
   "id": "aff88103",
   "metadata": {},
   "outputs": [],
   "source": [
    "score_second_tuning = cross_val_score(RFC2, X_tr_scaled, y_train_sm, scoring = \"accuracy\", cv = kfold, n_jobs=-1).mean()"
   ]
  },
  {
   "cell_type": "code",
   "execution_count": 110,
   "id": "28022acb",
   "metadata": {
    "scrolled": false
   },
   "outputs": [
    {
     "name": "stdout",
     "output_type": "stream",
     "text": [
      "Mean Cross validation score of the second tuned random forest model: 0.9564142596929482\n"
     ]
    }
   ],
   "source": [
    "print(\"Mean Cross validation score of the second tuned random forest model: \" + str(score_second_tuning))"
   ]
  },
  {
   "cell_type": "markdown",
   "id": "6cdd57d3",
   "metadata": {},
   "source": [
    "### Mean Cross Validation Score has been improved by 0.1% (0.955 --> 0.956)"
   ]
  },
  {
   "cell_type": "markdown",
   "id": "fe6c6870",
   "metadata": {},
   "source": [
    "## 5. Final model with test data"
   ]
  },
  {
   "cell_type": "code",
   "execution_count": 53,
   "id": "ba8550be",
   "metadata": {},
   "outputs": [],
   "source": [
    "from sklearn.metrics import f1_score\n",
    "from sklearn.metrics import accuracy_score \n",
    "from sklearn.metrics import recall_score\n",
    "from sklearn.metrics import confusion_matrix\n"
   ]
  },
  {
   "cell_type": "code",
   "execution_count": 55,
   "id": "11a0d18f",
   "metadata": {},
   "outputs": [
    {
     "data": {
      "image/png": "[encoded data removed]",
      "text/plain": [
       "<Figure size 576x432 with 2 Axes>"
      ]
     },
     "metadata": {
      "needs_background": "light"
     },
     "output_type": "display_data"
    }
   ],
   "source": [
    "RFC2.fit(X_tr_scaled, y_train_sm)\n",
    "y_pred = RFC2.predict(X_te_scaled)\n",
    "\n",
    "cm = confusion_matrix(y_test, y_pred)\n",
    "plt.figure(figsize=(8, 6))\n",
    "plt.title('Confusion Matrix (with SMOTE)', size=16)\n",
    "sns.heatmap(cm, annot=True, cmap='Blues');"
   ]
  },
  {
   "cell_type": "code",
   "execution_count": 56,
   "id": "0e5061a2",
   "metadata": {},
   "outputs": [
    {
     "name": "stdout",
     "output_type": "stream",
     "text": [
      "Final Random Forest: Accuracy=0.861\n",
      "Final Random Forest: f1-score=0.850\n",
      "Fianl Random Forest: recall-score=0.861\n"
     ]
    }
   ],
   "source": [
    "ac = accuracy_score(y_test, y_pred)\n",
    "f1 = f1_score(y_test, y_pred, average='weighted')\n",
    "recall = recall_score(y_test, y_pred, average='weighted')\n",
    "\n",
    "print('Final Random Forest: Accuracy=%.3f' % (ac))\n",
    "print('Final Random Forest: f1-score=%.3f' % (f1))\n",
    "print('Fianl Random Forest: recall-score=%.3f' % (recall))"
   ]
  },
  {
   "cell_type": "markdown",
   "id": "f59e1457",
   "metadata": {},
   "source": []
  },
  {
   "cell_type": "markdown",
   "id": "b316bf96",
   "metadata": {},
   "source": [
    "## Feature Importances with Final Random Forest Model"
   ]
  },
  {
   "cell_type": "code",
   "execution_count": 121,
   "id": "11232661",
   "metadata": {
    "scrolled": true
   },
   "outputs": [
    {
     "data": {
      "image/png": "[encoded data removed]",
      "text/plain": [
       "<Figure size 720x720 with 1 Axes>"
      ]
     },
     "metadata": {
      "needs_background": "light"
     },
     "output_type": "display_data"
    }
   ],
   "source": [
    "feature_importance = RFC2.feature_importances_\n",
    "# make importances relative to max importance\n",
    "feature_importance = 100.0 * (feature_importance / feature_importance.max())[:30]\n",
    "sorted_idx = np.argsort(feature_importance)[:30]\n",
    "\n",
    "pos = np.arange(sorted_idx.shape[0]) + .5\n",
    "sorted_idx.size\n",
    "plt.figure(figsize=(10,10))\n",
    "plt.barh(pos, feature_importance[sorted_idx], align='center')\n",
    "plt.yticks(pos, X.columns[sorted_idx])\n",
    "plt.xlabel('Relative Importance')\n",
    "plt.title('Variable Importance')\n",
    "plt.show()"
   ]
  },
  {
   "cell_type": "markdown",
   "id": "dd956182",
   "metadata": {},
   "source": [
    "# Q) how to interpret?\n",
    "for example, hardship is important, but how important? does it help performance? or not help?"
   ]
  },
  {
   "cell_type": "code",
   "execution_count": null,
   "id": "7cbc43ad",
   "metadata": {},
   "outputs": [],
   "source": []
  },
  {
   "cell_type": "code",
   "execution_count": null,
   "id": "c42afb74",
   "metadata": {},
   "outputs": [],
   "source": []
  },
  {
   "cell_type": "markdown",
   "id": "498bcfeb",
   "metadata": {},
   "source": [
    "# Overfitting and Feature Selection\n",
    "The cross validation score was 0.956, but Final score with the testing data was 0.861. \n",
    "\n",
    "This means there might be an overfitting problem with training data.\n",
    "\n",
    "Therefore, I tried to fix overfitting problem through feature selection (based on Random Forest's in-built feature importance package).\n",
    "\n",
    "# Feature selection\n",
    "Random Forest is a popular and very useful feature selection algorithm in machine learning. This algorithm contains an in-built feature importance package, so we do not need to program it separately."
   ]
  },
  {
   "cell_type": "code",
   "execution_count": 134,
   "id": "7e1060bf",
   "metadata": {
    "scrolled": false
   },
   "outputs": [
    {
     "data": {
      "text/plain": [
       "['Add Contingent Worker',\n",
       " 'CSL Half Pay Only',\n",
       " 'Incorrect Entry Date',\n",
       " 'Additional Job',\n",
       " 'Demotion',\n",
       " 'Correct Staff Birth Date',\n",
       " 'Corrected Entry Date',\n",
       " 'Correct staff birth date',\n",
       " 'Change Employment Percentage',\n",
       " 'Change in Grade',\n",
       " 'Double Incumbency',\n",
       " 'Entry into UNJSPF',\n",
       " 'Category Change',\n",
       " 'Change Personal Data',\n",
       " 'Grant Maternity/Paternity Leav',\n",
       " 'Create Fam Member/Dependents',\n",
       " 'Family Status Change',\n",
       " 'HR Conversion',\n",
       " 'Position_Count',\n",
       " 'Hire',\n",
       " 'Contract Change',\n",
       " 'Data Change',\n",
       " 'Change in Pay',\n",
       " 'Hardship_median',\n",
       " 'Hardship_max',\n",
       " 'Hardship_min',\n",
       " 'Age',\n",
       " 'Min_Incumbent',\n",
       " 'Max_Incumbent',\n",
       " 'Years of Service']"
      ]
     },
     "execution_count": 134,
     "metadata": {},
     "output_type": "execute_result"
    }
   ],
   "source": [
    "selected_features = list(X.columns[sorted_idx])\n",
    "selected_features"
   ]
  },
  {
   "cell_type": "code",
   "execution_count": 135,
   "id": "53355489",
   "metadata": {},
   "outputs": [],
   "source": [
    "X2 = mydf3.drop('Performance_mean', axis = 1)"
   ]
  },
  {
   "cell_type": "code",
   "execution_count": 138,
   "id": "e80ef953",
   "metadata": {
    "scrolled": true
   },
   "outputs": [
    {
     "data": {
      "text/html": [
       "<div>\n",
       "<style scoped>\n",
       "    .dataframe tbody tr th:only-of-type {\n",
       "        vertical-align: middle;\n",
       "    }\n",
       "\n",
       "    .dataframe tbody tr th {\n",
       "        vertical-align: top;\n",
       "    }\n",
       "\n",
       "    .dataframe thead th {\n",
       "        text-align: right;\n",
       "    }\n",
       "</style>\n",
       "<table border=\"1\" class=\"dataframe\">\n",
       "  <thead>\n",
       "    <tr style=\"text-align: right;\">\n",
       "      <th></th>\n",
       "      <th>Add Contingent Worker</th>\n",
       "      <th>CSL Half Pay Only</th>\n",
       "      <th>Incorrect Entry Date</th>\n",
       "      <th>Additional Job</th>\n",
       "      <th>Demotion</th>\n",
       "      <th>Correct Staff Birth Date</th>\n",
       "      <th>Corrected Entry Date</th>\n",
       "      <th>Correct staff birth date</th>\n",
       "      <th>Change Employment Percentage</th>\n",
       "      <th>Change in Grade</th>\n",
       "      <th>...</th>\n",
       "      <th>Contract Change</th>\n",
       "      <th>Data Change</th>\n",
       "      <th>Change in Pay</th>\n",
       "      <th>Hardship_median</th>\n",
       "      <th>Hardship_max</th>\n",
       "      <th>Hardship_min</th>\n",
       "      <th>Age</th>\n",
       "      <th>Min_Incumbent</th>\n",
       "      <th>Max_Incumbent</th>\n",
       "      <th>Years of Service</th>\n",
       "    </tr>\n",
       "  </thead>\n",
       "  <tbody>\n",
       "    <tr>\n",
       "      <th>0</th>\n",
       "      <td>0</td>\n",
       "      <td>0</td>\n",
       "      <td>0</td>\n",
       "      <td>0</td>\n",
       "      <td>0</td>\n",
       "      <td>0</td>\n",
       "      <td>0</td>\n",
       "      <td>0</td>\n",
       "      <td>0</td>\n",
       "      <td>0</td>\n",
       "      <td>...</td>\n",
       "      <td>4</td>\n",
       "      <td>0</td>\n",
       "      <td>4</td>\n",
       "      <td>4.0</td>\n",
       "      <td>4.0</td>\n",
       "      <td>4.0</td>\n",
       "      <td>34.5</td>\n",
       "      <td>2</td>\n",
       "      <td>2</td>\n",
       "      <td>5</td>\n",
       "    </tr>\n",
       "    <tr>\n",
       "      <th>1</th>\n",
       "      <td>0</td>\n",
       "      <td>0</td>\n",
       "      <td>0</td>\n",
       "      <td>0</td>\n",
       "      <td>0</td>\n",
       "      <td>0</td>\n",
       "      <td>0</td>\n",
       "      <td>0</td>\n",
       "      <td>0</td>\n",
       "      <td>0</td>\n",
       "      <td>...</td>\n",
       "      <td>7</td>\n",
       "      <td>0</td>\n",
       "      <td>6</td>\n",
       "      <td>3.0</td>\n",
       "      <td>5.0</td>\n",
       "      <td>2.0</td>\n",
       "      <td>44.5</td>\n",
       "      <td>9</td>\n",
       "      <td>14</td>\n",
       "      <td>11</td>\n",
       "    </tr>\n",
       "    <tr>\n",
       "      <th>2</th>\n",
       "      <td>0</td>\n",
       "      <td>0</td>\n",
       "      <td>0</td>\n",
       "      <td>0</td>\n",
       "      <td>0</td>\n",
       "      <td>0</td>\n",
       "      <td>0</td>\n",
       "      <td>0</td>\n",
       "      <td>0</td>\n",
       "      <td>0</td>\n",
       "      <td>...</td>\n",
       "      <td>4</td>\n",
       "      <td>0</td>\n",
       "      <td>4</td>\n",
       "      <td>1.0</td>\n",
       "      <td>1.0</td>\n",
       "      <td>1.0</td>\n",
       "      <td>34.5</td>\n",
       "      <td>5</td>\n",
       "      <td>5</td>\n",
       "      <td>5</td>\n",
       "    </tr>\n",
       "    <tr>\n",
       "      <th>3</th>\n",
       "      <td>0</td>\n",
       "      <td>0</td>\n",
       "      <td>0</td>\n",
       "      <td>0</td>\n",
       "      <td>0</td>\n",
       "      <td>0</td>\n",
       "      <td>0</td>\n",
       "      <td>0</td>\n",
       "      <td>0</td>\n",
       "      <td>0</td>\n",
       "      <td>...</td>\n",
       "      <td>0</td>\n",
       "      <td>12</td>\n",
       "      <td>0</td>\n",
       "      <td>2.0</td>\n",
       "      <td>3.0</td>\n",
       "      <td>2.0</td>\n",
       "      <td>44.5</td>\n",
       "      <td>4</td>\n",
       "      <td>6</td>\n",
       "      <td>11</td>\n",
       "    </tr>\n",
       "    <tr>\n",
       "      <th>4</th>\n",
       "      <td>0</td>\n",
       "      <td>0</td>\n",
       "      <td>0</td>\n",
       "      <td>0</td>\n",
       "      <td>0</td>\n",
       "      <td>0</td>\n",
       "      <td>0</td>\n",
       "      <td>0</td>\n",
       "      <td>0</td>\n",
       "      <td>0</td>\n",
       "      <td>...</td>\n",
       "      <td>3</td>\n",
       "      <td>0</td>\n",
       "      <td>4</td>\n",
       "      <td>2.0</td>\n",
       "      <td>2.0</td>\n",
       "      <td>2.0</td>\n",
       "      <td>44.5</td>\n",
       "      <td>15</td>\n",
       "      <td>15</td>\n",
       "      <td>10</td>\n",
       "    </tr>\n",
       "  </tbody>\n",
       "</table>\n",
       "<p>5 rows × 30 columns</p>\n",
       "</div>"
      ],
      "text/plain": [
       "   Add Contingent Worker  CSL Half Pay Only  Incorrect Entry Date  \\\n",
       "0                      0                  0                     0   \n",
       "1                      0                  0                     0   \n",
       "2                      0                  0                     0   \n",
       "3                      0                  0                     0   \n",
       "4                      0                  0                     0   \n",
       "\n",
       "   Additional Job  Demotion  Correct Staff Birth Date  Corrected Entry Date  \\\n",
       "0               0         0                         0                     0   \n",
       "1               0         0                         0                     0   \n",
       "2               0         0                         0                     0   \n",
       "3               0         0                         0                     0   \n",
       "4               0         0                         0                     0   \n",
       "\n",
       "   Correct staff birth date  Change Employment Percentage  Change in Grade  \\\n",
       "0                         0                             0                0   \n",
       "1                         0                             0                0   \n",
       "2                         0                             0                0   \n",
       "3                         0                             0                0   \n",
       "4                         0                             0                0   \n",
       "\n",
       "   ...  Contract Change  Data Change  Change in Pay  Hardship_median  \\\n",
       "0  ...                4            0              4              4.0   \n",
       "1  ...                7            0              6              3.0   \n",
       "2  ...                4            0              4              1.0   \n",
       "3  ...                0           12              0              2.0   \n",
       "4  ...                3            0              4              2.0   \n",
       "\n",
       "   Hardship_max  Hardship_min   Age  Min_Incumbent  Max_Incumbent  \\\n",
       "0           4.0           4.0  34.5              2              2   \n",
       "1           5.0           2.0  44.5              9             14   \n",
       "2           1.0           1.0  34.5              5              5   \n",
       "3           3.0           2.0  44.5              4              6   \n",
       "4           2.0           2.0  44.5             15             15   \n",
       "\n",
       "   Years of Service  \n",
       "0                 5  \n",
       "1                11  \n",
       "2                 5  \n",
       "3                11  \n",
       "4                10  \n",
       "\n",
       "[5 rows x 30 columns]"
      ]
     },
     "execution_count": 138,
     "metadata": {},
     "output_type": "execute_result"
    }
   ],
   "source": [
    "# Select columns based on Random Forest's feature importances\n",
    "X2 = X2[selected_features]\n",
    "X2.head()"
   ]
  },
  {
   "cell_type": "code",
   "execution_count": 139,
   "id": "93432ebe",
   "metadata": {},
   "outputs": [],
   "source": [
    "y2 = mydf3['Performance_mean']"
   ]
  },
  {
   "cell_type": "code",
   "execution_count": 140,
   "id": "6cfccc63",
   "metadata": {},
   "outputs": [],
   "source": [
    "y2 = LabelEncoder().fit_transform(y2)\n",
    "\n",
    "# Train/Test split\n",
    "X_train2, X_test2, y_train2, y_test2 = train_test_split(X2, y2, \n",
    "                                                  test_size = 0.25,\n",
    "                                                  random_state = 246)\n",
    "# Oversampling(SMOTE) for imbalanced data\n",
    "X_train_sm2, y_train_sm2 = oversample.fit_resample(X_train2, y_train2)\n",
    "scaler.fit(X_train_sm2)\n",
    "X_tr_scaled2 = scaler.transform(X_train_sm2)\n",
    "X_te_scaled2 = scaler.transform(X_test2)"
   ]
  },
  {
   "cell_type": "code",
   "execution_count": 145,
   "id": "95db9504",
   "metadata": {},
   "outputs": [],
   "source": [
    "RFC3 = rfc_random2.best_estimator_\n",
    "score_selected_feature = cross_val_score(RFC3, X_tr_scaled2, y_train_sm2, scoring = \"accuracy\", cv = kfold, n_jobs=-1)"
   ]
  },
  {
   "cell_type": "code",
   "execution_count": 146,
   "id": "9bc60d51",
   "metadata": {
    "scrolled": true
   },
   "outputs": [
    {
     "name": "stdout",
     "output_type": "stream",
     "text": [
      "Cross validation score with new selected features: 0.9519125683060109\n"
     ]
    }
   ],
   "source": [
    "# Cross Validation Score lowered down with new selected features\n",
    "print(\"Cross validation score with new selected features: \" + str(score_selected_feature.mean()))"
   ]
  },
  {
   "cell_type": "markdown",
   "id": "f4ded725",
   "metadata": {},
   "source": [
    "Cross validation score with new selected features(0.951) is lower than the second tuned random forest model's score(0.956)"
   ]
  },
  {
   "cell_type": "code",
   "execution_count": 149,
   "id": "f0ffc5fc",
   "metadata": {},
   "outputs": [],
   "source": [
    "RFC3.fit(X_tr_scaled2, y_train_sm2)\n",
    "y_pred2 = RFC3.predict(X_te_scaled2)\n",
    "ac = accuracy_score(y_test2, y_pred2)\n",
    "f1 = f1_score(y_test2, y_pred2, average='weighted')\n",
    "recall = recall_score(y_test2, y_pred2, average='weighted')\n"
   ]
  },
  {
   "cell_type": "code",
   "execution_count": 150,
   "id": "013f016b",
   "metadata": {},
   "outputs": [
    {
     "name": "stdout",
     "output_type": "stream",
     "text": [
      "Final Random Forest with selected features: Accuracy=0.853\n",
      "Final Random Forest with selected features: f1-score=0.844\n",
      "Fianl Random Forest with selected features: recall-score=0.853\n"
     ]
    }
   ],
   "source": [
    "print('Final Random Forest with selected features: Accuracy=%.3f' % (ac))\n",
    "print('Final Random Forest with selected features: f1-score=%.3f' % (f1))\n",
    "print('Fianl Random Forest with selected features: recall-score=%.3f' % (recall))"
   ]
  },
  {
   "cell_type": "markdown",
   "id": "a0f134ce",
   "metadata": {},
   "source": [
    "### Accuracy score has been lowered from 0.861 to 0.853\n",
    "Feature selection did not help increase the accuracy score"
   ]
  },
  {
   "cell_type": "code",
   "execution_count": null,
   "id": "ab345b31",
   "metadata": {},
   "outputs": [],
   "source": [
    "# "
   ]
  },
  {
   "cell_type": "code",
   "execution_count": null,
   "id": "6c3ea02a",
   "metadata": {},
   "outputs": [],
   "source": [
    "# select top 10 in variable importance, and then try model again. \n",
    "\n",
    "# 80 - 85. \n"
   ]
  },
  {
   "cell_type": "code",
   "execution_count": null,
   "id": "53c5e71a",
   "metadata": {},
   "outputs": [],
   "source": [
    "# overfitting \n",
    "# then try feature selection or dimensionality reduction. \n",
    "\n",
    "# remove outliers ??? shouldn't remove outliers blindly. 3 sdv\n",
    "\n",
    "# test score again? bc you have done test score already. \n",
    "\n",
    "# cross validation score. -- test \n",
    "\n"
   ]
  },
  {
   "cell_type": "code",
   "execution_count": null,
   "id": "2b282815",
   "metadata": {},
   "outputs": [],
   "source": [
    "오버피팅에 관해서:\n",
    "첫번째 답변 : https://datascience.stackexchange.com/questions/26640/how-to-check-for-overfitting-with-svm-and-iris-data\n",
    "# 보통은 cv score standard deviation 을 보고 판단\n",
    "\n",
    "usually we look at the mean validation score only and the standard deviation, \n",
    "higher standard deviation shows model overfittting because it means \n",
    "maybe model is performing well in a few folds of data\n",
    "but performing really bad on some folds of data\n",
    "so then we dont involve the test data at all\n",
    "but it is ok to involve the test data if you have done so, not the end of the world\n",
    "\n",
    "so you can do all the steps again like you said and again compare validation and test scores too\n",
    "\n",
    "====\n",
    "\n",
    "On larger real-world datasets you are likely to see your test error be higher than your training error, \n",
    "with cross-validation providing a lower accuracy than the raw number.\n",
    "gap suggests high variance.\n",
    "====\n",
    "\n",
    "데이터가 가지고 있는 불확실성이나 noise 뿐만 아니라 모든 학습 알고리즘은 두 가지 종류의 에러를 가진다.\n",
    "\n",
    "1. Bias\n",
    "\n",
    "2. Variance\n",
    "\n",
    "Error(X) = noise(X) + bias(X) + variance(X)\n",
    "\n",
    "noise는 데이터가 가지는 본질적인 한계치이기 때문에 irreducible error라고도 불리며, bias/variance는 모델에 따라 변하는 것이기에 reducible error라고 불린다)\n",
    "Bias는 데이터 내에 있는 모든 정보를 고려하지 않음으로 인해, 지속적으로 잘못된 것들을 학습하는 경향을 말한다. underfitting 이라고도 한다.\n",
    "\n",
    "반대로 Variance는 데이터 내에 있는 에러나 노이즈까지 잘 잡아내는 highly flexible models 에 데이터를 fitting시킴으로써, 실제 현상과 관계 없는 random한 것들까지 학습하는 알고리즘의 경향을 의미한다. 이는 overfitting과 관계되어 있다\n",
    "'Bias'는 트레이닝 데이터를 바꿈에 따라서 알고리즘의 평균 정확도가 얼마나 많이 변하는지를 보여주고, 'Variance'는 특정 입력 데이터에 대해 알고리즘이 얼마나 민감한지를 나타낸다.\n",
    "low bias 는 새로운 데이터가 들어왔을 때 완전히 다른 형태로 변하게 되고, generality를 잃게 될 것이다 (high variance).\n",
    "high bias는 새로운 데이터가 들어온다 하더라도 이 모델의 형태는 크게 변하지 않을 것이다 (low variance).\n",
    "트레이닝 데이터가 아닌 실제 데이터에서 좋은 성능을 내기 위해 이런 tradeoff는 반드시 생길 수 밖에 없으며 이는 bias-variance trade-off 라고 불린다.\n",
    "\n",
    "출처: https://bywords.tistory.com/entry/번역-유치원생도-이해할-수-있는-biasvariance-tradeoff [건빵의 블로그]\n"
   ]
  },
  {
   "cell_type": "markdown",
   "id": "c27f89d5",
   "metadata": {},
   "source": [
    "# Save result to csv"
   ]
  },
  {
   "cell_type": "code",
   "execution_count": 58,
   "id": "d763db32",
   "metadata": {},
   "outputs": [],
   "source": [
    "prediction = y_pred\n",
    "\n",
    "original_performance_score = y_test\n",
    "\n",
    "IndexNo = df['Index No']"
   ]
  },
  {
   "cell_type": "code",
   "execution_count": 59,
   "id": "4c0ace65",
   "metadata": {},
   "outputs": [
    {
     "data": {
      "text/html": [
       "<div>\n",
       "<style scoped>\n",
       "    .dataframe tbody tr th:only-of-type {\n",
       "        vertical-align: middle;\n",
       "    }\n",
       "\n",
       "    .dataframe tbody tr th {\n",
       "        vertical-align: top;\n",
       "    }\n",
       "\n",
       "    .dataframe thead th {\n",
       "        text-align: right;\n",
       "    }\n",
       "</style>\n",
       "<table border=\"1\" class=\"dataframe\">\n",
       "  <thead>\n",
       "    <tr style=\"text-align: right;\">\n",
       "      <th></th>\n",
       "      <th>IndexNo</th>\n",
       "      <th>original_performance_score</th>\n",
       "      <th>prediction</th>\n",
       "    </tr>\n",
       "  </thead>\n",
       "  <tbody>\n",
       "    <tr>\n",
       "      <th>0</th>\n",
       "      <td>AAAAAZ</td>\n",
       "      <td>3</td>\n",
       "      <td>3</td>\n",
       "    </tr>\n",
       "    <tr>\n",
       "      <th>1</th>\n",
       "      <td>AAADK</td>\n",
       "      <td>3</td>\n",
       "      <td>3</td>\n",
       "    </tr>\n",
       "    <tr>\n",
       "      <th>2</th>\n",
       "      <td>AAAKFZ</td>\n",
       "      <td>4</td>\n",
       "      <td>4</td>\n",
       "    </tr>\n",
       "    <tr>\n",
       "      <th>3</th>\n",
       "      <td>AAAKKD</td>\n",
       "      <td>3</td>\n",
       "      <td>1</td>\n",
       "    </tr>\n",
       "    <tr>\n",
       "      <th>4</th>\n",
       "      <td>AAAKXX</td>\n",
       "      <td>3</td>\n",
       "      <td>5</td>\n",
       "    </tr>\n",
       "  </tbody>\n",
       "</table>\n",
       "</div>"
      ],
      "text/plain": [
       "  IndexNo  original_performance_score  prediction\n",
       "0  AAAAAZ                           3           3\n",
       "1   AAADK                           3           3\n",
       "2  AAAKFZ                           4           4\n",
       "3  AAAKKD                           3           1\n",
       "4  AAAKXX                           3           5"
      ]
     },
     "execution_count": 59,
     "metadata": {},
     "output_type": "execute_result"
    }
   ],
   "source": [
    "result = pd.DataFrame(list(zip(IndexNo, original_performance_score, prediction)), columns =['IndexNo', 'original_performance_score', 'prediction'])\n",
    "result.head()"
   ]
  },
  {
   "cell_type": "code",
   "execution_count": null,
   "id": "ff63401d",
   "metadata": {},
   "outputs": [],
   "source": [
    "#rfc1_result.to_csv('final_result_rfc1.csv', header=True, index=False)"
   ]
  },
  {
   "cell_type": "code",
   "execution_count": null,
   "id": "b4973bdb",
   "metadata": {},
   "outputs": [],
   "source": []
  }
 ],
 "metadata": {
  "kernelspec": {
   "display_name": "Python 3",
   "language": "python",
   "name": "python3"
  },
  "language_info": {
   "codemirror_mode": {
    "name": "ipython",
    "version": 3
   },
   "file_extension": ".py",
   "mimetype": "text/x-python",
   "name": "python",
   "nbconvert_exporter": "python",
   "pygments_lexer": "ipython3",
   "version": "3.8.8"
  }
 },
 "nbformat": 4,
 "nbformat_minor": 5
}
