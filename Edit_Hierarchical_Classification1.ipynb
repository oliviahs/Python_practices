{
 "cells": [
  {
   "cell_type": "code",
   "execution_count": 1,
   "id": "3664c44f",
   "metadata": {},
   "outputs": [],
   "source": [
    "import pandas as pd\n",
    "import json\n",
    "# preprocess\n",
    "from nltk.corpus import stopwords\n",
    "from nltk.stem import WordNetLemmatizer\n",
    "from nltk.tokenize import word_tokenize\n",
    "import re\n",
    "import string\n",
    "# model\n",
    "from sklearn.feature_extraction.text import TfidfVectorizer\n",
    "from sklearn.model_selection import train_test_split\n",
    "from sklearn.svm import LinearSVC\n",
    "import sklearn.metrics as metrics"
   ]
  },
  {
   "cell_type": "code",
   "execution_count": null,
   "id": "09d36c72",
   "metadata": {},
   "outputs": [],
   "source": []
  },
  {
   "cell_type": "code",
   "execution_count": null,
   "id": "94a30688",
   "metadata": {},
   "outputs": [],
   "source": []
  },
  {
   "cell_type": "code",
   "execution_count": 2,
   "id": "2324ff2c",
   "metadata": {},
   "outputs": [],
   "source": [
    "import warnings\n",
    "warnings.filterwarnings(\"ignore\")"
   ]
  },
  {
   "cell_type": "code",
   "execution_count": 3,
   "id": "2a513f7f",
   "metadata": {},
   "outputs": [],
   "source": [
    "df = pd.read_csv(\"classification_data_original.csv\")"
   ]
  },
  {
   "cell_type": "code",
   "execution_count": 4,
   "id": "84a9f4eb",
   "metadata": {},
   "outputs": [],
   "source": [
    "mydf = df[['index', 'id', 'content', 'title', 'preprocessed_content', 'label', 'hierarchy']]"
   ]
  },
  {
   "cell_type": "code",
   "execution_count": 5,
   "id": "012d7eee",
   "metadata": {
    "scrolled": true
   },
   "outputs": [
    {
     "data": {
      "text/html": [
       "<div>\n",
       "<style scoped>\n",
       "    .dataframe tbody tr th:only-of-type {\n",
       "        vertical-align: middle;\n",
       "    }\n",
       "\n",
       "    .dataframe tbody tr th {\n",
       "        vertical-align: top;\n",
       "    }\n",
       "\n",
       "    .dataframe thead th {\n",
       "        text-align: right;\n",
       "    }\n",
       "</style>\n",
       "<table border=\"1\" class=\"dataframe\">\n",
       "  <thead>\n",
       "    <tr style=\"text-align: right;\">\n",
       "      <th></th>\n",
       "      <th>index</th>\n",
       "      <th>id</th>\n",
       "      <th>content</th>\n",
       "      <th>title</th>\n",
       "      <th>preprocessed_content</th>\n",
       "      <th>label</th>\n",
       "      <th>hierarchy</th>\n",
       "    </tr>\n",
       "  </thead>\n",
       "  <tbody>\n",
       "    <tr>\n",
       "      <th>0</th>\n",
       "      <td>133</td>\n",
       "      <td>https://www.whowhatwear.com/5-looks-that-put-b...</td>\n",
       "      <td>After seeing burgundy boots on some of our fav...</td>\n",
       "      <td>5 Looks That Put Burgundy Boots On Our Must-Ha...</td>\n",
       "      <td>seeing burgundy boot favorite street style blo...</td>\n",
       "      <td>Womens\\ Casual\\ Wear</td>\n",
       "      <td>[{'Style &amp; Fashion': {\"Women's Fashion\": {\"Wom...</td>\n",
       "    </tr>\n",
       "    <tr>\n",
       "      <th>1</th>\n",
       "      <td>189</td>\n",
       "      <td>https://www.wisebread.com/what-you-need-to-kno...</td>\n",
       "      <td>According to a September 29, 2009 Fidelity Inv...</td>\n",
       "      <td>How to Make the Most of Your 401K</td>\n",
       "      <td>according september fidelity investments study...</td>\n",
       "      <td>Personal\\ Investing</td>\n",
       "      <td>[{'Personal Finance': 'Personal Investing'}]</td>\n",
       "    </tr>\n",
       "    <tr>\n",
       "      <th>2</th>\n",
       "      <td>401</td>\n",
       "      <td>https://www.theturekclinic.com/blog/mindful-ea...</td>\n",
       "      <td>“Thou shouldst eat to live; not live to eat,” ...</td>\n",
       "      <td>Mindful Eating</td>\n",
       "      <td>thou shouldst eat live live eat said socrates ...</td>\n",
       "      <td>Mens\\ Health</td>\n",
       "      <td>[{'Healthy Living': \"Men's Health\"}]</td>\n",
       "    </tr>\n",
       "    <tr>\n",
       "      <th>3</th>\n",
       "      <td>198</td>\n",
       "      <td>https://www.news-medical.net/news/20190611/Ear...</td>\n",
       "      <td>Researchers continue to dig for molecular clue...</td>\n",
       "      <td>Early life adversity and high levels of FKBP5 ...</td>\n",
       "      <td>researchers continue dig molecular clue better...</td>\n",
       "      <td>Hormonal\\ Disorders</td>\n",
       "      <td>[{'Medical Health': {'Diseases and Conditions'...</td>\n",
       "    </tr>\n",
       "    <tr>\n",
       "      <th>4</th>\n",
       "      <td>24</td>\n",
       "      <td>https://hobbylark.com/card-games/Top-Strongest...</td>\n",
       "      <td>As any duelist knows, the vast majority of Yu-...</td>\n",
       "      <td>Top 10 Strongest (Highest ATK) Monsters in Yu-...</td>\n",
       "      <td>duelist know vast majority yu gi oh match end ...</td>\n",
       "      <td>Card\\ Games</td>\n",
       "      <td>[{'Hobbies &amp; Interests': {'Games and Puzzles':...</td>\n",
       "    </tr>\n",
       "  </tbody>\n",
       "</table>\n",
       "</div>"
      ],
      "text/plain": [
       "  index                                                 id  \\\n",
       "0   133  https://www.whowhatwear.com/5-looks-that-put-b...   \n",
       "1   189  https://www.wisebread.com/what-you-need-to-kno...   \n",
       "2   401  https://www.theturekclinic.com/blog/mindful-ea...   \n",
       "3   198  https://www.news-medical.net/news/20190611/Ear...   \n",
       "4    24  https://hobbylark.com/card-games/Top-Strongest...   \n",
       "\n",
       "                                             content  \\\n",
       "0  After seeing burgundy boots on some of our fav...   \n",
       "1  According to a September 29, 2009 Fidelity Inv...   \n",
       "2  “Thou shouldst eat to live; not live to eat,” ...   \n",
       "3  Researchers continue to dig for molecular clue...   \n",
       "4  As any duelist knows, the vast majority of Yu-...   \n",
       "\n",
       "                                               title  \\\n",
       "0  5 Looks That Put Burgundy Boots On Our Must-Ha...   \n",
       "1                  How to Make the Most of Your 401K   \n",
       "2                                     Mindful Eating   \n",
       "3  Early life adversity and high levels of FKBP5 ...   \n",
       "4  Top 10 Strongest (Highest ATK) Monsters in Yu-...   \n",
       "\n",
       "                                preprocessed_content                 label  \\\n",
       "0  seeing burgundy boot favorite street style blo...  Womens\\ Casual\\ Wear   \n",
       "1  according september fidelity investments study...   Personal\\ Investing   \n",
       "2  thou shouldst eat live live eat said socrates ...          Mens\\ Health   \n",
       "3  researchers continue dig molecular clue better...   Hormonal\\ Disorders   \n",
       "4  duelist know vast majority yu gi oh match end ...           Card\\ Games   \n",
       "\n",
       "                                           hierarchy  \n",
       "0  [{'Style & Fashion': {\"Women's Fashion\": {\"Wom...  \n",
       "1       [{'Personal Finance': 'Personal Investing'}]  \n",
       "2               [{'Healthy Living': \"Men's Health\"}]  \n",
       "3  [{'Medical Health': {'Diseases and Conditions'...  \n",
       "4  [{'Hobbies & Interests': {'Games and Puzzles':...  "
      ]
     },
     "execution_count": 5,
     "metadata": {},
     "output_type": "execute_result"
    }
   ],
   "source": [
    "mydf.head()"
   ]
  },
  {
   "cell_type": "markdown",
   "id": "4052217d",
   "metadata": {},
   "source": [
    "# Separate hierarchically structured target variable into multiple columns"
   ]
  },
  {
   "cell_type": "code",
   "execution_count": 6,
   "id": "01d35972",
   "metadata": {
    "scrolled": false
   },
   "outputs": [],
   "source": [
    "# Put hierarchical categories into seperate columns\n",
    "categories = mydf.hierarchy.str.split(':', 4, expand=True)"
   ]
  },
  {
   "cell_type": "code",
   "execution_count": 7,
   "id": "25289d97",
   "metadata": {
    "scrolled": true
   },
   "outputs": [],
   "source": [
    "# Remove all special characters \n",
    "cat = categories.replace(r'[^A-Za-z0-9]', r' ', regex=True)"
   ]
  },
  {
   "cell_type": "code",
   "execution_count": 8,
   "id": "28548108",
   "metadata": {
    "scrolled": false
   },
   "outputs": [
    {
     "data": {
      "text/html": [
       "<div>\n",
       "<style scoped>\n",
       "    .dataframe tbody tr th:only-of-type {\n",
       "        vertical-align: middle;\n",
       "    }\n",
       "\n",
       "    .dataframe tbody tr th {\n",
       "        vertical-align: top;\n",
       "    }\n",
       "\n",
       "    .dataframe thead th {\n",
       "        text-align: right;\n",
       "    }\n",
       "</style>\n",
       "<table border=\"1\" class=\"dataframe\">\n",
       "  <thead>\n",
       "    <tr style=\"text-align: right;\">\n",
       "      <th></th>\n",
       "      <th>0</th>\n",
       "      <th>1</th>\n",
       "      <th>2</th>\n",
       "      <th>3</th>\n",
       "    </tr>\n",
       "  </thead>\n",
       "  <tbody>\n",
       "    <tr>\n",
       "      <th>0</th>\n",
       "      <td>Style   Fashion</td>\n",
       "      <td>Women s Fashion</td>\n",
       "      <td>Women s Clothing</td>\n",
       "      <td>Women s Casual Wear</td>\n",
       "    </tr>\n",
       "    <tr>\n",
       "      <th>1</th>\n",
       "      <td>Personal Finance</td>\n",
       "      <td>Personal Investing</td>\n",
       "      <td>None</td>\n",
       "      <td>None</td>\n",
       "    </tr>\n",
       "    <tr>\n",
       "      <th>2</th>\n",
       "      <td>Healthy Living</td>\n",
       "      <td>Men s Health</td>\n",
       "      <td>None</td>\n",
       "      <td>None</td>\n",
       "    </tr>\n",
       "    <tr>\n",
       "      <th>3</th>\n",
       "      <td>Medical Health</td>\n",
       "      <td>Diseases and Conditions</td>\n",
       "      <td>Endocrine and Metabolic Diseases</td>\n",
       "      <td>Hormonal Disorders</td>\n",
       "    </tr>\n",
       "    <tr>\n",
       "      <th>4</th>\n",
       "      <td>Hobbies   Interests</td>\n",
       "      <td>Games and Puzzles</td>\n",
       "      <td>Card Games</td>\n",
       "      <td>None</td>\n",
       "    </tr>\n",
       "  </tbody>\n",
       "</table>\n",
       "</div>"
      ],
      "text/plain": [
       "                         0                            1  \\\n",
       "0         Style   Fashion              Women s Fashion    \n",
       "1        Personal Finance         Personal Investing      \n",
       "2          Healthy Living               Men s Health      \n",
       "3          Medical Health      Diseases and Conditions    \n",
       "4     Hobbies   Interests            Games and Puzzles    \n",
       "\n",
       "                                      2                           3  \n",
       "0                     Women s Clothing     Women s Casual Wear       \n",
       "1                                  None                        None  \n",
       "2                                  None                        None  \n",
       "3     Endocrine and Metabolic Diseases      Hormonal Disorders       \n",
       "4                        Card Games                            None  "
      ]
     },
     "execution_count": 8,
     "metadata": {},
     "output_type": "execute_result"
    }
   ],
   "source": [
    "# Now we have more clear categories\n",
    "cat.head()"
   ]
  },
  {
   "cell_type": "code",
   "execution_count": 9,
   "id": "9d5c9cfd",
   "metadata": {
    "scrolled": false
   },
   "outputs": [
    {
     "data": {
      "text/html": [
       "<div>\n",
       "<style scoped>\n",
       "    .dataframe tbody tr th:only-of-type {\n",
       "        vertical-align: middle;\n",
       "    }\n",
       "\n",
       "    .dataframe tbody tr th {\n",
       "        vertical-align: top;\n",
       "    }\n",
       "\n",
       "    .dataframe thead th {\n",
       "        text-align: right;\n",
       "    }\n",
       "</style>\n",
       "<table border=\"1\" class=\"dataframe\">\n",
       "  <thead>\n",
       "    <tr style=\"text-align: right;\">\n",
       "      <th></th>\n",
       "      <th>index</th>\n",
       "      <th>id</th>\n",
       "      <th>content</th>\n",
       "      <th>title</th>\n",
       "      <th>preprocessed_content</th>\n",
       "      <th>label</th>\n",
       "      <th>hierarchy</th>\n",
       "      <th>0</th>\n",
       "      <th>1</th>\n",
       "      <th>2</th>\n",
       "      <th>3</th>\n",
       "    </tr>\n",
       "  </thead>\n",
       "  <tbody>\n",
       "    <tr>\n",
       "      <th>0</th>\n",
       "      <td>133</td>\n",
       "      <td>https://www.whowhatwear.com/5-looks-that-put-b...</td>\n",
       "      <td>After seeing burgundy boots on some of our fav...</td>\n",
       "      <td>5 Looks That Put Burgundy Boots On Our Must-Ha...</td>\n",
       "      <td>seeing burgundy boot favorite street style blo...</td>\n",
       "      <td>Womens\\ Casual\\ Wear</td>\n",
       "      <td>[{'Style &amp; Fashion': {\"Women's Fashion\": {\"Wom...</td>\n",
       "      <td>Style   Fashion</td>\n",
       "      <td>Women s Fashion</td>\n",
       "      <td>Women s Clothing</td>\n",
       "      <td>Women s Casual Wear</td>\n",
       "    </tr>\n",
       "    <tr>\n",
       "      <th>1</th>\n",
       "      <td>189</td>\n",
       "      <td>https://www.wisebread.com/what-you-need-to-kno...</td>\n",
       "      <td>According to a September 29, 2009 Fidelity Inv...</td>\n",
       "      <td>How to Make the Most of Your 401K</td>\n",
       "      <td>according september fidelity investments study...</td>\n",
       "      <td>Personal\\ Investing</td>\n",
       "      <td>[{'Personal Finance': 'Personal Investing'}]</td>\n",
       "      <td>Personal Finance</td>\n",
       "      <td>Personal Investing</td>\n",
       "      <td>None</td>\n",
       "      <td>None</td>\n",
       "    </tr>\n",
       "    <tr>\n",
       "      <th>2</th>\n",
       "      <td>401</td>\n",
       "      <td>https://www.theturekclinic.com/blog/mindful-ea...</td>\n",
       "      <td>“Thou shouldst eat to live; not live to eat,” ...</td>\n",
       "      <td>Mindful Eating</td>\n",
       "      <td>thou shouldst eat live live eat said socrates ...</td>\n",
       "      <td>Mens\\ Health</td>\n",
       "      <td>[{'Healthy Living': \"Men's Health\"}]</td>\n",
       "      <td>Healthy Living</td>\n",
       "      <td>Men s Health</td>\n",
       "      <td>None</td>\n",
       "      <td>None</td>\n",
       "    </tr>\n",
       "    <tr>\n",
       "      <th>3</th>\n",
       "      <td>198</td>\n",
       "      <td>https://www.news-medical.net/news/20190611/Ear...</td>\n",
       "      <td>Researchers continue to dig for molecular clue...</td>\n",
       "      <td>Early life adversity and high levels of FKBP5 ...</td>\n",
       "      <td>researchers continue dig molecular clue better...</td>\n",
       "      <td>Hormonal\\ Disorders</td>\n",
       "      <td>[{'Medical Health': {'Diseases and Conditions'...</td>\n",
       "      <td>Medical Health</td>\n",
       "      <td>Diseases and Conditions</td>\n",
       "      <td>Endocrine and Metabolic Diseases</td>\n",
       "      <td>Hormonal Disorders</td>\n",
       "    </tr>\n",
       "    <tr>\n",
       "      <th>4</th>\n",
       "      <td>24</td>\n",
       "      <td>https://hobbylark.com/card-games/Top-Strongest...</td>\n",
       "      <td>As any duelist knows, the vast majority of Yu-...</td>\n",
       "      <td>Top 10 Strongest (Highest ATK) Monsters in Yu-...</td>\n",
       "      <td>duelist know vast majority yu gi oh match end ...</td>\n",
       "      <td>Card\\ Games</td>\n",
       "      <td>[{'Hobbies &amp; Interests': {'Games and Puzzles':...</td>\n",
       "      <td>Hobbies   Interests</td>\n",
       "      <td>Games and Puzzles</td>\n",
       "      <td>Card Games</td>\n",
       "      <td>None</td>\n",
       "    </tr>\n",
       "  </tbody>\n",
       "</table>\n",
       "</div>"
      ],
      "text/plain": [
       "  index                                                 id  \\\n",
       "0   133  https://www.whowhatwear.com/5-looks-that-put-b...   \n",
       "1   189  https://www.wisebread.com/what-you-need-to-kno...   \n",
       "2   401  https://www.theturekclinic.com/blog/mindful-ea...   \n",
       "3   198  https://www.news-medical.net/news/20190611/Ear...   \n",
       "4    24  https://hobbylark.com/card-games/Top-Strongest...   \n",
       "\n",
       "                                             content  \\\n",
       "0  After seeing burgundy boots on some of our fav...   \n",
       "1  According to a September 29, 2009 Fidelity Inv...   \n",
       "2  “Thou shouldst eat to live; not live to eat,” ...   \n",
       "3  Researchers continue to dig for molecular clue...   \n",
       "4  As any duelist knows, the vast majority of Yu-...   \n",
       "\n",
       "                                               title  \\\n",
       "0  5 Looks That Put Burgundy Boots On Our Must-Ha...   \n",
       "1                  How to Make the Most of Your 401K   \n",
       "2                                     Mindful Eating   \n",
       "3  Early life adversity and high levels of FKBP5 ...   \n",
       "4  Top 10 Strongest (Highest ATK) Monsters in Yu-...   \n",
       "\n",
       "                                preprocessed_content                 label  \\\n",
       "0  seeing burgundy boot favorite street style blo...  Womens\\ Casual\\ Wear   \n",
       "1  according september fidelity investments study...   Personal\\ Investing   \n",
       "2  thou shouldst eat live live eat said socrates ...          Mens\\ Health   \n",
       "3  researchers continue dig molecular clue better...   Hormonal\\ Disorders   \n",
       "4  duelist know vast majority yu gi oh match end ...           Card\\ Games   \n",
       "\n",
       "                                           hierarchy                        0  \\\n",
       "0  [{'Style & Fashion': {\"Women's Fashion\": {\"Wom...         Style   Fashion    \n",
       "1       [{'Personal Finance': 'Personal Investing'}]        Personal Finance    \n",
       "2               [{'Healthy Living': \"Men's Health\"}]          Healthy Living    \n",
       "3  [{'Medical Health': {'Diseases and Conditions'...          Medical Health    \n",
       "4  [{'Hobbies & Interests': {'Games and Puzzles':...     Hobbies   Interests    \n",
       "\n",
       "                             1                                     2  \\\n",
       "0             Women s Fashion                      Women s Clothing    \n",
       "1        Personal Investing                                     None   \n",
       "2              Men s Health                                     None   \n",
       "3     Diseases and Conditions      Endocrine and Metabolic Diseases    \n",
       "4           Games and Puzzles                         Card Games       \n",
       "\n",
       "                            3  \n",
       "0    Women s Casual Wear       \n",
       "1                        None  \n",
       "2                        None  \n",
       "3     Hormonal Disorders       \n",
       "4                        None  "
      ]
     },
     "execution_count": 9,
     "metadata": {},
     "output_type": "execute_result"
    }
   ],
   "source": [
    "newdf = pd.concat([mydf, cat], axis = 1)\n",
    "newdf.head()"
   ]
  },
  {
   "cell_type": "code",
   "execution_count": 10,
   "id": "2a325ac1",
   "metadata": {},
   "outputs": [],
   "source": [
    "import nltk"
   ]
  },
  {
   "cell_type": "code",
   "execution_count": 11,
   "id": "0ec207be",
   "metadata": {},
   "outputs": [],
   "source": [
    "def preprocess_text(text):\n",
    "    lemma = WordNetLemmatizer()\n",
    "    text = re.sub(r\"[^A-Za-z0-9^,!.\\/'+-=]\", \" \", text)\n",
    "    text = re.compile('[%s]' % re.escape(string.punctuation)).sub(' ', text)\n",
    "    tokens = word_tokenize(text)\n",
    "    stop_words = set(stopwords.words('english'))\n",
    "    words = [lemma.lemmatize(word).lower() for word in tokens if word.lower() not in stop_words and not word.isdigit()]\n",
    "    return re.sub(\"\\s\\s+\" , \" \", ' '.join(words))"
   ]
  },
  {
   "cell_type": "code",
   "execution_count": 12,
   "id": "2c42d778",
   "metadata": {},
   "outputs": [],
   "source": [
    "newdf['content'] = newdf['content'].astype(str)"
   ]
  },
  {
   "cell_type": "code",
   "execution_count": 13,
   "id": "5867be1f",
   "metadata": {},
   "outputs": [],
   "source": [
    "newdf['cleaned_content'] = newdf['content'].apply(preprocess_text)"
   ]
  },
  {
   "cell_type": "code",
   "execution_count": 14,
   "id": "07554ac7",
   "metadata": {},
   "outputs": [],
   "source": [
    "newdf.columns = ['index','id','content','title', 'preprocessed_content','label','hierarchy', 'first','second','third','fourth', 'cleaned_content']"
   ]
  },
  {
   "cell_type": "code",
   "execution_count": 15,
   "id": "aaa4f77f",
   "metadata": {
    "scrolled": false
   },
   "outputs": [
    {
     "data": {
      "text/html": [
       "<div>\n",
       "<style scoped>\n",
       "    .dataframe tbody tr th:only-of-type {\n",
       "        vertical-align: middle;\n",
       "    }\n",
       "\n",
       "    .dataframe tbody tr th {\n",
       "        vertical-align: top;\n",
       "    }\n",
       "\n",
       "    .dataframe thead th {\n",
       "        text-align: right;\n",
       "    }\n",
       "</style>\n",
       "<table border=\"1\" class=\"dataframe\">\n",
       "  <thead>\n",
       "    <tr style=\"text-align: right;\">\n",
       "      <th></th>\n",
       "      <th>index</th>\n",
       "      <th>id</th>\n",
       "      <th>content</th>\n",
       "      <th>title</th>\n",
       "      <th>preprocessed_content</th>\n",
       "      <th>label</th>\n",
       "      <th>hierarchy</th>\n",
       "      <th>first</th>\n",
       "      <th>second</th>\n",
       "      <th>third</th>\n",
       "      <th>fourth</th>\n",
       "      <th>cleaned_content</th>\n",
       "    </tr>\n",
       "  </thead>\n",
       "  <tbody>\n",
       "    <tr>\n",
       "      <th>0</th>\n",
       "      <td>133</td>\n",
       "      <td>https://www.whowhatwear.com/5-looks-that-put-b...</td>\n",
       "      <td>After seeing burgundy boots on some of our fav...</td>\n",
       "      <td>5 Looks That Put Burgundy Boots On Our Must-Ha...</td>\n",
       "      <td>seeing burgundy boot favorite street style blo...</td>\n",
       "      <td>Womens\\ Casual\\ Wear</td>\n",
       "      <td>[{'Style &amp; Fashion': {\"Women's Fashion\": {\"Wom...</td>\n",
       "      <td>Style   Fashion</td>\n",
       "      <td>Women s Fashion</td>\n",
       "      <td>Women s Clothing</td>\n",
       "      <td>Women s Casual Wear</td>\n",
       "      <td>seeing burgundy boot favorite street style blo...</td>\n",
       "    </tr>\n",
       "    <tr>\n",
       "      <th>1</th>\n",
       "      <td>189</td>\n",
       "      <td>https://www.wisebread.com/what-you-need-to-kno...</td>\n",
       "      <td>According to a September 29, 2009 Fidelity Inv...</td>\n",
       "      <td>How to Make the Most of Your 401K</td>\n",
       "      <td>according september fidelity investments study...</td>\n",
       "      <td>Personal\\ Investing</td>\n",
       "      <td>[{'Personal Finance': 'Personal Investing'}]</td>\n",
       "      <td>Personal Finance</td>\n",
       "      <td>Personal Investing</td>\n",
       "      <td>None</td>\n",
       "      <td>None</td>\n",
       "      <td>according september fidelity investments study...</td>\n",
       "    </tr>\n",
       "    <tr>\n",
       "      <th>2</th>\n",
       "      <td>401</td>\n",
       "      <td>https://www.theturekclinic.com/blog/mindful-ea...</td>\n",
       "      <td>“Thou shouldst eat to live; not live to eat,” ...</td>\n",
       "      <td>Mindful Eating</td>\n",
       "      <td>thou shouldst eat live live eat said socrates ...</td>\n",
       "      <td>Mens\\ Health</td>\n",
       "      <td>[{'Healthy Living': \"Men's Health\"}]</td>\n",
       "      <td>Healthy Living</td>\n",
       "      <td>Men s Health</td>\n",
       "      <td>None</td>\n",
       "      <td>None</td>\n",
       "      <td>thou shouldst eat live live eat said socrates ...</td>\n",
       "    </tr>\n",
       "    <tr>\n",
       "      <th>3</th>\n",
       "      <td>198</td>\n",
       "      <td>https://www.news-medical.net/news/20190611/Ear...</td>\n",
       "      <td>Researchers continue to dig for molecular clue...</td>\n",
       "      <td>Early life adversity and high levels of FKBP5 ...</td>\n",
       "      <td>researchers continue dig molecular clue better...</td>\n",
       "      <td>Hormonal\\ Disorders</td>\n",
       "      <td>[{'Medical Health': {'Diseases and Conditions'...</td>\n",
       "      <td>Medical Health</td>\n",
       "      <td>Diseases and Conditions</td>\n",
       "      <td>Endocrine and Metabolic Diseases</td>\n",
       "      <td>Hormonal Disorders</td>\n",
       "      <td>researchers continue dig molecular clue better...</td>\n",
       "    </tr>\n",
       "    <tr>\n",
       "      <th>4</th>\n",
       "      <td>24</td>\n",
       "      <td>https://hobbylark.com/card-games/Top-Strongest...</td>\n",
       "      <td>As any duelist knows, the vast majority of Yu-...</td>\n",
       "      <td>Top 10 Strongest (Highest ATK) Monsters in Yu-...</td>\n",
       "      <td>duelist know vast majority yu gi oh match end ...</td>\n",
       "      <td>Card\\ Games</td>\n",
       "      <td>[{'Hobbies &amp; Interests': {'Games and Puzzles':...</td>\n",
       "      <td>Hobbies   Interests</td>\n",
       "      <td>Games and Puzzles</td>\n",
       "      <td>Card Games</td>\n",
       "      <td>None</td>\n",
       "      <td>duelist know vast majority yu gi oh match end ...</td>\n",
       "    </tr>\n",
       "  </tbody>\n",
       "</table>\n",
       "</div>"
      ],
      "text/plain": [
       "  index                                                 id  \\\n",
       "0   133  https://www.whowhatwear.com/5-looks-that-put-b...   \n",
       "1   189  https://www.wisebread.com/what-you-need-to-kno...   \n",
       "2   401  https://www.theturekclinic.com/blog/mindful-ea...   \n",
       "3   198  https://www.news-medical.net/news/20190611/Ear...   \n",
       "4    24  https://hobbylark.com/card-games/Top-Strongest...   \n",
       "\n",
       "                                             content  \\\n",
       "0  After seeing burgundy boots on some of our fav...   \n",
       "1  According to a September 29, 2009 Fidelity Inv...   \n",
       "2  “Thou shouldst eat to live; not live to eat,” ...   \n",
       "3  Researchers continue to dig for molecular clue...   \n",
       "4  As any duelist knows, the vast majority of Yu-...   \n",
       "\n",
       "                                               title  \\\n",
       "0  5 Looks That Put Burgundy Boots On Our Must-Ha...   \n",
       "1                  How to Make the Most of Your 401K   \n",
       "2                                     Mindful Eating   \n",
       "3  Early life adversity and high levels of FKBP5 ...   \n",
       "4  Top 10 Strongest (Highest ATK) Monsters in Yu-...   \n",
       "\n",
       "                                preprocessed_content                 label  \\\n",
       "0  seeing burgundy boot favorite street style blo...  Womens\\ Casual\\ Wear   \n",
       "1  according september fidelity investments study...   Personal\\ Investing   \n",
       "2  thou shouldst eat live live eat said socrates ...          Mens\\ Health   \n",
       "3  researchers continue dig molecular clue better...   Hormonal\\ Disorders   \n",
       "4  duelist know vast majority yu gi oh match end ...           Card\\ Games   \n",
       "\n",
       "                                           hierarchy                    first  \\\n",
       "0  [{'Style & Fashion': {\"Women's Fashion\": {\"Wom...         Style   Fashion    \n",
       "1       [{'Personal Finance': 'Personal Investing'}]        Personal Finance    \n",
       "2               [{'Healthy Living': \"Men's Health\"}]          Healthy Living    \n",
       "3  [{'Medical Health': {'Diseases and Conditions'...          Medical Health    \n",
       "4  [{'Hobbies & Interests': {'Games and Puzzles':...     Hobbies   Interests    \n",
       "\n",
       "                        second                                 third  \\\n",
       "0             Women s Fashion                      Women s Clothing    \n",
       "1        Personal Investing                                     None   \n",
       "2              Men s Health                                     None   \n",
       "3     Diseases and Conditions      Endocrine and Metabolic Diseases    \n",
       "4           Games and Puzzles                         Card Games       \n",
       "\n",
       "                       fourth  \\\n",
       "0    Women s Casual Wear        \n",
       "1                        None   \n",
       "2                        None   \n",
       "3     Hormonal Disorders        \n",
       "4                        None   \n",
       "\n",
       "                                     cleaned_content  \n",
       "0  seeing burgundy boot favorite street style blo...  \n",
       "1  according september fidelity investments study...  \n",
       "2  thou shouldst eat live live eat said socrates ...  \n",
       "3  researchers continue dig molecular clue better...  \n",
       "4  duelist know vast majority yu gi oh match end ...  "
      ]
     },
     "execution_count": 15,
     "metadata": {},
     "output_type": "execute_result"
    }
   ],
   "source": [
    "newdf.head()"
   ]
  },
  {
   "cell_type": "markdown",
   "id": "65290dc7",
   "metadata": {},
   "source": [
    "column: depth : the total number of levels --> and then predict? \n",
    "try to see if it's accurate\n",
    "\n",
    "if it's accurate,"
   ]
  },
  {
   "cell_type": "code",
   "execution_count": 16,
   "id": "4a7969ff",
   "metadata": {
    "scrolled": false
   },
   "outputs": [
    {
     "name": "stdout",
     "output_type": "stream",
     "text": [
      "<class 'pandas.core.frame.DataFrame'>\n",
      "RangeIndex: 9192 entries, 0 to 9191\n",
      "Data columns (total 12 columns):\n",
      " #   Column                Non-Null Count  Dtype \n",
      "---  ------                --------------  ----- \n",
      " 0   index                 9191 non-null   object\n",
      " 1   id                    9192 non-null   object\n",
      " 2   content               9192 non-null   object\n",
      " 3   title                 8949 non-null   object\n",
      " 4   preprocessed_content  8995 non-null   object\n",
      " 5   label                 9170 non-null   object\n",
      " 6   hierarchy             9169 non-null   object\n",
      " 7   first                 9169 non-null   object\n",
      " 8   second                8653 non-null   object\n",
      " 9   third                 4067 non-null   object\n",
      " 10  fourth                1438 non-null   object\n",
      " 11  cleaned_content       9192 non-null   object\n",
      "dtypes: object(12)\n",
      "memory usage: 861.9+ KB\n"
     ]
    }
   ],
   "source": [
    "newdf.info()"
   ]
  },
  {
   "cell_type": "code",
   "execution_count": 17,
   "id": "f4af116c",
   "metadata": {},
   "outputs": [],
   "source": [
    "first_level = newdf[['cleaned_content', 'first']]"
   ]
  },
  {
   "cell_type": "code",
   "execution_count": 18,
   "id": "1eff55fc",
   "metadata": {},
   "outputs": [
    {
     "data": {
      "text/html": [
       "<div>\n",
       "<style scoped>\n",
       "    .dataframe tbody tr th:only-of-type {\n",
       "        vertical-align: middle;\n",
       "    }\n",
       "\n",
       "    .dataframe tbody tr th {\n",
       "        vertical-align: top;\n",
       "    }\n",
       "\n",
       "    .dataframe thead th {\n",
       "        text-align: right;\n",
       "    }\n",
       "</style>\n",
       "<table border=\"1\" class=\"dataframe\">\n",
       "  <thead>\n",
       "    <tr style=\"text-align: right;\">\n",
       "      <th></th>\n",
       "      <th>cleaned_content</th>\n",
       "      <th>first</th>\n",
       "    </tr>\n",
       "  </thead>\n",
       "  <tbody>\n",
       "    <tr>\n",
       "      <th>0</th>\n",
       "      <td>seeing burgundy boot favorite street style blo...</td>\n",
       "      <td>Style   Fashion</td>\n",
       "    </tr>\n",
       "    <tr>\n",
       "      <th>1</th>\n",
       "      <td>according september fidelity investments study...</td>\n",
       "      <td>Personal Finance</td>\n",
       "    </tr>\n",
       "    <tr>\n",
       "      <th>2</th>\n",
       "      <td>thou shouldst eat live live eat said socrates ...</td>\n",
       "      <td>Healthy Living</td>\n",
       "    </tr>\n",
       "    <tr>\n",
       "      <th>3</th>\n",
       "      <td>researchers continue dig molecular clue better...</td>\n",
       "      <td>Medical Health</td>\n",
       "    </tr>\n",
       "    <tr>\n",
       "      <th>4</th>\n",
       "      <td>duelist know vast majority yu gi oh match end ...</td>\n",
       "      <td>Hobbies   Interests</td>\n",
       "    </tr>\n",
       "    <tr>\n",
       "      <th>...</th>\n",
       "      <td>...</td>\n",
       "      <td>...</td>\n",
       "    </tr>\n",
       "    <tr>\n",
       "      <th>9187</th>\n",
       "      <td>might get loud productions announces first key...</td>\n",
       "      <td>Hobbies   Interests</td>\n",
       "    </tr>\n",
       "    <tr>\n",
       "      <th>9188</th>\n",
       "      <td>tonight year end fundraiser free clinic workin...</td>\n",
       "      <td>Healthy Living</td>\n",
       "    </tr>\n",
       "    <tr>\n",
       "      <th>9189</th>\n",
       "      <td>modern mobile web development unlimited number...</td>\n",
       "      <td>Technology   Computing</td>\n",
       "    </tr>\n",
       "    <tr>\n",
       "      <th>9190</th>\n",
       "      <td>two new book spring mystery writer come togeth...</td>\n",
       "      <td>Books and Literature</td>\n",
       "    </tr>\n",
       "    <tr>\n",
       "      <th>9191</th>\n",
       "      <td>luxury similarly beauty eye beholder luxury ti...</td>\n",
       "      <td>Travel</td>\n",
       "    </tr>\n",
       "  </tbody>\n",
       "</table>\n",
       "<p>9192 rows × 2 columns</p>\n",
       "</div>"
      ],
      "text/plain": [
       "                                        cleaned_content  \\\n",
       "0     seeing burgundy boot favorite street style blo...   \n",
       "1     according september fidelity investments study...   \n",
       "2     thou shouldst eat live live eat said socrates ...   \n",
       "3     researchers continue dig molecular clue better...   \n",
       "4     duelist know vast majority yu gi oh match end ...   \n",
       "...                                                 ...   \n",
       "9187  might get loud productions announces first key...   \n",
       "9188  tonight year end fundraiser free clinic workin...   \n",
       "9189  modern mobile web development unlimited number...   \n",
       "9190  two new book spring mystery writer come togeth...   \n",
       "9191  luxury similarly beauty eye beholder luxury ti...   \n",
       "\n",
       "                           first  \n",
       "0               Style   Fashion   \n",
       "1              Personal Finance   \n",
       "2                Healthy Living   \n",
       "3                Medical Health   \n",
       "4           Hobbies   Interests   \n",
       "...                          ...  \n",
       "9187        Hobbies   Interests   \n",
       "9188             Healthy Living   \n",
       "9189     Technology   Computing   \n",
       "9190       Books and Literature   \n",
       "9191                     Travel   \n",
       "\n",
       "[9192 rows x 2 columns]"
      ]
     },
     "execution_count": 18,
     "metadata": {},
     "output_type": "execute_result"
    }
   ],
   "source": [
    "first_level"
   ]
  },
  {
   "cell_type": "code",
   "execution_count": 19,
   "id": "4ba73eeb",
   "metadata": {
    "scrolled": true
   },
   "outputs": [],
   "source": [
    "# Drop NaNs of first level \n",
    "first_level.dropna(inplace=True)"
   ]
  },
  {
   "cell_type": "code",
   "execution_count": 20,
   "id": "dc1c6cfb",
   "metadata": {
    "scrolled": true
   },
   "outputs": [
    {
     "name": "stdout",
     "output_type": "stream",
     "text": [
      "TF-IDF_Accuracy 0.8826834104428288\n",
      "TF-IDF_Precision 0.8836265261108233\n",
      "TF-IDF_Recall 0.8826834104428288\n",
      "TF-IDF_F1-score 0.8766261559340929\n"
     ]
    }
   ],
   "source": [
    "#TF-IDF(Term Frequency – Inverse Document Frequency) 인코딩\n",
    "#단어를 갯수 그대로 카운트하지 않고 모든 문서에 공통적으로 들어있는 단어의 경우 문서 구별 능력이 떨어진다고 보아 가중치를 축소하는 방법이다.\n",
    "tfidf = TfidfVectorizer(sublinear_tf=True, min_df=5, norm='l2', ngram_range=(1, 2), stop_words='english')\n",
    "features = tfidf.fit_transform(first_level['cleaned_content']).toarray()\n",
    "labels = first_level['first']\n",
    "X_train, X_test, y_train, y_test = train_test_split(features, labels, test_size=0.33, random_state=0)\n",
    "model = LinearSVC()\n",
    "model.fit(X_train, y_train)\n",
    "y_pred = model.predict(X_test)\n",
    "\n",
    "print(\"TF-IDF_Accuracy\",metrics.accuracy_score(y_test, y_pred))\n",
    "print(\"TF-IDF_Precision\",metrics.precision_score(y_test, y_pred,average='weighted'))\n",
    "print(\"TF-IDF_Recall\",metrics.recall_score(y_test, y_pred,average='weighted'))\n",
    "print(\"TF-IDF_F1-score\",metrics.f1_score(y_test, y_pred,average='weighted'))"
   ]
  },
  {
   "cell_type": "code",
   "execution_count": null,
   "id": "9dcdcdbb",
   "metadata": {},
   "outputs": [],
   "source": []
  },
  {
   "cell_type": "markdown",
   "id": "9dd6de5f",
   "metadata": {},
   "source": [
    "# Data for Two Levels\n"
   ]
  },
  {
   "cell_type": "code",
   "execution_count": 21,
   "id": "c7627122",
   "metadata": {},
   "outputs": [],
   "source": [
    "two_levels = newdf[['cleaned_content', 'first', 'second']]"
   ]
  },
  {
   "cell_type": "code",
   "execution_count": 22,
   "id": "a21025ee",
   "metadata": {
    "scrolled": true
   },
   "outputs": [
    {
     "data": {
      "text/html": [
       "<div>\n",
       "<style scoped>\n",
       "    .dataframe tbody tr th:only-of-type {\n",
       "        vertical-align: middle;\n",
       "    }\n",
       "\n",
       "    .dataframe tbody tr th {\n",
       "        vertical-align: top;\n",
       "    }\n",
       "\n",
       "    .dataframe thead th {\n",
       "        text-align: right;\n",
       "    }\n",
       "</style>\n",
       "<table border=\"1\" class=\"dataframe\">\n",
       "  <thead>\n",
       "    <tr style=\"text-align: right;\">\n",
       "      <th></th>\n",
       "      <th>cleaned_content</th>\n",
       "      <th>first</th>\n",
       "      <th>second</th>\n",
       "    </tr>\n",
       "  </thead>\n",
       "  <tbody>\n",
       "    <tr>\n",
       "      <th>0</th>\n",
       "      <td>seeing burgundy boot favorite street style blo...</td>\n",
       "      <td>Style   Fashion</td>\n",
       "      <td>Women s Fashion</td>\n",
       "    </tr>\n",
       "    <tr>\n",
       "      <th>1</th>\n",
       "      <td>according september fidelity investments study...</td>\n",
       "      <td>Personal Finance</td>\n",
       "      <td>Personal Investing</td>\n",
       "    </tr>\n",
       "    <tr>\n",
       "      <th>2</th>\n",
       "      <td>thou shouldst eat live live eat said socrates ...</td>\n",
       "      <td>Healthy Living</td>\n",
       "      <td>Men s Health</td>\n",
       "    </tr>\n",
       "    <tr>\n",
       "      <th>3</th>\n",
       "      <td>researchers continue dig molecular clue better...</td>\n",
       "      <td>Medical Health</td>\n",
       "      <td>Diseases and Conditions</td>\n",
       "    </tr>\n",
       "    <tr>\n",
       "      <th>4</th>\n",
       "      <td>duelist know vast majority yu gi oh match end ...</td>\n",
       "      <td>Hobbies   Interests</td>\n",
       "      <td>Games and Puzzles</td>\n",
       "    </tr>\n",
       "  </tbody>\n",
       "</table>\n",
       "</div>"
      ],
      "text/plain": [
       "                                     cleaned_content                    first  \\\n",
       "0  seeing burgundy boot favorite street style blo...         Style   Fashion    \n",
       "1  according september fidelity investments study...        Personal Finance    \n",
       "2  thou shouldst eat live live eat said socrates ...          Healthy Living    \n",
       "3  researchers continue dig molecular clue better...          Medical Health    \n",
       "4  duelist know vast majority yu gi oh match end ...     Hobbies   Interests    \n",
       "\n",
       "                        second  \n",
       "0             Women s Fashion   \n",
       "1        Personal Investing     \n",
       "2              Men s Health     \n",
       "3     Diseases and Conditions   \n",
       "4           Games and Puzzles   "
      ]
     },
     "execution_count": 22,
     "metadata": {},
     "output_type": "execute_result"
    }
   ],
   "source": [
    "two_levels.head()"
   ]
  },
  {
   "cell_type": "code",
   "execution_count": 23,
   "id": "2370c626",
   "metadata": {
    "scrolled": true
   },
   "outputs": [
    {
     "name": "stdout",
     "output_type": "stream",
     "text": [
      "<class 'pandas.core.frame.DataFrame'>\n",
      "RangeIndex: 9192 entries, 0 to 9191\n",
      "Data columns (total 3 columns):\n",
      " #   Column           Non-Null Count  Dtype \n",
      "---  ------           --------------  ----- \n",
      " 0   cleaned_content  9192 non-null   object\n",
      " 1   first            9169 non-null   object\n",
      " 2   second           8653 non-null   object\n",
      "dtypes: object(3)\n",
      "memory usage: 215.6+ KB\n"
     ]
    }
   ],
   "source": [
    "two_levels.info()"
   ]
  },
  {
   "cell_type": "markdown",
   "id": "c46d872b",
   "metadata": {},
   "source": [
    "## Make NA as 'Unknown'"
   ]
  },
  {
   "cell_type": "code",
   "execution_count": 24,
   "id": "899d693e",
   "metadata": {
    "scrolled": false
   },
   "outputs": [],
   "source": [
    "import numpy as np\n",
    "two_levels2 = two_levels.replace(np.nan, 'Unknown', regex=True)"
   ]
  },
  {
   "cell_type": "code",
   "execution_count": 25,
   "id": "bbed323f",
   "metadata": {
    "scrolled": true
   },
   "outputs": [
    {
     "data": {
      "text/html": [
       "<div>\n",
       "<style scoped>\n",
       "    .dataframe tbody tr th:only-of-type {\n",
       "        vertical-align: middle;\n",
       "    }\n",
       "\n",
       "    .dataframe tbody tr th {\n",
       "        vertical-align: top;\n",
       "    }\n",
       "\n",
       "    .dataframe thead th {\n",
       "        text-align: right;\n",
       "    }\n",
       "</style>\n",
       "<table border=\"1\" class=\"dataframe\">\n",
       "  <thead>\n",
       "    <tr style=\"text-align: right;\">\n",
       "      <th></th>\n",
       "      <th>cleaned_content</th>\n",
       "      <th>first</th>\n",
       "      <th>second</th>\n",
       "    </tr>\n",
       "  </thead>\n",
       "  <tbody>\n",
       "    <tr>\n",
       "      <th>761</th>\n",
       "      <td>pete townshend quiet unassuming 18th century h...</td>\n",
       "      <td>Unknown</td>\n",
       "      <td>Unknown</td>\n",
       "    </tr>\n",
       "    <tr>\n",
       "      <th>1732</th>\n",
       "      <td>decade covering swiss luxury watch industry sa...</td>\n",
       "      <td>Unknown</td>\n",
       "      <td>Unknown</td>\n",
       "    </tr>\n",
       "    <tr>\n",
       "      <th>2484</th>\n",
       "      <td>week go inbox filled small barrage announcemen...</td>\n",
       "      <td>Unknown</td>\n",
       "      <td>Unknown</td>\n",
       "    </tr>\n",
       "    <tr>\n",
       "      <th>3190</th>\n",
       "      <td>reilly media co founder dale dougherty coined ...</td>\n",
       "      <td>Unknown</td>\n",
       "      <td>Unknown</td>\n",
       "    </tr>\n",
       "    <tr>\n",
       "      <th>3753</th>\n",
       "      <td>fifteen years david bowie ring master rock sty...</td>\n",
       "      <td>Unknown</td>\n",
       "      <td>Unknown</td>\n",
       "    </tr>\n",
       "    <tr>\n",
       "      <th>4088</th>\n",
       "      <td>got get velcro bo diddley advises ask phone ce...</td>\n",
       "      <td>Unknown</td>\n",
       "      <td>Unknown</td>\n",
       "    </tr>\n",
       "    <tr>\n",
       "      <th>4397</th>\n",
       "      <td>steven ballmer year old executive vice preside...</td>\n",
       "      <td>Unknown</td>\n",
       "      <td>Unknown</td>\n",
       "    </tr>\n",
       "    <tr>\n",
       "      <th>4411</th>\n",
       "      <td>kevin carey essay huffington post last week cr...</td>\n",
       "      <td>Unknown</td>\n",
       "      <td>Unknown</td>\n",
       "    </tr>\n",
       "    <tr>\n",
       "      <th>4684</th>\n",
       "      <td>first thing learn rocklahoma glam metal band g...</td>\n",
       "      <td>Unknown</td>\n",
       "      <td>Unknown</td>\n",
       "    </tr>\n",
       "    <tr>\n",
       "      <th>4722</th>\n",
       "      <td>hong kong august 16th young reporter hong kong...</td>\n",
       "      <td>Unknown</td>\n",
       "      <td>Unknown</td>\n",
       "    </tr>\n",
       "    <tr>\n",
       "      <th>5363</th>\n",
       "      <td>story originally published special edition ded...</td>\n",
       "      <td>Unknown</td>\n",
       "      <td>Unknown</td>\n",
       "    </tr>\n",
       "    <tr>\n",
       "      <th>5645</th>\n",
       "      <td>men hear men hard shop u guy would disagree fa...</td>\n",
       "      <td>Unknown</td>\n",
       "      <td>Unknown</td>\n",
       "    </tr>\n",
       "    <tr>\n",
       "      <th>6098</th>\n",
       "      <td>phone ring morning hi prince say wide awake vo...</td>\n",
       "      <td>Unknown</td>\n",
       "      <td>Unknown</td>\n",
       "    </tr>\n",
       "    <tr>\n",
       "      <th>6540</th>\n",
       "      <td>clive dalrymple sold painting vivid blue seasc...</td>\n",
       "      <td>Unknown</td>\n",
       "      <td>Unknown</td>\n",
       "    </tr>\n",
       "    <tr>\n",
       "      <th>6791</th>\n",
       "      <td>jessie burton behold dreamers good immigrantm ...</td>\n",
       "      <td>Unknown</td>\n",
       "      <td>Unknown</td>\n",
       "    </tr>\n",
       "    <tr>\n",
       "      <th>6846</th>\n",
       "      <td>gamer largely become synonymous spending lot m...</td>\n",
       "      <td>Unknown</td>\n",
       "      <td>Unknown</td>\n",
       "    </tr>\n",
       "    <tr>\n",
       "      <th>7563</th>\n",
       "      <td>byatt novelist top anyone reading pile two bea...</td>\n",
       "      <td>Unknown</td>\n",
       "      <td>Unknown</td>\n",
       "    </tr>\n",
       "    <tr>\n",
       "      <th>8024</th>\n",
       "      <td>interview follows took place april 17th day ei...</td>\n",
       "      <td>Unknown</td>\n",
       "      <td>Unknown</td>\n",
       "    </tr>\n",
       "    <tr>\n",
       "      <th>8307</th>\n",
       "      <td>january couple month shy 41st birthday nick lo...</td>\n",
       "      <td>Unknown</td>\n",
       "      <td>Unknown</td>\n",
       "    </tr>\n",
       "    <tr>\n",
       "      <th>8322</th>\n",
       "      <td>first standard hotel opened sunset strip west ...</td>\n",
       "      <td>Unknown</td>\n",
       "      <td>Unknown</td>\n",
       "    </tr>\n",
       "    <tr>\n",
       "      <th>8793</th>\n",
       "      <td>every year confronted inevitable filing tax se...</td>\n",
       "      <td>Unknown</td>\n",
       "      <td>Unknown</td>\n",
       "    </tr>\n",
       "    <tr>\n",
       "      <th>9053</th>\n",
       "      <td>afternoon kid around feel like practicing band...</td>\n",
       "      <td>Unknown</td>\n",
       "      <td>Unknown</td>\n",
       "    </tr>\n",
       "    <tr>\n",
       "      <th>9055</th>\n",
       "      <td>music audio oldies music</td>\n",
       "      <td>Unknown</td>\n",
       "      <td>Unknown</td>\n",
       "    </tr>\n",
       "  </tbody>\n",
       "</table>\n",
       "</div>"
      ],
      "text/plain": [
       "                                        cleaned_content    first   second\n",
       "761   pete townshend quiet unassuming 18th century h...  Unknown  Unknown\n",
       "1732  decade covering swiss luxury watch industry sa...  Unknown  Unknown\n",
       "2484  week go inbox filled small barrage announcemen...  Unknown  Unknown\n",
       "3190  reilly media co founder dale dougherty coined ...  Unknown  Unknown\n",
       "3753  fifteen years david bowie ring master rock sty...  Unknown  Unknown\n",
       "4088  got get velcro bo diddley advises ask phone ce...  Unknown  Unknown\n",
       "4397  steven ballmer year old executive vice preside...  Unknown  Unknown\n",
       "4411  kevin carey essay huffington post last week cr...  Unknown  Unknown\n",
       "4684  first thing learn rocklahoma glam metal band g...  Unknown  Unknown\n",
       "4722  hong kong august 16th young reporter hong kong...  Unknown  Unknown\n",
       "5363  story originally published special edition ded...  Unknown  Unknown\n",
       "5645  men hear men hard shop u guy would disagree fa...  Unknown  Unknown\n",
       "6098  phone ring morning hi prince say wide awake vo...  Unknown  Unknown\n",
       "6540  clive dalrymple sold painting vivid blue seasc...  Unknown  Unknown\n",
       "6791  jessie burton behold dreamers good immigrantm ...  Unknown  Unknown\n",
       "6846  gamer largely become synonymous spending lot m...  Unknown  Unknown\n",
       "7563  byatt novelist top anyone reading pile two bea...  Unknown  Unknown\n",
       "8024  interview follows took place april 17th day ei...  Unknown  Unknown\n",
       "8307  january couple month shy 41st birthday nick lo...  Unknown  Unknown\n",
       "8322  first standard hotel opened sunset strip west ...  Unknown  Unknown\n",
       "8793  every year confronted inevitable filing tax se...  Unknown  Unknown\n",
       "9053  afternoon kid around feel like practicing band...  Unknown  Unknown\n",
       "9055                           music audio oldies music  Unknown  Unknown"
      ]
     },
     "execution_count": 25,
     "metadata": {},
     "output_type": "execute_result"
    }
   ],
   "source": [
    "two_levels2[two_levels2['first'] == \"Unknown\"]"
   ]
  },
  {
   "cell_type": "code",
   "execution_count": 26,
   "id": "b4cc5be4",
   "metadata": {},
   "outputs": [
    {
     "data": {
      "text/html": [
       "<div>\n",
       "<style scoped>\n",
       "    .dataframe tbody tr th:only-of-type {\n",
       "        vertical-align: middle;\n",
       "    }\n",
       "\n",
       "    .dataframe tbody tr th {\n",
       "        vertical-align: top;\n",
       "    }\n",
       "\n",
       "    .dataframe thead th {\n",
       "        text-align: right;\n",
       "    }\n",
       "</style>\n",
       "<table border=\"1\" class=\"dataframe\">\n",
       "  <thead>\n",
       "    <tr style=\"text-align: right;\">\n",
       "      <th></th>\n",
       "      <th>cleaned_content</th>\n",
       "      <th>first</th>\n",
       "      <th>second</th>\n",
       "    </tr>\n",
       "  </thead>\n",
       "  <tbody>\n",
       "    <tr>\n",
       "      <th>11</th>\n",
       "      <td>shoulder look fun game mid red carpet readjust...</td>\n",
       "      <td>Style   Fashion</td>\n",
       "      <td>Unknown</td>\n",
       "    </tr>\n",
       "    <tr>\n",
       "      <th>24</th>\n",
       "      <td>small cat uk barely survived attacked fox larg...</td>\n",
       "      <td>Pets</td>\n",
       "      <td>Unknown</td>\n",
       "    </tr>\n",
       "    <tr>\n",
       "      <th>28</th>\n",
       "      <td>saw claire danes new cover interview magazine ...</td>\n",
       "      <td>Style   Fashion</td>\n",
       "      <td>Unknown</td>\n",
       "    </tr>\n",
       "    <tr>\n",
       "      <th>41</th>\n",
       "      <td>shopping wedding gown one fun exciting part pl...</td>\n",
       "      <td>Events and Attractions</td>\n",
       "      <td>Unknown</td>\n",
       "    </tr>\n",
       "    <tr>\n",
       "      <th>47</th>\n",
       "      <td>read detailed description ancestry com came ex...</td>\n",
       "      <td>Shopping</td>\n",
       "      <td>Unknown</td>\n",
       "    </tr>\n",
       "    <tr>\n",
       "      <th>...</th>\n",
       "      <td>...</td>\n",
       "      <td>...</td>\n",
       "      <td>...</td>\n",
       "    </tr>\n",
       "    <tr>\n",
       "      <th>9066</th>\n",
       "      <td>check store offer health beauty coupon deal re...</td>\n",
       "      <td>Shopping</td>\n",
       "      <td>Unknown</td>\n",
       "    </tr>\n",
       "    <tr>\n",
       "      <th>9075</th>\n",
       "      <td>sep joe kleiman attractions business events ne...</td>\n",
       "      <td>Events and Attractions</td>\n",
       "      <td>Unknown</td>\n",
       "    </tr>\n",
       "    <tr>\n",
       "      <th>9136</th>\n",
       "      <td>rewards day annual shopback event gather digit...</td>\n",
       "      <td>Shopping</td>\n",
       "      <td>Unknown</td>\n",
       "    </tr>\n",
       "    <tr>\n",
       "      <th>9148</th>\n",
       "      <td>tis season sun salt sweat pleasant sound well ...</td>\n",
       "      <td>Style   Fashion</td>\n",
       "      <td>Unknown</td>\n",
       "    </tr>\n",
       "    <tr>\n",
       "      <th>9172</th>\n",
       "      <td>everyone hate candy corn except people hate ca...</td>\n",
       "      <td>Food   Drink</td>\n",
       "      <td>Unknown</td>\n",
       "    </tr>\n",
       "  </tbody>\n",
       "</table>\n",
       "<p>539 rows × 3 columns</p>\n",
       "</div>"
      ],
      "text/plain": [
       "                                        cleaned_content  \\\n",
       "11    shoulder look fun game mid red carpet readjust...   \n",
       "24    small cat uk barely survived attacked fox larg...   \n",
       "28    saw claire danes new cover interview magazine ...   \n",
       "41    shopping wedding gown one fun exciting part pl...   \n",
       "47    read detailed description ancestry com came ex...   \n",
       "...                                                 ...   \n",
       "9066  check store offer health beauty coupon deal re...   \n",
       "9075  sep joe kleiman attractions business events ne...   \n",
       "9136  rewards day annual shopback event gather digit...   \n",
       "9148  tis season sun salt sweat pleasant sound well ...   \n",
       "9172  everyone hate candy corn except people hate ca...   \n",
       "\n",
       "                           first   second  \n",
       "11             Style   Fashion    Unknown  \n",
       "24                        Pets    Unknown  \n",
       "28             Style   Fashion    Unknown  \n",
       "41      Events and Attractions    Unknown  \n",
       "47                    Shopping    Unknown  \n",
       "...                          ...      ...  \n",
       "9066                  Shopping    Unknown  \n",
       "9075    Events and Attractions    Unknown  \n",
       "9136                  Shopping    Unknown  \n",
       "9148           Style   Fashion    Unknown  \n",
       "9172              Food   Drink    Unknown  \n",
       "\n",
       "[539 rows x 3 columns]"
      ]
     },
     "execution_count": 26,
     "metadata": {},
     "output_type": "execute_result"
    }
   ],
   "source": [
    "two_levels2[two_levels2['second'] == \"Unknown\"]"
   ]
  },
  {
   "cell_type": "code",
   "execution_count": 27,
   "id": "bdc95960",
   "metadata": {
    "scrolled": true
   },
   "outputs": [
    {
     "name": "stdout",
     "output_type": "stream",
     "text": [
      "<class 'pandas.core.frame.DataFrame'>\n",
      "RangeIndex: 9192 entries, 0 to 9191\n",
      "Data columns (total 3 columns):\n",
      " #   Column           Non-Null Count  Dtype \n",
      "---  ------           --------------  ----- \n",
      " 0   cleaned_content  9192 non-null   object\n",
      " 1   first            9192 non-null   object\n",
      " 2   second           9192 non-null   object\n",
      "dtypes: object(3)\n",
      "memory usage: 215.6+ KB\n"
     ]
    }
   ],
   "source": [
    "two_levels2.info() # No NAs by replacing them to \"Unknown\""
   ]
  },
  {
   "cell_type": "markdown",
   "id": "44105557",
   "metadata": {},
   "source": [
    "### 1) the first level prediction"
   ]
  },
  {
   "cell_type": "code",
   "execution_count": 28,
   "id": "066cf9c6",
   "metadata": {},
   "outputs": [],
   "source": [
    "tfidf = TfidfVectorizer(sublinear_tf=True, min_df=5, norm='l2', ngram_range=(1, 2), stop_words='english')\n",
    "features = tfidf.fit_transform(two_levels2['cleaned_content']).toarray()\n",
    "labels = two_levels2['first']\n",
    "X_train, X_test, y_train, y_test = train_test_split(features, labels, test_size=0.33, random_state=0)\n",
    "model = LinearSVC()\n",
    "model.fit(X_train, y_train)\n",
    "y_pred = model.predict(X_test)"
   ]
  },
  {
   "cell_type": "code",
   "execution_count": 29,
   "id": "ee2becc2",
   "metadata": {},
   "outputs": [
    {
     "data": {
      "text/plain": [
       "array(['   Pop Culture ', '   Business and Finance ',\n",
       "       '   Medical Health ', ..., '   Travel ', '   Hobbies   Interests ',\n",
       "       '   Books and Literature '], dtype=object)"
      ]
     },
     "execution_count": 29,
     "metadata": {},
     "output_type": "execute_result"
    }
   ],
   "source": [
    "y_pred"
   ]
  },
  {
   "cell_type": "code",
   "execution_count": 30,
   "id": "49ea61aa",
   "metadata": {
    "scrolled": true
   },
   "outputs": [
    {
     "data": {
      "text/plain": [
       "8085                  Pop Culture \n",
       "8942       Events and Attractions \n",
       "3476               Medical Health \n",
       "9178                    Education \n",
       "1172               Healthy Living \n",
       "                   ...            \n",
       "4773               Medical Health \n",
       "235           Hobbies   Interests \n",
       "5396                       Travel \n",
       "2909          Hobbies   Interests \n",
       "2340         Books and Literature \n",
       "Name: first, Length: 3034, dtype: object"
      ]
     },
     "execution_count": 30,
     "metadata": {},
     "output_type": "execute_result"
    }
   ],
   "source": [
    "y_test"
   ]
  },
  {
   "cell_type": "code",
   "execution_count": 31,
   "id": "2dcc5c92",
   "metadata": {
    "scrolled": false
   },
   "outputs": [
    {
     "data": {
      "text/plain": [
       "array([[0., 0., 0., ..., 0., 0., 0.],\n",
       "       [0., 0., 0., ..., 0., 0., 0.],\n",
       "       [0., 0., 0., ..., 0., 0., 0.],\n",
       "       ...,\n",
       "       [0., 0., 0., ..., 0., 0., 0.],\n",
       "       [0., 0., 0., ..., 0., 0., 0.],\n",
       "       [0., 0., 0., ..., 0., 0., 0.]])"
      ]
     },
     "execution_count": 31,
     "metadata": {},
     "output_type": "execute_result"
    }
   ],
   "source": [
    "X_test"
   ]
  },
  {
   "cell_type": "code",
   "execution_count": 32,
   "id": "737e0b29",
   "metadata": {},
   "outputs": [
    {
     "data": {
      "text/plain": [
       "array([[0., 0., 0., ..., 0., 0., 0.],\n",
       "       [0., 0., 0., ..., 0., 0., 0.],\n",
       "       [0., 0., 0., ..., 0., 0., 0.],\n",
       "       ...,\n",
       "       [0., 0., 0., ..., 0., 0., 0.],\n",
       "       [0., 0., 0., ..., 0., 0., 0.],\n",
       "       [0., 0., 0., ..., 0., 0., 0.]])"
      ]
     },
     "execution_count": 32,
     "metadata": {},
     "output_type": "execute_result"
    }
   ],
   "source": [
    "X_train"
   ]
  },
  {
   "cell_type": "code",
   "execution_count": 33,
   "id": "11e088d9",
   "metadata": {},
   "outputs": [
    {
     "data": {
      "text/plain": [
       "5025                       Sports \n",
       "1108               Healthy Living \n",
       "1232          Hobbies   Interests \n",
       "8755         Business and Finance \n",
       "2333             Personal Finance \n",
       "                   ...            \n",
       "4373         Business and Finance \n",
       "7891       Technology   Computing \n",
       "4859         Business and Finance \n",
       "3264                      Science \n",
       "2732                       Movies \n",
       "Name: first, Length: 6158, dtype: object"
      ]
     },
     "execution_count": 33,
     "metadata": {},
     "output_type": "execute_result"
    }
   ],
   "source": [
    "y_train"
   ]
  },
  {
   "cell_type": "code",
   "execution_count": 34,
   "id": "6c94405d",
   "metadata": {
    "scrolled": true
   },
   "outputs": [
    {
     "data": {
      "text/html": [
       "<div>\n",
       "<style scoped>\n",
       "    .dataframe tbody tr th:only-of-type {\n",
       "        vertical-align: middle;\n",
       "    }\n",
       "\n",
       "    .dataframe tbody tr th {\n",
       "        vertical-align: top;\n",
       "    }\n",
       "\n",
       "    .dataframe thead th {\n",
       "        text-align: right;\n",
       "    }\n",
       "</style>\n",
       "<table border=\"1\" class=\"dataframe\">\n",
       "  <thead>\n",
       "    <tr style=\"text-align: right;\">\n",
       "      <th></th>\n",
       "      <th>cleaned_content</th>\n",
       "      <th>first</th>\n",
       "      <th>second</th>\n",
       "    </tr>\n",
       "  </thead>\n",
       "  <tbody>\n",
       "    <tr>\n",
       "      <th>0</th>\n",
       "      <td>seeing burgundy boot favorite street style blo...</td>\n",
       "      <td>Style   Fashion</td>\n",
       "      <td>Women s Fashion</td>\n",
       "    </tr>\n",
       "    <tr>\n",
       "      <th>1</th>\n",
       "      <td>according september fidelity investments study...</td>\n",
       "      <td>Personal Finance</td>\n",
       "      <td>Personal Investing</td>\n",
       "    </tr>\n",
       "    <tr>\n",
       "      <th>2</th>\n",
       "      <td>thou shouldst eat live live eat said socrates ...</td>\n",
       "      <td>Healthy Living</td>\n",
       "      <td>Men s Health</td>\n",
       "    </tr>\n",
       "    <tr>\n",
       "      <th>3</th>\n",
       "      <td>researchers continue dig molecular clue better...</td>\n",
       "      <td>Medical Health</td>\n",
       "      <td>Diseases and Conditions</td>\n",
       "    </tr>\n",
       "    <tr>\n",
       "      <th>4</th>\n",
       "      <td>duelist know vast majority yu gi oh match end ...</td>\n",
       "      <td>Hobbies   Interests</td>\n",
       "      <td>Games and Puzzles</td>\n",
       "    </tr>\n",
       "  </tbody>\n",
       "</table>\n",
       "</div>"
      ],
      "text/plain": [
       "                                     cleaned_content                    first  \\\n",
       "0  seeing burgundy boot favorite street style blo...         Style   Fashion    \n",
       "1  according september fidelity investments study...        Personal Finance    \n",
       "2  thou shouldst eat live live eat said socrates ...          Healthy Living    \n",
       "3  researchers continue dig molecular clue better...          Medical Health    \n",
       "4  duelist know vast majority yu gi oh match end ...     Hobbies   Interests    \n",
       "\n",
       "                        second  \n",
       "0             Women s Fashion   \n",
       "1        Personal Investing     \n",
       "2              Men s Health     \n",
       "3     Diseases and Conditions   \n",
       "4           Games and Puzzles   "
      ]
     },
     "execution_count": 34,
     "metadata": {},
     "output_type": "execute_result"
    }
   ],
   "source": [
    "two_levels2.head()"
   ]
  },
  {
   "cell_type": "markdown",
   "id": "ab96da61",
   "metadata": {},
   "source": []
  },
  {
   "cell_type": "code",
   "execution_count": 35,
   "id": "fa48405b",
   "metadata": {},
   "outputs": [],
   "source": [
    "from sklearn.model_selection import train_test_split\n",
    "\n",
    "cleaned_content_train, cleaned_content_test = train_test_split(two_levels2['cleaned_content'], test_size=0.33)"
   ]
  },
  {
   "cell_type": "code",
   "execution_count": 36,
   "id": "470a595c",
   "metadata": {
    "scrolled": true
   },
   "outputs": [
    {
     "data": {
      "text/plain": [
       "2056    dublin march prnewswire population health mana...\n",
       "8629    epa approves new fungicide delivered honey bee...\n",
       "8504    amber rolfeso job interview cue sigh relief wh...\n",
       "2964    los angeles extended stay hotel portfolio choi...\n",
       "7213    dean elgar half joking pretended take armband ...\n",
       "                              ...                        \n",
       "46      end soap opera fora marine shipyard gone recei...\n",
       "1705    carly broder san francisco gave birth son isai...\n",
       "303     chiasma inc privately held biopharma company a...\n",
       "5324    paulo dec prnewswire rebel digital consumer fi...\n",
       "7710    country afford entirely stop air travel carbon...\n",
       "Name: cleaned_content, Length: 6158, dtype: object"
      ]
     },
     "execution_count": 36,
     "metadata": {},
     "output_type": "execute_result"
    }
   ],
   "source": [
    "cleaned_content_train"
   ]
  },
  {
   "cell_type": "code",
   "execution_count": 37,
   "id": "265b2fd0",
   "metadata": {
    "scrolled": true
   },
   "outputs": [
    {
     "data": {
      "text/plain": [
       "8068    magic aura enchantment artifact equipment desi...\n",
       "6321    kelly clarksonhow exerciselost around lb novem...\n",
       "21      serverless computing function service faas inc...\n",
       "7498    trading thursday apparel store share relative ...\n",
       "5932    michael chearyyou take trip russia hit goal su...\n",
       "                              ...                        \n",
       "2079    men thrift store different kind shopping watch...\n",
       "1719    former megadeth drummer nick menza mom calling...\n",
       "8601    new book dessert two countryman press feb chri...\n",
       "5422    roland professional v audinate creator dante n...\n",
       "5420    post contains reference product advertiser may...\n",
       "Name: cleaned_content, Length: 3034, dtype: object"
      ]
     },
     "execution_count": 37,
     "metadata": {},
     "output_type": "execute_result"
    }
   ],
   "source": [
    "cleaned_content_test"
   ]
  },
  {
   "cell_type": "code",
   "execution_count": null,
   "id": "11371304",
   "metadata": {},
   "outputs": [],
   "source": []
  },
  {
   "cell_type": "markdown",
   "id": "b28cfdb6",
   "metadata": {},
   "source": [
    "# Start with making dataframe, including the second level"
   ]
  },
  {
   "cell_type": "code",
   "execution_count": 87,
   "id": "3b40b00f",
   "metadata": {
    "scrolled": true
   },
   "outputs": [],
   "source": [
    "# a : with real first level\n",
    "a = pd.DataFrame(list(zip(cleaned_content_train, two_levels2[\"first\"], two_levels2['second'])))"
   ]
  },
  {
   "cell_type": "code",
   "execution_count": 88,
   "id": "ed86f588",
   "metadata": {
    "scrolled": false
   },
   "outputs": [],
   "source": [
    "# b : with predicted first level\n",
    "b = pd.DataFrame(list(zip(cleaned_content_test, y_pred, two_levels2['second'])))"
   ]
  },
  {
   "cell_type": "code",
   "execution_count": 89,
   "id": "27bffa27",
   "metadata": {},
   "outputs": [],
   "source": [
    "a.columns = ['content', 'real_first', 'second']\n",
    "b.columns = ['content', 'predicted_first', 'second']"
   ]
  },
  {
   "cell_type": "code",
   "execution_count": 90,
   "id": "beb0078c",
   "metadata": {
    "scrolled": false
   },
   "outputs": [
    {
     "data": {
      "text/html": [
       "<div>\n",
       "<style scoped>\n",
       "    .dataframe tbody tr th:only-of-type {\n",
       "        vertical-align: middle;\n",
       "    }\n",
       "\n",
       "    .dataframe tbody tr th {\n",
       "        vertical-align: top;\n",
       "    }\n",
       "\n",
       "    .dataframe thead th {\n",
       "        text-align: right;\n",
       "    }\n",
       "</style>\n",
       "<table border=\"1\" class=\"dataframe\">\n",
       "  <thead>\n",
       "    <tr style=\"text-align: right;\">\n",
       "      <th></th>\n",
       "      <th>content</th>\n",
       "      <th>real_first</th>\n",
       "      <th>second</th>\n",
       "    </tr>\n",
       "  </thead>\n",
       "  <tbody>\n",
       "    <tr>\n",
       "      <th>0</th>\n",
       "      <td>dublin march prnewswire population health mana...</td>\n",
       "      <td>Style   Fashion</td>\n",
       "      <td>Women s Fashion</td>\n",
       "    </tr>\n",
       "    <tr>\n",
       "      <th>1</th>\n",
       "      <td>epa approves new fungicide delivered honey bee...</td>\n",
       "      <td>Personal Finance</td>\n",
       "      <td>Personal Investing</td>\n",
       "    </tr>\n",
       "    <tr>\n",
       "      <th>2</th>\n",
       "      <td>amber rolfeso job interview cue sigh relief wh...</td>\n",
       "      <td>Healthy Living</td>\n",
       "      <td>Men s Health</td>\n",
       "    </tr>\n",
       "    <tr>\n",
       "      <th>3</th>\n",
       "      <td>los angeles extended stay hotel portfolio choi...</td>\n",
       "      <td>Medical Health</td>\n",
       "      <td>Diseases and Conditions</td>\n",
       "    </tr>\n",
       "    <tr>\n",
       "      <th>4</th>\n",
       "      <td>dean elgar half joking pretended take armband ...</td>\n",
       "      <td>Hobbies   Interests</td>\n",
       "      <td>Games and Puzzles</td>\n",
       "    </tr>\n",
       "  </tbody>\n",
       "</table>\n",
       "</div>"
      ],
      "text/plain": [
       "                                             content               real_first  \\\n",
       "0  dublin march prnewswire population health mana...         Style   Fashion    \n",
       "1  epa approves new fungicide delivered honey bee...        Personal Finance    \n",
       "2  amber rolfeso job interview cue sigh relief wh...          Healthy Living    \n",
       "3  los angeles extended stay hotel portfolio choi...          Medical Health    \n",
       "4  dean elgar half joking pretended take armband ...     Hobbies   Interests    \n",
       "\n",
       "                        second  \n",
       "0             Women s Fashion   \n",
       "1        Personal Investing     \n",
       "2              Men s Health     \n",
       "3     Diseases and Conditions   \n",
       "4           Games and Puzzles   "
      ]
     },
     "execution_count": 90,
     "metadata": {},
     "output_type": "execute_result"
    }
   ],
   "source": [
    "a.head()"
   ]
  },
  {
   "cell_type": "code",
   "execution_count": 91,
   "id": "ef8130f0",
   "metadata": {},
   "outputs": [
    {
     "data": {
      "text/html": [
       "<div>\n",
       "<style scoped>\n",
       "    .dataframe tbody tr th:only-of-type {\n",
       "        vertical-align: middle;\n",
       "    }\n",
       "\n",
       "    .dataframe tbody tr th {\n",
       "        vertical-align: top;\n",
       "    }\n",
       "\n",
       "    .dataframe thead th {\n",
       "        text-align: right;\n",
       "    }\n",
       "</style>\n",
       "<table border=\"1\" class=\"dataframe\">\n",
       "  <thead>\n",
       "    <tr style=\"text-align: right;\">\n",
       "      <th></th>\n",
       "      <th>content</th>\n",
       "      <th>predicted_first</th>\n",
       "      <th>second</th>\n",
       "    </tr>\n",
       "  </thead>\n",
       "  <tbody>\n",
       "    <tr>\n",
       "      <th>0</th>\n",
       "      <td>magic aura enchantment artifact equipment desi...</td>\n",
       "      <td>Pop Culture</td>\n",
       "      <td>Women s Fashion</td>\n",
       "    </tr>\n",
       "    <tr>\n",
       "      <th>1</th>\n",
       "      <td>kelly clarksonhow exerciselost around lb novem...</td>\n",
       "      <td>Business and Finance</td>\n",
       "      <td>Personal Investing</td>\n",
       "    </tr>\n",
       "    <tr>\n",
       "      <th>2</th>\n",
       "      <td>serverless computing function service faas inc...</td>\n",
       "      <td>Medical Health</td>\n",
       "      <td>Men s Health</td>\n",
       "    </tr>\n",
       "    <tr>\n",
       "      <th>3</th>\n",
       "      <td>trading thursday apparel store share relative ...</td>\n",
       "      <td>Education</td>\n",
       "      <td>Diseases and Conditions</td>\n",
       "    </tr>\n",
       "    <tr>\n",
       "      <th>4</th>\n",
       "      <td>michael chearyyou take trip russia hit goal su...</td>\n",
       "      <td>Healthy Living</td>\n",
       "      <td>Games and Puzzles</td>\n",
       "    </tr>\n",
       "  </tbody>\n",
       "</table>\n",
       "</div>"
      ],
      "text/plain": [
       "                                             content  \\\n",
       "0  magic aura enchantment artifact equipment desi...   \n",
       "1  kelly clarksonhow exerciselost around lb novem...   \n",
       "2  serverless computing function service faas inc...   \n",
       "3  trading thursday apparel store share relative ...   \n",
       "4  michael chearyyou take trip russia hit goal su...   \n",
       "\n",
       "            predicted_first                       second  \n",
       "0              Pop Culture              Women s Fashion   \n",
       "1     Business and Finance         Personal Investing     \n",
       "2           Medical Health               Men s Health     \n",
       "3                Education      Diseases and Conditions   \n",
       "4           Healthy Living            Games and Puzzles   "
      ]
     },
     "execution_count": 91,
     "metadata": {},
     "output_type": "execute_result"
    }
   ],
   "source": [
    "b.head()"
   ]
  },
  {
   "cell_type": "markdown",
   "id": "d6a9d192",
   "metadata": {},
   "source": [
    "### make train_features by combining the content and the real first level as sparse matrix"
   ]
  },
  {
   "cell_type": "code",
   "execution_count": 85,
   "id": "dd932d87",
   "metadata": {},
   "outputs": [],
   "source": [
    "train_features2_1 = tfidf.fit_transform(a.content)\n",
    "train_features2_2 = tfidf.fit_transform(a.real_first)"
   ]
  },
  {
   "cell_type": "code",
   "execution_count": 76,
   "id": "afbc5ef1",
   "metadata": {},
   "outputs": [
    {
     "data": {
      "text/plain": [
       "<6158x48495 sparse matrix of type '<class 'numpy.float64'>'\n",
       "\twith 1452331 stored elements in Compressed Sparse Row format>"
      ]
     },
     "execution_count": 76,
     "metadata": {},
     "output_type": "execute_result"
    }
   ],
   "source": [
    "train_features2_1"
   ]
  },
  {
   "cell_type": "code",
   "execution_count": 77,
   "id": "d91d6781",
   "metadata": {},
   "outputs": [
    {
     "data": {
      "text/plain": [
       "<6158x57 sparse matrix of type '<class 'numpy.float64'>'\n",
       "\twith 14350 stored elements in Compressed Sparse Row format>"
      ]
     },
     "execution_count": 77,
     "metadata": {},
     "output_type": "execute_result"
    }
   ],
   "source": [
    "train_features2_2"
   ]
  },
  {
   "cell_type": "code",
   "execution_count": 81,
   "id": "0608e622",
   "metadata": {},
   "outputs": [],
   "source": [
    "# hstack to avoid .stack() in tfidf\n",
    "from scipy.sparse import hstack\n",
    "\n",
    "train_features_content_realfirst = hstack([train_features2_1,train_features2_2])"
   ]
  },
  {
   "cell_type": "code",
   "execution_count": 82,
   "id": "7983355d",
   "metadata": {},
   "outputs": [
    {
     "data": {
      "text/plain": [
       "<6158x48552 sparse matrix of type '<class 'numpy.float64'>'\n",
       "\twith 1466681 stored elements in COOrdinate format>"
      ]
     },
     "execution_count": 82,
     "metadata": {},
     "output_type": "execute_result"
    }
   ],
   "source": [
    "train_features_content_realfirst"
   ]
  },
  {
   "cell_type": "markdown",
   "id": "4846fdb0",
   "metadata": {},
   "source": [
    "### make test_features by combining the content and the real first level as sparse matrix"
   ]
  },
  {
   "cell_type": "code",
   "execution_count": 92,
   "id": "634486e3",
   "metadata": {},
   "outputs": [],
   "source": [
    "test_features2_1 = tfidf.fit_transform(b.content)\n",
    "test_features2_2 = tfidf.fit_transform(b.predicted_first)\n",
    "test_features_content_predictedfirst = hstack([test_features2_1,test_features2_2])"
   ]
  },
  {
   "cell_type": "code",
   "execution_count": 93,
   "id": "e66554c2",
   "metadata": {},
   "outputs": [
    {
     "data": {
      "text/plain": [
       "<3034x23566 sparse matrix of type '<class 'numpy.float64'>'\n",
       "\twith 646142 stored elements in COOrdinate format>"
      ]
     },
     "execution_count": 93,
     "metadata": {},
     "output_type": "execute_result"
    }
   ],
   "source": [
    "test_features_content_predictedfirst "
   ]
  },
  {
   "cell_type": "markdown",
   "id": "32e8c737",
   "metadata": {},
   "source": [
    "### make target for train and test"
   ]
  },
  {
   "cell_type": "code",
   "execution_count": 94,
   "id": "5cc6d9ff",
   "metadata": {},
   "outputs": [
    {
     "data": {
      "text/plain": [
       "0                  Women s Fashion \n",
       "1             Personal Investing   \n",
       "2                   Men s Health   \n",
       "3          Diseases and Conditions \n",
       "4                Games and Puzzles \n",
       "                   ...             \n",
       "6153                 Personal Debt \n",
       "6154                        Unknown\n",
       "6155                        Unknown\n",
       "6156                Martial Arts   \n",
       "6157                     Computing \n",
       "Name: second, Length: 6158, dtype: object"
      ]
     },
     "execution_count": 94,
     "metadata": {},
     "output_type": "execute_result"
    }
   ],
   "source": [
    "train_target = a.iloc[:, -1] # target variable for train_features # with real first level\n",
    "train_target"
   ]
  },
  {
   "cell_type": "code",
   "execution_count": 95,
   "id": "b42bb2ff",
   "metadata": {},
   "outputs": [
    {
     "data": {
      "text/plain": [
       "0                  Women s Fashion \n",
       "1             Personal Investing   \n",
       "2                   Men s Health   \n",
       "3          Diseases and Conditions \n",
       "4                Games and Puzzles \n",
       "                   ...             \n",
       "3029                        Unknown\n",
       "3030            Personal Investing \n",
       "3031                     Computing \n",
       "3032                Oldies Music   \n",
       "3033                   Parenting   \n",
       "Name: second, Length: 3034, dtype: object"
      ]
     },
     "execution_count": 95,
     "metadata": {},
     "output_type": "execute_result"
    }
   ],
   "source": [
    "test_target = b.iloc[:, -1] # target variable for test_features\n",
    "test_target"
   ]
  },
  {
   "cell_type": "code",
   "execution_count": null,
   "id": "6937a712",
   "metadata": {},
   "outputs": [],
   "source": []
  },
  {
   "cell_type": "code",
   "execution_count": null,
   "id": "73627ab1",
   "metadata": {},
   "outputs": [],
   "source": []
  },
  {
   "cell_type": "code",
   "execution_count": null,
   "id": "7906746b",
   "metadata": {},
   "outputs": [],
   "source": []
  },
  {
   "cell_type": "markdown",
   "id": "7282f0bc",
   "metadata": {},
   "source": [
    "## X_train, X_test, y_train, y_test == train_features, test_features, train_target, test_target\n",
    "- train_features = content & real first level labels\n",
    "- train_target = real second level labels\n",
    "- test_features = Based on this variable, we want to predict the second level. It's including the content, and the predicted first level lables by the first model.\n",
    "\n",
    "### We hope to see if we can predict the second level, after predicting the first level. \n"
   ]
  },
  {
   "cell_type": "markdown",
   "id": "d3aec14c",
   "metadata": {},
   "source": [
    "# Q)"
   ]
  },
  {
   "cell_type": "code",
   "execution_count": 96,
   "id": "0484541a",
   "metadata": {
    "scrolled": true
   },
   "outputs": [
    {
     "ename": "ValueError",
     "evalue": "X has 23566 features per sample; expecting 48552",
     "output_type": "error",
     "traceback": [
      "\u001b[0;31m---------------------------------------------------------------------------\u001b[0m",
      "\u001b[0;31mValueError\u001b[0m                                Traceback (most recent call last)",
      "\u001b[0;32m<ipython-input-96-d5a70029c085>\u001b[0m in \u001b[0;36m<module>\u001b[0;34m\u001b[0m\n\u001b[1;32m      1\u001b[0m \u001b[0mmodel\u001b[0m \u001b[0;34m=\u001b[0m \u001b[0mLinearSVC\u001b[0m\u001b[0;34m(\u001b[0m\u001b[0;34m)\u001b[0m\u001b[0;34m\u001b[0m\u001b[0;34m\u001b[0m\u001b[0m\n\u001b[1;32m      2\u001b[0m \u001b[0mmodel\u001b[0m\u001b[0;34m.\u001b[0m\u001b[0mfit\u001b[0m\u001b[0;34m(\u001b[0m\u001b[0mtrain_features_content_realfirst\u001b[0m\u001b[0;34m,\u001b[0m \u001b[0mtrain_target\u001b[0m\u001b[0;34m)\u001b[0m\u001b[0;34m\u001b[0m\u001b[0;34m\u001b[0m\u001b[0m\n\u001b[0;32m----> 3\u001b[0;31m \u001b[0mprediction\u001b[0m \u001b[0;34m=\u001b[0m \u001b[0mmodel\u001b[0m\u001b[0;34m.\u001b[0m\u001b[0mpredict\u001b[0m\u001b[0;34m(\u001b[0m\u001b[0mtest_features_content_predictedfirst\u001b[0m\u001b[0;34m)\u001b[0m\u001b[0;34m\u001b[0m\u001b[0;34m\u001b[0m\u001b[0m\n\u001b[0m",
      "\u001b[0;32m~/Applications/anaconda3/lib/python3.8/site-packages/sklearn/linear_model/_base.py\u001b[0m in \u001b[0;36mpredict\u001b[0;34m(self, X)\u001b[0m\n\u001b[1;32m    307\u001b[0m             \u001b[0mPredicted\u001b[0m \u001b[0;32mclass\u001b[0m \u001b[0mlabel\u001b[0m \u001b[0mper\u001b[0m \u001b[0msample\u001b[0m\u001b[0;34m.\u001b[0m\u001b[0;34m\u001b[0m\u001b[0;34m\u001b[0m\u001b[0m\n\u001b[1;32m    308\u001b[0m         \"\"\"\n\u001b[0;32m--> 309\u001b[0;31m         \u001b[0mscores\u001b[0m \u001b[0;34m=\u001b[0m \u001b[0mself\u001b[0m\u001b[0;34m.\u001b[0m\u001b[0mdecision_function\u001b[0m\u001b[0;34m(\u001b[0m\u001b[0mX\u001b[0m\u001b[0;34m)\u001b[0m\u001b[0;34m\u001b[0m\u001b[0;34m\u001b[0m\u001b[0m\n\u001b[0m\u001b[1;32m    310\u001b[0m         \u001b[0;32mif\u001b[0m \u001b[0mlen\u001b[0m\u001b[0;34m(\u001b[0m\u001b[0mscores\u001b[0m\u001b[0;34m.\u001b[0m\u001b[0mshape\u001b[0m\u001b[0;34m)\u001b[0m \u001b[0;34m==\u001b[0m \u001b[0;36m1\u001b[0m\u001b[0;34m:\u001b[0m\u001b[0;34m\u001b[0m\u001b[0;34m\u001b[0m\u001b[0m\n\u001b[1;32m    311\u001b[0m             \u001b[0mindices\u001b[0m \u001b[0;34m=\u001b[0m \u001b[0;34m(\u001b[0m\u001b[0mscores\u001b[0m \u001b[0;34m>\u001b[0m \u001b[0;36m0\u001b[0m\u001b[0;34m)\u001b[0m\u001b[0;34m.\u001b[0m\u001b[0mastype\u001b[0m\u001b[0;34m(\u001b[0m\u001b[0mint\u001b[0m\u001b[0;34m)\u001b[0m\u001b[0;34m\u001b[0m\u001b[0;34m\u001b[0m\u001b[0m\n",
      "\u001b[0;32m~/Applications/anaconda3/lib/python3.8/site-packages/sklearn/linear_model/_base.py\u001b[0m in \u001b[0;36mdecision_function\u001b[0;34m(self, X)\u001b[0m\n\u001b[1;32m    286\u001b[0m         \u001b[0mn_features\u001b[0m \u001b[0;34m=\u001b[0m \u001b[0mself\u001b[0m\u001b[0;34m.\u001b[0m\u001b[0mcoef_\u001b[0m\u001b[0;34m.\u001b[0m\u001b[0mshape\u001b[0m\u001b[0;34m[\u001b[0m\u001b[0;36m1\u001b[0m\u001b[0;34m]\u001b[0m\u001b[0;34m\u001b[0m\u001b[0;34m\u001b[0m\u001b[0m\n\u001b[1;32m    287\u001b[0m         \u001b[0;32mif\u001b[0m \u001b[0mX\u001b[0m\u001b[0;34m.\u001b[0m\u001b[0mshape\u001b[0m\u001b[0;34m[\u001b[0m\u001b[0;36m1\u001b[0m\u001b[0;34m]\u001b[0m \u001b[0;34m!=\u001b[0m \u001b[0mn_features\u001b[0m\u001b[0;34m:\u001b[0m\u001b[0;34m\u001b[0m\u001b[0;34m\u001b[0m\u001b[0m\n\u001b[0;32m--> 288\u001b[0;31m             raise ValueError(\"X has %d features per sample; expecting %d\"\n\u001b[0m\u001b[1;32m    289\u001b[0m                              % (X.shape[1], n_features))\n\u001b[1;32m    290\u001b[0m \u001b[0;34m\u001b[0m\u001b[0m\n",
      "\u001b[0;31mValueError\u001b[0m: X has 23566 features per sample; expecting 48552"
     ]
    }
   ],
   "source": [
    "model = LinearSVC()\n",
    "model.fit(train_features_content_realfirst, train_target)\n",
    "prediction = model.predict(test_features_content_predictedfirst)"
   ]
  },
  {
   "cell_type": "code",
   "execution_count": null,
   "id": "c387d751",
   "metadata": {},
   "outputs": [],
   "source": []
  },
  {
   "cell_type": "code",
   "execution_count": null,
   "id": "df55a594",
   "metadata": {},
   "outputs": [],
   "source": []
  },
  {
   "cell_type": "code",
   "execution_count": null,
   "id": "cd3a5d94",
   "metadata": {},
   "outputs": [],
   "source": []
  },
  {
   "cell_type": "code",
   "execution_count": null,
   "id": "3fe8972c",
   "metadata": {},
   "outputs": [],
   "source": [
    "# model.fit(X_train, y_train)\n",
    "# y_pred = model.predict(X_test)\n",
    "\n",
    "# print(\"TF-IDF_Accuracy\",metrics.accuracy_score(y_test, y_pred))\n",
    "# print(\"TF-IDF_Precision\",metrics.precision_score(y_test, y_pred,average='weighted'))\n",
    "# print(\"TF-IDF_Recall\",metrics.recall_score(y_test, y_pred,average='weighted'))\n",
    "# print(\"TF-IDF_F1-score\",metrics.f1_score(y_test, y_pred,average='weighted'))"
   ]
  },
  {
   "cell_type": "code",
   "execution_count": 68,
   "id": "fb30aefe",
   "metadata": {},
   "outputs": [],
   "source": []
  },
  {
   "cell_type": "markdown",
   "id": "f2e0d6f2",
   "metadata": {},
   "source": [
    "https://datascience.stackexchange.com/questions/22813/using-tf-idf-with-other-features-in-scikit-learn\n",
    "\n",
    "1) hstack\n",
    "2) build pipeline"
   ]
  },
  {
   "cell_type": "code",
   "execution_count": null,
   "id": "92612658",
   "metadata": {},
   "outputs": [],
   "source": []
  },
  {
   "cell_type": "code",
   "execution_count": null,
   "id": "13f850f4",
   "metadata": {},
   "outputs": [],
   "source": []
  },
  {
   "cell_type": "code",
   "execution_count": null,
   "id": "c8808b86",
   "metadata": {},
   "outputs": [],
   "source": []
  },
  {
   "cell_type": "code",
   "execution_count": null,
   "id": "15b63ac8",
   "metadata": {},
   "outputs": [],
   "source": []
  },
  {
   "cell_type": "code",
   "execution_count": null,
   "id": "1b536dea",
   "metadata": {},
   "outputs": [],
   "source": []
  },
  {
   "cell_type": "code",
   "execution_count": null,
   "id": "42a8127d",
   "metadata": {},
   "outputs": [],
   "source": [
    "# tfidf = TfidfVectorizer(sublinear_tf=True, min_df=5, norm='l2', ngram_range=(1, 2), stop_words='english')\n",
    "# features = tfidf.fit_transform(two_levels2['cleaned_content']).toarray()\n",
    "# labels = two_levels2['first']\n",
    "# X_train, X_test, y_train, y_test = train_test_split(features, labels, test_size=0.33, random_state=0)\n",
    "# model = LinearSVC()\n",
    "# model.fit(X_train, y_train)\n",
    "# y_pred = model.predict(X_test)"
   ]
  },
  {
   "cell_type": "markdown",
   "id": "12032334",
   "metadata": {},
   "source": [
    "# Q) How can we use two X features and split into X_train, X_test, y_train, y_test...?"
   ]
  },
  {
   "cell_type": "code",
   "execution_count": 66,
   "id": "20ba779c",
   "metadata": {},
   "outputs": [
    {
     "ename": "ValueError",
     "evalue": "Found input variables with inconsistent numbers of samples: [12316, 9192]",
     "output_type": "error",
     "traceback": [
      "\u001b[0;31m---------------------------------------------------------------------------\u001b[0m",
      "\u001b[0;31mValueError\u001b[0m                                Traceback (most recent call last)",
      "\u001b[0;32m<ipython-input-66-f93edbb3f85c>\u001b[0m in \u001b[0;36m<module>\u001b[0;34m\u001b[0m\n\u001b[0;32m----> 1\u001b[0;31m \u001b[0mX_train\u001b[0m\u001b[0;34m,\u001b[0m \u001b[0my_train\u001b[0m \u001b[0;34m=\u001b[0m \u001b[0mtrain_test_split\u001b[0m\u001b[0;34m(\u001b[0m\u001b[0mtrain_features\u001b[0m\u001b[0;34m,\u001b[0m \u001b[0msecond_labels\u001b[0m \u001b[0;34m,\u001b[0m \u001b[0mtest_size\u001b[0m\u001b[0;34m=\u001b[0m\u001b[0;36m0.33\u001b[0m\u001b[0;34m)\u001b[0m\u001b[0;34m\u001b[0m\u001b[0;34m\u001b[0m\u001b[0m\n\u001b[0m",
      "\u001b[0;32m~/Applications/anaconda3/lib/python3.8/site-packages/sklearn/model_selection/_split.py\u001b[0m in \u001b[0;36mtrain_test_split\u001b[0;34m(test_size, train_size, random_state, shuffle, stratify, *arrays)\u001b[0m\n\u001b[1;32m   2170\u001b[0m         \u001b[0;32mraise\u001b[0m \u001b[0mValueError\u001b[0m\u001b[0;34m(\u001b[0m\u001b[0;34m\"At least one array required as input\"\u001b[0m\u001b[0;34m)\u001b[0m\u001b[0;34m\u001b[0m\u001b[0;34m\u001b[0m\u001b[0m\n\u001b[1;32m   2171\u001b[0m \u001b[0;34m\u001b[0m\u001b[0m\n\u001b[0;32m-> 2172\u001b[0;31m     \u001b[0marrays\u001b[0m \u001b[0;34m=\u001b[0m \u001b[0mindexable\u001b[0m\u001b[0;34m(\u001b[0m\u001b[0;34m*\u001b[0m\u001b[0marrays\u001b[0m\u001b[0;34m)\u001b[0m\u001b[0;34m\u001b[0m\u001b[0;34m\u001b[0m\u001b[0m\n\u001b[0m\u001b[1;32m   2173\u001b[0m \u001b[0;34m\u001b[0m\u001b[0m\n\u001b[1;32m   2174\u001b[0m     \u001b[0mn_samples\u001b[0m \u001b[0;34m=\u001b[0m \u001b[0m_num_samples\u001b[0m\u001b[0;34m(\u001b[0m\u001b[0marrays\u001b[0m\u001b[0;34m[\u001b[0m\u001b[0;36m0\u001b[0m\u001b[0;34m]\u001b[0m\u001b[0;34m)\u001b[0m\u001b[0;34m\u001b[0m\u001b[0;34m\u001b[0m\u001b[0m\n",
      "\u001b[0;32m~/Applications/anaconda3/lib/python3.8/site-packages/sklearn/utils/validation.py\u001b[0m in \u001b[0;36mindexable\u001b[0;34m(*iterables)\u001b[0m\n\u001b[1;32m    297\u001b[0m     \"\"\"\n\u001b[1;32m    298\u001b[0m     \u001b[0mresult\u001b[0m \u001b[0;34m=\u001b[0m \u001b[0;34m[\u001b[0m\u001b[0m_make_indexable\u001b[0m\u001b[0;34m(\u001b[0m\u001b[0mX\u001b[0m\u001b[0;34m)\u001b[0m \u001b[0;32mfor\u001b[0m \u001b[0mX\u001b[0m \u001b[0;32min\u001b[0m \u001b[0miterables\u001b[0m\u001b[0;34m]\u001b[0m\u001b[0;34m\u001b[0m\u001b[0;34m\u001b[0m\u001b[0m\n\u001b[0;32m--> 299\u001b[0;31m     \u001b[0mcheck_consistent_length\u001b[0m\u001b[0;34m(\u001b[0m\u001b[0;34m*\u001b[0m\u001b[0mresult\u001b[0m\u001b[0;34m)\u001b[0m\u001b[0;34m\u001b[0m\u001b[0;34m\u001b[0m\u001b[0m\n\u001b[0m\u001b[1;32m    300\u001b[0m     \u001b[0;32mreturn\u001b[0m \u001b[0mresult\u001b[0m\u001b[0;34m\u001b[0m\u001b[0;34m\u001b[0m\u001b[0m\n\u001b[1;32m    301\u001b[0m \u001b[0;34m\u001b[0m\u001b[0m\n",
      "\u001b[0;32m~/Applications/anaconda3/lib/python3.8/site-packages/sklearn/utils/validation.py\u001b[0m in \u001b[0;36mcheck_consistent_length\u001b[0;34m(*arrays)\u001b[0m\n\u001b[1;32m    260\u001b[0m     \u001b[0muniques\u001b[0m \u001b[0;34m=\u001b[0m \u001b[0mnp\u001b[0m\u001b[0;34m.\u001b[0m\u001b[0munique\u001b[0m\u001b[0;34m(\u001b[0m\u001b[0mlengths\u001b[0m\u001b[0;34m)\u001b[0m\u001b[0;34m\u001b[0m\u001b[0;34m\u001b[0m\u001b[0m\n\u001b[1;32m    261\u001b[0m     \u001b[0;32mif\u001b[0m \u001b[0mlen\u001b[0m\u001b[0;34m(\u001b[0m\u001b[0muniques\u001b[0m\u001b[0;34m)\u001b[0m \u001b[0;34m>\u001b[0m \u001b[0;36m1\u001b[0m\u001b[0;34m:\u001b[0m\u001b[0;34m\u001b[0m\u001b[0;34m\u001b[0m\u001b[0m\n\u001b[0;32m--> 262\u001b[0;31m         raise ValueError(\"Found input variables with inconsistent numbers of\"\n\u001b[0m\u001b[1;32m    263\u001b[0m                          \" samples: %r\" % [int(l) for l in lengths])\n\u001b[1;32m    264\u001b[0m \u001b[0;34m\u001b[0m\u001b[0m\n",
      "\u001b[0;31mValueError\u001b[0m: Found input variables with inconsistent numbers of samples: [12316, 9192]"
     ]
    }
   ],
   "source": [
    "X_train, y_train = train_test_split(train_features, second_labels , test_size=0.33)\n"
   ]
  },
  {
   "cell_type": "code",
   "execution_count": null,
   "id": "5313c93e",
   "metadata": {},
   "outputs": [],
   "source": [
    "X_train, y_train = train_test_split(train_features, second_labels , test_size=0.33)\n",
    "X_test, y_test = train_test_split(test_features, second_labels , test_size=0.33)"
   ]
  },
  {
   "cell_type": "code",
   "execution_count": null,
   "id": "3e5ea263",
   "metadata": {},
   "outputs": [],
   "source": [
    "# tfidf = TfidfVectorizer(sublinear_tf=True, min_df=5, norm='l2', ngram_range=(1, 2), stop_words='english')\n",
    "# features = tfidf.fit_transform(two_levels2['cleaned_content']).toarray()\n",
    "# labels = two_levels2['first']\n",
    "# X_train, X_test, y_train, y_test = train_test_split(features, labels, test_size=0.33, random_state=0)\n",
    "# model = LinearSVC()\n",
    "# model.fit(X_train, y_train)\n",
    "# y_pred = model.predict(X_test)"
   ]
  },
  {
   "cell_type": "code",
   "execution_count": null,
   "id": "752a38a4",
   "metadata": {},
   "outputs": [],
   "source": [
    "model = LinearSVC()\n",
    "model.fit(X_train, y_train)\n",
    "y_pred = model.predict(X_test)"
   ]
  },
  {
   "cell_type": "code",
   "execution_count": null,
   "id": "d88c8cc7",
   "metadata": {},
   "outputs": [],
   "source": []
  },
  {
   "cell_type": "code",
   "execution_count": null,
   "id": "cd6d2315",
   "metadata": {},
   "outputs": [],
   "source": [
    "tfidf = TfidfVectorizer(sublinear_tf=True, min_df=5, norm='l2', ngram_range=(1, 2), stop_words='english')\n",
    "train_features = tfidf.fit_transform(first_level['cleaned_content_train', \"first_level\"]).toarray()\n",
    "test_features = tfidf.fit_transform(first_level['cleaned_content_test', y_pred]).toarray()\n",
    "\n",
    "labels = first_level['second']\n",
    "\n",
    "#X_train, X_test, y_train, y_test = train_test_split(features, labels, test_size=0.33, random_state=0)\n",
    "\n",
    "# do not do the train_test_split above,\n",
    "\n",
    "# With train_features, you need to make two things: X_train, y_train\n",
    "# With test_feautures, you need to make two things: X_test, y_test \n",
    "# --> This is because during test, it should not include first level information!! you only have content!\n",
    "\n",
    "# and then do the followings.\n",
    "model = LinearSVC()\n",
    "model.fit(X_train, y_train)\n",
    "y_pred = model.predict(X_test)\n"
   ]
  },
  {
   "cell_type": "markdown",
   "id": "9a6fecc9",
   "metadata": {},
   "source": [
    "\n",
    "\n",
    "\n",
    "\n",
    "model2 = model2(Feature, L2)\n",
    "\n",
    "or\n",
    "\n",
    "model2 = model2(Feature + y_pred of Level1, level2)\n",
    "\n",
    "*** Feature+y_pred of Level1 --> this should be training data\n"
   ]
  },
  {
   "cell_type": "code",
   "execution_count": 51,
   "id": "c184872b",
   "metadata": {},
   "outputs": [
    {
     "data": {
      "text/plain": [
       "9169"
      ]
     },
     "execution_count": 51,
     "metadata": {},
     "output_type": "execute_result"
    }
   ],
   "source": [
    "len(features)"
   ]
  },
  {
   "cell_type": "markdown",
   "id": "7401b3f0",
   "metadata": {},
   "source": [
    "## Q) but how can I deal with all the Nans in 2,3,4th levels?"
   ]
  },
  {
   "cell_type": "markdown",
   "id": "0182f1b6",
   "metadata": {},
   "source": [
    "# Q) How do I make it for hierarchical classifications?"
   ]
  },
  {
   "cell_type": "markdown",
   "id": "e68b7867",
   "metadata": {},
   "source": [
    "# Q) Error in Pre-process 'content' using spaCy"
   ]
  },
  {
   "cell_type": "code",
   "execution_count": 10,
   "id": "7c5c2040",
   "metadata": {},
   "outputs": [],
   "source": [
    "#pip install -U spacy"
   ]
  },
  {
   "cell_type": "code",
   "execution_count": 11,
   "id": "fd189a3e",
   "metadata": {
    "scrolled": true
   },
   "outputs": [],
   "source": [
    "import spacy"
   ]
  },
  {
   "cell_type": "code",
   "execution_count": null,
   "id": "ee9ca32e",
   "metadata": {},
   "outputs": [],
   "source": [
    "#conda install -c conda-forge spacy"
   ]
  },
  {
   "cell_type": "code",
   "execution_count": 18,
   "id": "e58e2e86",
   "metadata": {},
   "outputs": [
    {
     "ename": "OSError",
     "evalue": "[E050] Can't find model 'en'. It doesn't seem to be a shortcut link, a Python package or a valid path to a data directory.",
     "output_type": "error",
     "traceback": [
      "\u001b[0;31m---------------------------------------------------------------------------\u001b[0m",
      "\u001b[0;31mOSError\u001b[0m                                   Traceback (most recent call last)",
      "\u001b[0;32m<ipython-input-18-b3a1fb6fff88>\u001b[0m in \u001b[0;36m<module>\u001b[0;34m\u001b[0m\n\u001b[0;32m----> 1\u001b[0;31m \u001b[0mnlp\u001b[0m \u001b[0;34m=\u001b[0m \u001b[0mspacy\u001b[0m\u001b[0;34m.\u001b[0m\u001b[0mload\u001b[0m\u001b[0;34m(\u001b[0m\u001b[0;34m\"en\"\u001b[0m\u001b[0;34m)\u001b[0m\u001b[0;34m\u001b[0m\u001b[0;34m\u001b[0m\u001b[0m\n\u001b[0m\u001b[1;32m      2\u001b[0m \u001b[0;34m\u001b[0m\u001b[0m\n\u001b[1;32m      3\u001b[0m \u001b[0;31m# English pipeline optimized for CPU. Components: tok2vec, tagger, parser, senter, ner, attribute_ruler, lemmatizer.\u001b[0m\u001b[0;34m\u001b[0m\u001b[0;34m\u001b[0m\u001b[0;34m\u001b[0m\u001b[0m\n",
      "\u001b[0;32m~/Applications/anaconda3/lib/python3.8/site-packages/spacy/__init__.py\u001b[0m in \u001b[0;36mload\u001b[0;34m(name, **overrides)\u001b[0m\n\u001b[1;32m     28\u001b[0m     \u001b[0;32mif\u001b[0m \u001b[0mdepr_path\u001b[0m \u001b[0;32mnot\u001b[0m \u001b[0;32min\u001b[0m \u001b[0;34m(\u001b[0m\u001b[0;32mTrue\u001b[0m\u001b[0;34m,\u001b[0m \u001b[0;32mFalse\u001b[0m\u001b[0;34m,\u001b[0m \u001b[0;32mNone\u001b[0m\u001b[0;34m)\u001b[0m\u001b[0;34m:\u001b[0m\u001b[0;34m\u001b[0m\u001b[0;34m\u001b[0m\u001b[0m\n\u001b[1;32m     29\u001b[0m         \u001b[0mwarnings\u001b[0m\u001b[0;34m.\u001b[0m\u001b[0mwarn\u001b[0m\u001b[0;34m(\u001b[0m\u001b[0mWarnings\u001b[0m\u001b[0;34m.\u001b[0m\u001b[0mW001\u001b[0m\u001b[0;34m.\u001b[0m\u001b[0mformat\u001b[0m\u001b[0;34m(\u001b[0m\u001b[0mpath\u001b[0m\u001b[0;34m=\u001b[0m\u001b[0mdepr_path\u001b[0m\u001b[0;34m)\u001b[0m\u001b[0;34m,\u001b[0m \u001b[0mDeprecationWarning\u001b[0m\u001b[0;34m)\u001b[0m\u001b[0;34m\u001b[0m\u001b[0;34m\u001b[0m\u001b[0m\n\u001b[0;32m---> 30\u001b[0;31m     \u001b[0;32mreturn\u001b[0m \u001b[0mutil\u001b[0m\u001b[0;34m.\u001b[0m\u001b[0mload_model\u001b[0m\u001b[0;34m(\u001b[0m\u001b[0mname\u001b[0m\u001b[0;34m,\u001b[0m \u001b[0;34m**\u001b[0m\u001b[0moverrides\u001b[0m\u001b[0;34m)\u001b[0m\u001b[0;34m\u001b[0m\u001b[0;34m\u001b[0m\u001b[0m\n\u001b[0m\u001b[1;32m     31\u001b[0m \u001b[0;34m\u001b[0m\u001b[0m\n\u001b[1;32m     32\u001b[0m \u001b[0;34m\u001b[0m\u001b[0m\n",
      "\u001b[0;32m~/Applications/anaconda3/lib/python3.8/site-packages/spacy/util.py\u001b[0m in \u001b[0;36mload_model\u001b[0;34m(name, **overrides)\u001b[0m\n\u001b[1;32m    173\u001b[0m     \u001b[0;32melif\u001b[0m \u001b[0mhasattr\u001b[0m\u001b[0;34m(\u001b[0m\u001b[0mname\u001b[0m\u001b[0;34m,\u001b[0m \u001b[0;34m\"exists\"\u001b[0m\u001b[0;34m)\u001b[0m\u001b[0;34m:\u001b[0m  \u001b[0;31m# Path or Path-like to model data\u001b[0m\u001b[0;34m\u001b[0m\u001b[0;34m\u001b[0m\u001b[0m\n\u001b[1;32m    174\u001b[0m         \u001b[0;32mreturn\u001b[0m \u001b[0mload_model_from_path\u001b[0m\u001b[0;34m(\u001b[0m\u001b[0mname\u001b[0m\u001b[0;34m,\u001b[0m \u001b[0;34m**\u001b[0m\u001b[0moverrides\u001b[0m\u001b[0;34m)\u001b[0m\u001b[0;34m\u001b[0m\u001b[0;34m\u001b[0m\u001b[0m\n\u001b[0;32m--> 175\u001b[0;31m     \u001b[0;32mraise\u001b[0m \u001b[0mIOError\u001b[0m\u001b[0;34m(\u001b[0m\u001b[0mErrors\u001b[0m\u001b[0;34m.\u001b[0m\u001b[0mE050\u001b[0m\u001b[0;34m.\u001b[0m\u001b[0mformat\u001b[0m\u001b[0;34m(\u001b[0m\u001b[0mname\u001b[0m\u001b[0;34m=\u001b[0m\u001b[0mname\u001b[0m\u001b[0;34m)\u001b[0m\u001b[0;34m)\u001b[0m\u001b[0;34m\u001b[0m\u001b[0;34m\u001b[0m\u001b[0m\n\u001b[0m\u001b[1;32m    176\u001b[0m \u001b[0;34m\u001b[0m\u001b[0m\n\u001b[1;32m    177\u001b[0m \u001b[0;34m\u001b[0m\u001b[0m\n",
      "\u001b[0;31mOSError\u001b[0m: [E050] Can't find model 'en'. It doesn't seem to be a shortcut link, a Python package or a valid path to a data directory."
     ]
    }
   ],
   "source": [
    "nlp = spacy.load(\"en\")\n",
    "\n",
    "# English pipeline optimized for CPU. Components: tok2vec, tagger, parser, senter, ner, attribute_ruler, lemmatizer."
   ]
  },
  {
   "cell_type": "code",
   "execution_count": 15,
   "id": "82d20f15",
   "metadata": {
    "scrolled": false
   },
   "outputs": [
    {
     "ename": "SyntaxError",
     "evalue": "invalid syntax (<ipython-input-15-fc4d5d118d23>, line 1)",
     "output_type": "error",
     "traceback": [
      "\u001b[0;36m  File \u001b[0;32m\"<ipython-input-15-fc4d5d118d23>\"\u001b[0;36m, line \u001b[0;32m1\u001b[0m\n\u001b[0;31m    python -m spacy download en\u001b[0m\n\u001b[0m              ^\u001b[0m\n\u001b[0;31mSyntaxError\u001b[0m\u001b[0;31m:\u001b[0m invalid syntax\n"
     ]
    }
   ],
   "source": [
    "python -m spacy download en"
   ]
  },
  {
   "cell_type": "code",
   "execution_count": 16,
   "id": "6a637b3d",
   "metadata": {},
   "outputs": [
    {
     "ename": "OSError",
     "evalue": "[E050] Can't find model 'en_core_web_sm'. It doesn't seem to be a shortcut link, a Python package or a valid path to a data directory.",
     "output_type": "error",
     "traceback": [
      "\u001b[0;31m---------------------------------------------------------------------------\u001b[0m",
      "\u001b[0;31mOSError\u001b[0m                                   Traceback (most recent call last)",
      "\u001b[0;32m<ipython-input-16-11c18f7d8e9e>\u001b[0m in \u001b[0;36m<module>\u001b[0;34m\u001b[0m\n\u001b[0;32m----> 1\u001b[0;31m \u001b[0mnlp\u001b[0m \u001b[0;34m=\u001b[0m \u001b[0mspacy\u001b[0m\u001b[0;34m.\u001b[0m\u001b[0mload\u001b[0m\u001b[0;34m(\u001b[0m\u001b[0;34m'en_core_web_sm'\u001b[0m\u001b[0;34m)\u001b[0m\u001b[0;34m\u001b[0m\u001b[0;34m\u001b[0m\u001b[0m\n\u001b[0m",
      "\u001b[0;32m~/Applications/anaconda3/lib/python3.8/site-packages/spacy/__init__.py\u001b[0m in \u001b[0;36mload\u001b[0;34m(name, **overrides)\u001b[0m\n\u001b[1;32m     28\u001b[0m     \u001b[0;32mif\u001b[0m \u001b[0mdepr_path\u001b[0m \u001b[0;32mnot\u001b[0m \u001b[0;32min\u001b[0m \u001b[0;34m(\u001b[0m\u001b[0;32mTrue\u001b[0m\u001b[0;34m,\u001b[0m \u001b[0;32mFalse\u001b[0m\u001b[0;34m,\u001b[0m \u001b[0;32mNone\u001b[0m\u001b[0;34m)\u001b[0m\u001b[0;34m:\u001b[0m\u001b[0;34m\u001b[0m\u001b[0;34m\u001b[0m\u001b[0m\n\u001b[1;32m     29\u001b[0m         \u001b[0mwarnings\u001b[0m\u001b[0;34m.\u001b[0m\u001b[0mwarn\u001b[0m\u001b[0;34m(\u001b[0m\u001b[0mWarnings\u001b[0m\u001b[0;34m.\u001b[0m\u001b[0mW001\u001b[0m\u001b[0;34m.\u001b[0m\u001b[0mformat\u001b[0m\u001b[0;34m(\u001b[0m\u001b[0mpath\u001b[0m\u001b[0;34m=\u001b[0m\u001b[0mdepr_path\u001b[0m\u001b[0;34m)\u001b[0m\u001b[0;34m,\u001b[0m \u001b[0mDeprecationWarning\u001b[0m\u001b[0;34m)\u001b[0m\u001b[0;34m\u001b[0m\u001b[0;34m\u001b[0m\u001b[0m\n\u001b[0;32m---> 30\u001b[0;31m     \u001b[0;32mreturn\u001b[0m \u001b[0mutil\u001b[0m\u001b[0;34m.\u001b[0m\u001b[0mload_model\u001b[0m\u001b[0;34m(\u001b[0m\u001b[0mname\u001b[0m\u001b[0;34m,\u001b[0m \u001b[0;34m**\u001b[0m\u001b[0moverrides\u001b[0m\u001b[0;34m)\u001b[0m\u001b[0;34m\u001b[0m\u001b[0;34m\u001b[0m\u001b[0m\n\u001b[0m\u001b[1;32m     31\u001b[0m \u001b[0;34m\u001b[0m\u001b[0m\n\u001b[1;32m     32\u001b[0m \u001b[0;34m\u001b[0m\u001b[0m\n",
      "\u001b[0;32m~/Applications/anaconda3/lib/python3.8/site-packages/spacy/util.py\u001b[0m in \u001b[0;36mload_model\u001b[0;34m(name, **overrides)\u001b[0m\n\u001b[1;32m    173\u001b[0m     \u001b[0;32melif\u001b[0m \u001b[0mhasattr\u001b[0m\u001b[0;34m(\u001b[0m\u001b[0mname\u001b[0m\u001b[0;34m,\u001b[0m \u001b[0;34m\"exists\"\u001b[0m\u001b[0;34m)\u001b[0m\u001b[0;34m:\u001b[0m  \u001b[0;31m# Path or Path-like to model data\u001b[0m\u001b[0;34m\u001b[0m\u001b[0;34m\u001b[0m\u001b[0m\n\u001b[1;32m    174\u001b[0m         \u001b[0;32mreturn\u001b[0m \u001b[0mload_model_from_path\u001b[0m\u001b[0;34m(\u001b[0m\u001b[0mname\u001b[0m\u001b[0;34m,\u001b[0m \u001b[0;34m**\u001b[0m\u001b[0moverrides\u001b[0m\u001b[0;34m)\u001b[0m\u001b[0;34m\u001b[0m\u001b[0;34m\u001b[0m\u001b[0m\n\u001b[0;32m--> 175\u001b[0;31m     \u001b[0;32mraise\u001b[0m \u001b[0mIOError\u001b[0m\u001b[0;34m(\u001b[0m\u001b[0mErrors\u001b[0m\u001b[0;34m.\u001b[0m\u001b[0mE050\u001b[0m\u001b[0;34m.\u001b[0m\u001b[0mformat\u001b[0m\u001b[0;34m(\u001b[0m\u001b[0mname\u001b[0m\u001b[0;34m=\u001b[0m\u001b[0mname\u001b[0m\u001b[0;34m)\u001b[0m\u001b[0;34m)\u001b[0m\u001b[0;34m\u001b[0m\u001b[0;34m\u001b[0m\u001b[0m\n\u001b[0m\u001b[1;32m    176\u001b[0m \u001b[0;34m\u001b[0m\u001b[0m\n\u001b[1;32m    177\u001b[0m \u001b[0;34m\u001b[0m\u001b[0m\n",
      "\u001b[0;31mOSError\u001b[0m: [E050] Can't find model 'en_core_web_sm'. It doesn't seem to be a shortcut link, a Python package or a valid path to a data directory."
     ]
    }
   ],
   "source": [
    "nlp = spacy.load('en_core_web_sm') "
   ]
  },
  {
   "cell_type": "code",
   "execution_count": 17,
   "id": "f86ee015",
   "metadata": {},
   "outputs": [
    {
     "ename": "SyntaxError",
     "evalue": "invalid syntax (<ipython-input-17-e8a31c0c54ec>, line 1)",
     "output_type": "error",
     "traceback": [
      "\u001b[0;36m  File \u001b[0;32m\"<ipython-input-17-e8a31c0c54ec>\"\u001b[0;36m, line \u001b[0;32m1\u001b[0m\n\u001b[0;31m    python -m spacy download en_core_web_sm\u001b[0m\n\u001b[0m              ^\u001b[0m\n\u001b[0;31mSyntaxError\u001b[0m\u001b[0;31m:\u001b[0m invalid syntax\n"
     ]
    }
   ],
   "source": [
    "python -m spacy download en_core_web_sm"
   ]
  },
  {
   "cell_type": "code",
   "execution_count": 19,
   "id": "8335e6c7",
   "metadata": {
    "scrolled": false
   },
   "outputs": [
    {
     "ename": "ModuleNotFoundError",
     "evalue": "No module named 'en_core_web_sm'",
     "output_type": "error",
     "traceback": [
      "\u001b[0;31m---------------------------------------------------------------------------\u001b[0m",
      "\u001b[0;31mModuleNotFoundError\u001b[0m                       Traceback (most recent call last)",
      "\u001b[0;32m<ipython-input-19-de00b2b879e1>\u001b[0m in \u001b[0;36m<module>\u001b[0;34m\u001b[0m\n\u001b[0;32m----> 1\u001b[0;31m \u001b[0;32mimport\u001b[0m \u001b[0men_core_web_sm\u001b[0m\u001b[0;34m\u001b[0m\u001b[0;34m\u001b[0m\u001b[0m\n\u001b[0m\u001b[1;32m      2\u001b[0m \u001b[0;34m\u001b[0m\u001b[0m\n\u001b[1;32m      3\u001b[0m \u001b[0mnlp\u001b[0m \u001b[0;34m=\u001b[0m \u001b[0men_core_web_sm\u001b[0m\u001b[0;34m.\u001b[0m\u001b[0mload\u001b[0m\u001b[0;34m(\u001b[0m\u001b[0;34m)\u001b[0m\u001b[0;34m\u001b[0m\u001b[0;34m\u001b[0m\u001b[0m\n",
      "\u001b[0;31mModuleNotFoundError\u001b[0m: No module named 'en_core_web_sm'"
     ]
    }
   ],
   "source": [
    "import en_core_web_sm\n",
    "\n",
    "nlp = en_core_web_sm.load()"
   ]
  },
  {
   "cell_type": "code",
   "execution_count": null,
   "id": "e81aa675",
   "metadata": {},
   "outputs": [],
   "source": [
    "\n",
    "def cleaning(content):\n",
    "    removal = ['ADV', 'PRON', 'CCONJ', 'PUNCT','PART','DET','ADP','SPACE']\n",
    "    text_out = []\n",
    "    doc = nlp(text)\n",
    "    for tokens in doc:\n",
    "        if tokens.is_stop == False and tokens.is_alpha and len(tokens)>2 and tokens.pos_ not in removal:\n",
    "            lemma = tokens.lemma_\n",
    "            text_out.append(lemma)\n",
    "    return text_out       "
   ]
  },
  {
   "cell_type": "code",
   "execution_count": null,
   "id": "416ad31b",
   "metadata": {},
   "outputs": [],
   "source": [
    "preprocessed = newdf.content.apply(lambda x: cleaning(x))"
   ]
  },
  {
   "cell_type": "markdown",
   "id": "45f44d08",
   "metadata": {},
   "source": [
    "is_alpha: Does the token consist of alphabetic characters?\n",
    "\n",
    "pos_: Coarse-grained part-of-speech from the Universal POS tag set\n",
    "\n",
    "lemma_ : to get root word as a dictionary form of a word, by removing inflectional endings only. This converts word contractions such as \"can't\" to \"can\" and \"not\""
   ]
  },
  {
   "cell_type": "markdown",
   "id": "9b9b3c9a",
   "metadata": {},
   "source": [
    "References:\n",
    "https://towardsdatascience.com/setting-up-text-preprocessing-pipeline-using-scikit-learn-and-spacy-e09b9b76758f\n",
    "https://gist.github.com/smsubrahmannian/2835bd32c688b7b57a5300f94af07b1b\n",
    "\n",
    "- the Universal POS tag set\n",
    "\n",
    "ADJ: adjective\n",
    "ADP: adposition\n",
    "ADV: adverb\n",
    "AUX: auxiliary\n",
    "CCONJ: coordinating conjunction\n",
    "DET: determiner\n",
    "INTJ: interjection\n",
    "NOUN: noun\n",
    "NUM: numeral\n",
    "PART: particle\n",
    "PRON: pronoun\n",
    "PROPN: proper noun\n",
    "PUNCT: punctuation\n",
    "SCONJ: subordinating conjunction\n",
    "SYM: symbol\n",
    "VERB: verb\n",
    "X: other\n"
   ]
  },
  {
   "cell_type": "code",
   "execution_count": null,
   "id": "f3d26714",
   "metadata": {},
   "outputs": [],
   "source": []
  },
  {
   "cell_type": "code",
   "execution_count": null,
   "id": "e0e72d6f",
   "metadata": {},
   "outputs": [],
   "source": []
  },
  {
   "cell_type": "code",
   "execution_count": null,
   "id": "071cd730",
   "metadata": {},
   "outputs": [],
   "source": []
  },
  {
   "cell_type": "code",
   "execution_count": null,
   "id": "ce0f86b5",
   "metadata": {},
   "outputs": [],
   "source": []
  },
  {
   "cell_type": "code",
   "execution_count": null,
   "id": "3a8d2b6f",
   "metadata": {},
   "outputs": [],
   "source": []
  },
  {
   "cell_type": "code",
   "execution_count": null,
   "id": "b8221649",
   "metadata": {},
   "outputs": [],
   "source": []
  },
  {
   "cell_type": "code",
   "execution_count": null,
   "id": "f8355b48",
   "metadata": {},
   "outputs": [],
   "source": []
  },
  {
   "cell_type": "code",
   "execution_count": null,
   "id": "937ae9a6",
   "metadata": {},
   "outputs": [],
   "source": [
    "#mydf.hierarchy = mydf.hierarchy.str.replace(\"\\\", \"\")\n",
    "#from pandas.io.json import json_normalize\n",
    "#lol = json_normalize(data = mydf, record_path ='hierarchy', meta =['first', 'second', 'third', 'fourth'])"
   ]
  },
  {
   "cell_type": "code",
   "execution_count": null,
   "id": "28ba83a3",
   "metadata": {},
   "outputs": [],
   "source": []
  }
 ],
 "metadata": {
  "kernelspec": {
   "display_name": "Python 3",
   "language": "python",
   "name": "python3"
  },
  "language_info": {
   "codemirror_mode": {
    "name": "ipython",
    "version": 3
   },
   "file_extension": ".py",
   "mimetype": "text/x-python",
   "name": "python",
   "nbconvert_exporter": "python",
   "pygments_lexer": "ipython3",
   "version": "3.8.8"
  }
 },
 "nbformat": 4,
 "nbformat_minor": 5
}
